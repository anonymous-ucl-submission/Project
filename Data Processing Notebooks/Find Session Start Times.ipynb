{
 "cells": [
  {
   "cell_type": "markdown",
   "metadata": {},
   "source": [
    "# **Find Session Start Times**\n",
    "\n",
    "- Finds the exact start times for each track for each session for each year (ideally this should have been done with the export data function but was added on later"
   ]
  },
  {
   "cell_type": "code",
   "execution_count": 1,
   "metadata": {},
   "outputs": [],
   "source": [
    "import clr\n",
    "import matplotlib.pyplot as plt\n",
    "import sys\n",
    "import csv\n",
    "sys.path.insert(0, \"C:/Program Files (x86)/F1 Racing/SUDS\")\n",
    "clr.AddReference('SUDS')\n",
    "import SUDS"
   ]
  },
  {
   "cell_type": "code",
   "execution_count": 2,
   "metadata": {},
   "outputs": [],
   "source": [
    "## load in the data ##\n",
    "\n",
    "# specifying the season, event and the session (this is incase we use practice session data later on)\n",
    "\n",
    "def load_data(season, event, session):\n",
    "    \n",
    "    if 'data' not in locals(): # this prevent you from loading all the data every time if working in the console - from RM\n",
    "        data_path = r\"C:\\Users\\Nel\\Documents\\Historic data\\%s\\%s %s.rwp\" % (season, event, session)\n",
    "        data = SUDS.RWProject(data_path)\n",
    "        data.Load()\n",
    "        session_data = data.SessionData\n",
    "    \n",
    "    return session_data"
   ]
  },
  {
   "cell_type": "code",
   "execution_count": 3,
   "metadata": {},
   "outputs": [],
   "source": [
    "events_2020 = ['07_05A1r', '07_12A1r', '07_19Bud', '08_02Sil', '08_09Sil', '08_16Bcn', '08_30Spa', '09_06Mza',\n",
    "             '09_13Mug', '09_27Soc', '10_11Nur', '10_25Por', '11_01Imo', '11_15Ist', '11_29Bah', '12_06Bah',\n",
    "             '12_13Abu']\n",
    "\n",
    "events_2019 = ['03_17Mel', '03_31Bah', '04_14Sha', '04_28Bak', '05_12Bcn', '05_26Mco', '06_09Mtl', '06_23Prd',\n",
    "             '06_30A1r', '07_14Sil', '07_28Hok', '08_04Bud', '09_01Spa', '09_08Mza', '09_22Sgp', '09_29Soc',\n",
    "             '10_13Suz', '10_27Mex', '11_03Aus', '11_17Int', '12_01Abu']\n",
    "\n",
    "events_2018 = ['03_25Mel', '04_08Bah', '04_15Sha', '04_29Bak', '05_13Bcn', '05_27Mco', '06_10Mtl', '06_24Prd',\n",
    "             '07_01A1r', '07_08Sil', '07_22Hok', '07_29Bud', '08_26Spa', '09_02Mza', '09_16Sgp', '09_30Soc',\n",
    "             '10_07Suz', '10_21Aus', '10_28Mex', '11_11Int', '11_25Abu']\n",
    "\n",
    "events_2017 = ['03_26Mel', '04_09Sha', '04_16Bah', '04_30Soc', '05_14Bcn', '05_28Mco', '06_11Mtl', '06_25Bak',\n",
    "             '07_09A1r', '07_16Sil', '07_30Bud', '08_27Spa', '09_03Mza', '09_17Sgp', '10_01Sep', '10_08Suz',\n",
    "             '10_22Aus', '10_29Mex', '11_12Int', '11_26Abu']"
   ]
  },
  {
   "cell_type": "code",
   "execution_count": 7,
   "metadata": {},
   "outputs": [
    {
     "name": "stdout",
     "output_type": "stream",
     "text": [
      "07_05A1r\n",
      "07_12A1r\n",
      "07_19Bud\n",
      "08_02Sil\n",
      "08_09Sil\n",
      "08_16Bcn\n",
      "08_30Spa\n",
      "09_06Mza\n",
      "09_13Mug\n",
      "09_27Soc\n",
      "10_11Nur\n",
      "10_25Por\n",
      "11_01Imo\n",
      "11_15Ist\n",
      "11_29Bah\n",
      "12_06Bah\n",
      "12_13Abu\n"
     ]
    }
   ],
   "source": [
    "for event in events_2020:\n",
    "\n",
    "    try: \n",
    "        d = load_data('2020', event, 'Qu')\n",
    "        #print(event)\n",
    "    \n",
    "        with open(r'C:\\Users\\Nel\\Documents\\Timings\\%s_%s_%s.csv' % (event, 'TimeQu', '2020'), 'w') as csvfile:\n",
    "\n",
    "            # header for csv data\n",
    "            fieldnames = ['Session', 'Start Time']\n",
    "\n",
    "            writer = csv.DictWriter(csvfile, fieldnames = fieldnames)\n",
    "            writer.writeheader()\n",
    "\n",
    "            # Loop over qualifying session, driver and lap ignoring the in and out laps\n",
    "            for session in d.SubSessions:\n",
    "                \n",
    "                try: # try means that if it cant be found for some reason it wont give an error - instead it will run the except code\n",
    "                    Sesh = session # session\n",
    "                except:\n",
    "                    Sesh = \" \"\n",
    "\n",
    "                try:\n",
    "                    Time = session.StartTime\n",
    "                except:\n",
    "                    Time = \" \"\n",
    "\n",
    "\n",
    "                writer.writerow({'Session': Sesh, 'Start Time': Time})\n",
    "        d.Dispose()\n",
    "    \n",
    "    except:\n",
    "        pass"
   ]
  }
 ],
 "metadata": {
  "kernelspec": {
   "display_name": "Python 3",
   "language": "python",
   "name": "python3"
  },
  "language_info": {
   "codemirror_mode": {
    "name": "ipython",
    "version": 3
   },
   "file_extension": ".py",
   "mimetype": "text/x-python",
   "name": "python",
   "nbconvert_exporter": "python",
   "pygments_lexer": "ipython3",
   "version": "3.8.3"
  }
 },
 "nbformat": 4,
 "nbformat_minor": 4
}
