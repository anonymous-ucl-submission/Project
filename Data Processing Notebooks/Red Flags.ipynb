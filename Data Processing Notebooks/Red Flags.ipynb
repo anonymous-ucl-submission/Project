{
 "cells": [
  {
   "cell_type": "markdown",
   "metadata": {},
   "source": [
    "# **Were there red flags?**\n",
    "\n",
    "- Finds which sessions had red flags for each event"
   ]
  },
  {
   "cell_type": "code",
   "execution_count": 1,
   "metadata": {},
   "outputs": [],
   "source": [
    "import clr\n",
    "import matplotlib.pyplot as plt\n",
    "import sys\n",
    "import csv\n",
    "sys.path.insert(0, \"C:/Program Files (x86)/F1 Racing/SUDS\")\n",
    "clr.AddReference('SUDS')\n",
    "import SUDS\n",
    "import pandas as pd"
   ]
  },
  {
   "cell_type": "code",
   "execution_count": 2,
   "metadata": {},
   "outputs": [],
   "source": [
    "## load in the data ##\n",
    "\n",
    "# specifying the season, event and the session (this is incase we use practice session data later on)\n",
    "\n",
    "def load_data(season, event, session):\n",
    "    \n",
    "    if 'data' not in locals(): # this prevent you from loading all the data every time if working in the console - from RM\n",
    "        data_path = r\"C:\\Users\\Nel\\Documents\\Historic data\\%s\\%s %s.rwp\" % (season, event, session)\n",
    "        data = SUDS.RWProject(data_path)\n",
    "        data.Load()\n",
    "        session_data = data.SessionData\n",
    "    \n",
    "    return session_data"
   ]
  },
  {
   "cell_type": "code",
   "execution_count": 3,
   "metadata": {},
   "outputs": [],
   "source": [
    "## list of events in each season ##\n",
    "\n",
    "events_2020 = ['07_05A1r', '07_12A1r', '07_19Bud', '08_02Sil', '08_09Sil', '08_16Bcn', '08_30Spa', '09_06Mza',\n",
    "             '09_13Mug', '09_27Soc', '10_11Nur', '10_25Por', '11_01Imo', '11_15Ist', '11_29Bah', '12_06Bah',\n",
    "             '12_13Abu']\n",
    "\n",
    "events_2019 = ['03_17Mel', '03_31Bah', '04_14Sha', '04_28Bak', '05_12Bcn', '05_26Mco', '06_09Mtl', '06_23Prd',\n",
    "             '06_30A1r', '07_14Sil', '07_28Hok', '08_04Bud', '09_01Spa', '09_08Mza', '09_22Sgp', '09_29Soc',\n",
    "             '10_13Suz', '10_27Mex', '11_03Aus', '11_17Int', '12_01Abu']\n",
    "\n",
    "events_2018 = ['03_25Mel', '04_08Bah', '04_15Sha', '04_29Bak', '05_13Bcn', '05_27Mco', '06_10Mtl', '06_24Prd',\n",
    "             '07_01A1r', '07_08Sil', '07_22Hok', '07_29Bud', '08_26Spa', '09_02Mza', '09_16Sgp', '09_30Soc',\n",
    "             '10_07Suz', '10_21Aus', '10_28Mex', '11_11Int', '11_25Abu']\n",
    "\n",
    "events_2017 = ['03_26Mel', '04_09Sha', '04_16Bah', '04_30Soc', '05_14Bcn', '05_28Mco', '06_11Mtl', '06_25Bak',\n",
    "             '07_09A1r', '07_16Sil', '07_30Bud', '08_27Spa', '09_03Mza', '09_17Sgp', '10_01Sep', '10_08Suz',\n",
    "             '10_22Aus', '10_29Mex', '11_12Int', '11_26Abu']"
   ]
  },
  {
   "cell_type": "code",
   "execution_count": 4,
   "metadata": {},
   "outputs": [],
   "source": [
    "## function returns a dictionary that identifies when red flags occured for each event in a specified season ##\n",
    "\n",
    "def get_red_flags(year, events_list, session_type):\n",
    "    \n",
    "    red_flags = {}\n",
    "\n",
    "    for event in events_list:\n",
    "\n",
    "        d = load_data(year, event, session_type) # load the event\n",
    "\n",
    "        event_dict = {}\n",
    "        \n",
    "\n",
    "        for session in d.SubSessions:\n",
    "            \n",
    "            trackstates = [] # list to store the flag states for the current session\n",
    "            qualifier = str(session)[-2:] # returns the session name i.e Q1/Q2\n",
    "\n",
    "\n",
    "            for trackstate in session.TrackStates:\n",
    "                trackstates.append(trackstate.TrackState) # per session append the track states to the trackstates list\n",
    "\n",
    "            event_dict[qualifier] = trackstates # update the event dictionary with {Q1: [states], Q2: ...}\n",
    "\n",
    "        event_dict = {x: 1 if 4 in y else 0 for (x, y) in event_dict.items()} # 4 is a red flag, so if it is a red flag set it to 1 or 0 otherwise\n",
    "\n",
    "        red_flags[str(event)] = event_dict\n",
    "\n",
    "        d.Dispose() # dispose of the event to remove from memory\n",
    "\n",
    "    return red_flags"
   ]
  },
  {
   "cell_type": "code",
   "execution_count": 5,
   "metadata": {},
   "outputs": [],
   "source": [
    "red_flags_2020 = get_red_flags('2020', events_2020, 'Qu')"
   ]
  },
  {
   "cell_type": "code",
   "execution_count": null,
   "metadata": {},
   "outputs": [],
   "source": [
    "red_flags_2019 = get_red_flags('2019', events_2019, 'Qu')"
   ]
  },
  {
   "cell_type": "code",
   "execution_count": null,
   "metadata": {},
   "outputs": [],
   "source": [
    "red_flags_2018 = get_red_flags('2018', events_2018, 'Qu')"
   ]
  },
  {
   "cell_type": "code",
   "execution_count": null,
   "metadata": {},
   "outputs": [],
   "source": [
    "red_flags_2017 = get_red_flags('2017', events_2017, 'Qu')"
   ]
  },
  {
   "cell_type": "code",
   "execution_count": 6,
   "metadata": {},
   "outputs": [
    {
     "data": {
      "text/plain": [
       "{'07_05A1r': {'Q1': 0, 'Q2': 0, 'Q3': 0},\n",
       " '07_12A1r': {'Q1': 1, 'Q2': 0, 'Q3': 0},\n",
       " '07_19Bud': {'Q1': 0, 'Q2': 0, 'Q3': 0},\n",
       " '08_02Sil': {'Q1': 0, 'Q2': 1, 'Q3': 0},\n",
       " '08_09Sil': {'Q1': 0, 'Q2': 0, 'Q3': 0},\n",
       " '08_16Bcn': {'Q1': 0, 'Q2': 0, 'Q3': 0},\n",
       " '08_30Spa': {'Q1': 0, 'Q2': 0, 'Q3': 0},\n",
       " '09_06Mza': {'Q1': 0},\n",
       " '09_13Mug': {'Q1': 0, 'Q2': 0, 'Q3': 0},\n",
       " '09_27Soc': {'Q1': 0, 'Q2': 1, 'Q3': 0},\n",
       " '10_11Nur': {'Q1': 0, 'Q2': 0, 'Q3': 0},\n",
       " '10_25Por': {'Q1': 0, 'Q2': 0, 'Q3': 0},\n",
       " '11_01Imo': {'Q1': 0, 'Q2': 0, 'Q3': 0},\n",
       " '11_15Ist': {'Q1': 1, 'Q2': 0, 'Q3': 0},\n",
       " '11_29Bah': {'Q1': 0, 'Q2': 1, 'Q3': 0},\n",
       " '12_06Bah': {'Q1': 0, 'Q2': 0, 'Q3': 0},\n",
       " '12_13Abu': {'Q1': 0, 'Q3': 0, 'Q2': 0}}"
      ]
     },
     "execution_count": 6,
     "metadata": {},
     "output_type": "execute_result"
    }
   ],
   "source": [
    "red_flags_2020 # note that MZA file was broken so this was fixed at a later stage but not shown here"
   ]
  },
  {
   "cell_type": "code",
   "execution_count": 9,
   "metadata": {},
   "outputs": [
    {
     "data": {
      "text/plain": [
       "{'03_17Mel': {'Q1': 0, 'Q2': 0, 'Q3': 0},\n",
       " '03_31Bah': {'Q1': 0, 'Q2': 0, 'Q3': 0},\n",
       " '04_14Sha': {'Q1': 0, 'Q2': 0, 'Q3': 0},\n",
       " '04_28Bak': {'Q1': 1, 'Q2': 1, 'Q3': 0},\n",
       " '05_12Bcn': {'Q1': 0, 'Q2': 0, 'Q3': 0},\n",
       " '05_26Mco': {'Q1': 0, 'Q2': 0, 'Q3': 0},\n",
       " '06_09Mtl': {'Q1': 0, 'Q2': 0, 'Q3': 0},\n",
       " '06_23Prd': {'Q1': 0, 'Q2': 0, 'Q3': 0},\n",
       " '06_30A1r': {'Q1': 0, 'Q2': 0, 'Q3': 0},\n",
       " '07_14Sil': {'Q1': 0, 'Q2': 0, 'Q3': 0},\n",
       " '07_28Hok': {'Q1': 0, 'Q2': 0, 'Q3': 0},\n",
       " '08_04Bud': {'Q1': 0, 'Q2': 0, 'Q3': 0},\n",
       " '09_01Spa': {'Q1': 1, 'Q2': 0, 'Q3': 0},\n",
       " '09_08Mza': {'Q1': 1, 'Q2': 0, 'Q3': 1},\n",
       " '09_22Sgp': {'Q1': 0, 'Q2': 0, 'Q3': 0},\n",
       " '09_29Soc': {'Q1': 1, 'Q2': 0, 'Q3': 0},\n",
       " '10_13Suz': {'Q1': 1, 'Q2': 0, 'Q3': 0},\n",
       " '10_27Mex': {'Q1': 0, 'Q2': 0, 'Q3': 0},\n",
       " '11_03Aus': {'Q1': 0, 'Q2': 0, 'Q3': 0},\n",
       " '11_17Int': {'Q1': 0, 'Q2': 0, 'Q3': 0},\n",
       " '12_01Abu': {'Q1': 0, 'Q2': 0, 'Q3': 0}}"
      ]
     },
     "execution_count": 9,
     "metadata": {},
     "output_type": "execute_result"
    }
   ],
   "source": [
    "red_flags_2019"
   ]
  },
  {
   "cell_type": "code",
   "execution_count": 11,
   "metadata": {},
   "outputs": [
    {
     "data": {
      "text/plain": [
       "{'03_25Mel': {'Q1': 0, 'Q2': 0, 'Q3': 1},\n",
       " '04_08Bah': {'Q1': 1, 'Q2': 0, 'Q3': 0},\n",
       " '04_15Sha': {'Q1': 0, 'Q2': 0, 'Q3': 0},\n",
       " '04_29Bak': {'Q1': 0, 'Q2': 0, 'Q3': 0},\n",
       " '05_13Bcn': {'Q1': 0, 'Q2': 0, 'Q3': 0},\n",
       " '05_27Mco': {'Q1': 0, 'Q2': 0, 'Q3': 0},\n",
       " '06_10Mtl': {'Q1': 0, 'Q2': 0, 'Q3': 0},\n",
       " '06_24Prd': {'Q1': 0, 'Q2': 0, 'Q3': 1},\n",
       " '07_01A1r': {'Q1': 0, 'Q2': 0, 'Q3': 0},\n",
       " '07_08Sil': {'Q1': 1, 'Q2': 0, 'Q3': 0},\n",
       " '07_22Hok': {'Q1': 0, 'Q2': 1, 'Q3': 0},\n",
       " '07_29Bud': {'Q1': 0, 'Q2': 0, 'Q3': 0},\n",
       " '08_26Spa': {'Q1': 0, 'Q2': 0, 'Q3': 0},\n",
       " '09_02Mza': {'Q1': 0, 'Q2': 0, 'Q3': 0},\n",
       " '09_16Sgp': {'Q1': 0, 'Q2': 0, 'Q3': 0},\n",
       " '09_30Soc': {'Q1': 0, 'Q2': 0, 'Q3': 0},\n",
       " '10_07Suz': {'Q1': 1, 'Q2': 0, 'Q3': 0},\n",
       " '10_21Aus': {'Q1': 0, 'Q2': 0, 'Q3': 0},\n",
       " '10_28Mex': {'Q1': 0, 'Q2': 0, 'Q3': 0},\n",
       " '11_11Int': {'Q1': 0, 'Q2': 0, 'Q3': 0},\n",
       " '11_25Abu': {'Q1': 0, 'Q2': 0, 'Q3': 0}}"
      ]
     },
     "execution_count": 11,
     "metadata": {},
     "output_type": "execute_result"
    }
   ],
   "source": [
    "red_flags_2018"
   ]
  },
  {
   "cell_type": "code",
   "execution_count": 13,
   "metadata": {},
   "outputs": [
    {
     "data": {
      "text/plain": [
       "{'03_26Mel': {'Q1': 0, 'Q2': 0, 'Q3': 1},\n",
       " '04_09Sha': {'Q1': 0, 'Q2': 0, 'Q3': 0},\n",
       " '04_16Bah': {'Q1': 0, 'Q2': 0, 'Q3': 0},\n",
       " '04_30Soc': {'Q1': 0, 'Q2': 0, 'Q3': 0},\n",
       " '05_14Bcn': {'Q1': 0, 'Q2': 0, 'Q3': 0},\n",
       " '05_28Mco': {'Q1': 0, 'Q2': 0, 'Q3': 0},\n",
       " '06_11Mtl': {'Q1': 0, 'Q2': 0, 'Q3': 0},\n",
       " '06_25Bak': {'Q1': 0, 'Q2': 0, 'Q3': 1},\n",
       " '07_09A1r': {'Q1': 0, 'Q2': 0, 'Q3': 0},\n",
       " '07_16Sil': {'Q1': 1, 'Q2': 0, 'Q3': 0},\n",
       " '07_30Bud': {'Q1': 0, 'Q2': 0, 'Q3': 0},\n",
       " '08_27Spa': {'Q1': 0, 'Q2': 0, 'Q3': 0},\n",
       " '09_03Mza': {'Q1': 1, 'Q2': 0, 'Q3': 0},\n",
       " '09_17Sgp': {'Q1': 0, 'Q2': 0, 'Q3': 0},\n",
       " '10_01Sep': {'Q1': 0, 'Q2': 0, 'Q3': 0},\n",
       " '10_08Suz': {'Q1': 1, 'Q2': 0, 'Q3': 0},\n",
       " '10_22Aus': {'Q1': 0, 'Q2': 0, 'Q3': 0},\n",
       " '10_29Mex': {'Q1': 0, 'Q2': 0, 'Q3': 0},\n",
       " '11_12Int': {'Q1': 1, 'Q2': 0, 'Q3': 0},\n",
       " '11_26Abu': {'Q1': 0, 'Q2': 0, 'Q3': 0}}"
      ]
     },
     "execution_count": 13,
     "metadata": {},
     "output_type": "execute_result"
    }
   ],
   "source": [
    "red_flags_2017"
   ]
  },
  {
   "cell_type": "code",
   "execution_count": 2,
   "metadata": {},
   "outputs": [
    {
     "data": {
      "text/plain": [
       "{'2020': {'07_05A1r': {'Q1': 0, 'Q2': 0, 'Q3': 0},\n",
       "  '07_12A1r': {'Q1': 1, 'Q2': 0, 'Q3': 0},\n",
       "  '07_19Bud': {'Q1': 0, 'Q2': 0, 'Q3': 0},\n",
       "  '08_02Sil': {'Q1': 0, 'Q2': 1, 'Q3': 0},\n",
       "  '08_09Sil': {'Q1': 0, 'Q2': 0, 'Q3': 0},\n",
       "  '08_16Bcn': {'Q1': 0, 'Q2': 0, 'Q3': 0},\n",
       "  '08_30Spa': {'Q1': 0, 'Q2': 0, 'Q3': 0},\n",
       "  '09_06Mza': {'Q1': 0},\n",
       "  '09_13Mug': {'Q1': 0, 'Q2': 0, 'Q3': 0},\n",
       "  '09_27Soc': {'Q1': 0, 'Q2': 1, 'Q3': 0},\n",
       "  '10_11Nur': {'Q1': 0, 'Q2': 0, 'Q3': 0},\n",
       "  '10_25Por': {'Q1': 0, 'Q2': 0, 'Q3': 0},\n",
       "  '11_01Imo': {'Q1': 0, 'Q2': 0, 'Q3': 0},\n",
       "  '11_15Ist': {'Q1': 1, 'Q2': 0, 'Q3': 0},\n",
       "  '11_29Bah': {'Q1': 0, 'Q2': 1, 'Q3': 0},\n",
       "  '12_06Bah': {'Q1': 0, 'Q2': 0, 'Q3': 0},\n",
       "  '12_13Abu': {'Q1': 0, 'Q3': 0, 'Q2': 0}},\n",
       " '2019': {'03_17Mel': {'Q1': 0, 'Q2': 0, 'Q3': 0},\n",
       "  '03_31Bah': {'Q1': 0, 'Q2': 0, 'Q3': 0},\n",
       "  '04_14Sha': {'Q1': 0, 'Q2': 0, 'Q3': 0},\n",
       "  '04_28Bak': {'Q1': 1, 'Q2': 1, 'Q3': 0},\n",
       "  '05_12Bcn': {'Q1': 0, 'Q2': 0, 'Q3': 0},\n",
       "  '05_26Mco': {'Q1': 0, 'Q2': 0, 'Q3': 0},\n",
       "  '06_09Mtl': {'Q1': 0, 'Q2': 0, 'Q3': 0},\n",
       "  '06_23Prd': {'Q1': 0, 'Q2': 0, 'Q3': 0},\n",
       "  '06_30A1r': {'Q1': 0, 'Q2': 0, 'Q3': 0},\n",
       "  '07_14Sil': {'Q1': 0, 'Q2': 0, 'Q3': 0},\n",
       "  '07_28Hok': {'Q1': 0, 'Q2': 0, 'Q3': 0},\n",
       "  '08_04Bud': {'Q1': 0, 'Q2': 0, 'Q3': 0},\n",
       "  '09_01Spa': {'Q1': 1, 'Q2': 0, 'Q3': 0},\n",
       "  '09_08Mza': {'Q1': 1, 'Q2': 0, 'Q3': 1},\n",
       "  '09_22Sgp': {'Q1': 0, 'Q2': 0, 'Q3': 0},\n",
       "  '09_29Soc': {'Q1': 1, 'Q2': 0, 'Q3': 0},\n",
       "  '10_13Suz': {'Q1': 1, 'Q2': 0, 'Q3': 0},\n",
       "  '10_27Mex': {'Q1': 0, 'Q2': 0, 'Q3': 0},\n",
       "  '11_03Aus': {'Q1': 0, 'Q2': 0, 'Q3': 0},\n",
       "  '11_17Int': {'Q1': 0, 'Q2': 0, 'Q3': 0},\n",
       "  '12_01Abu': {'Q1': 0, 'Q2': 0, 'Q3': 0}},\n",
       " '2018': {'03_25Mel': {'Q1': 0, 'Q2': 0, 'Q3': 1},\n",
       "  '04_08Bah': {'Q1': 1, 'Q2': 0, 'Q3': 0},\n",
       "  '04_15Sha': {'Q1': 0, 'Q2': 0, 'Q3': 0},\n",
       "  '04_29Bak': {'Q1': 0, 'Q2': 0, 'Q3': 0},\n",
       "  '05_13Bcn': {'Q1': 0, 'Q2': 0, 'Q3': 0},\n",
       "  '05_27Mco': {'Q1': 0, 'Q2': 0, 'Q3': 0},\n",
       "  '06_10Mtl': {'Q1': 0, 'Q2': 0, 'Q3': 0},\n",
       "  '06_24Prd': {'Q1': 0, 'Q2': 0, 'Q3': 1},\n",
       "  '07_01A1r': {'Q1': 0, 'Q2': 0, 'Q3': 0},\n",
       "  '07_08Sil': {'Q1': 1, 'Q2': 0, 'Q3': 0},\n",
       "  '07_22Hok': {'Q1': 0, 'Q2': 1, 'Q3': 0},\n",
       "  '07_29Bud': {'Q1': 0, 'Q2': 0, 'Q3': 0},\n",
       "  '08_26Spa': {'Q1': 0, 'Q2': 0, 'Q3': 0},\n",
       "  '09_02Mza': {'Q1': 0, 'Q2': 0, 'Q3': 0},\n",
       "  '09_16Sgp': {'Q1': 0, 'Q2': 0, 'Q3': 0},\n",
       "  '09_30Soc': {'Q1': 0, 'Q2': 0, 'Q3': 0},\n",
       "  '10_07Suz': {'Q1': 1, 'Q2': 0, 'Q3': 0},\n",
       "  '10_21Aus': {'Q1': 0, 'Q2': 0, 'Q3': 0},\n",
       "  '10_28Mex': {'Q1': 0, 'Q2': 0, 'Q3': 0},\n",
       "  '11_11Int': {'Q1': 0, 'Q2': 0, 'Q3': 0},\n",
       "  '11_25Abu': {'Q1': 0, 'Q2': 0, 'Q3': 0}},\n",
       " '2017': {'03_26Mel': {'Q1': 0, 'Q2': 0, 'Q3': 1},\n",
       "  '04_09Sha': {'Q1': 0, 'Q2': 0, 'Q3': 0},\n",
       "  '04_16Bah': {'Q1': 0, 'Q2': 0, 'Q3': 0},\n",
       "  '04_30Soc': {'Q1': 0, 'Q2': 0, 'Q3': 0},\n",
       "  '05_14Bcn': {'Q1': 0, 'Q2': 0, 'Q3': 0},\n",
       "  '05_28Mco': {'Q1': 0, 'Q2': 0, 'Q3': 0},\n",
       "  '06_11Mtl': {'Q1': 0, 'Q2': 0, 'Q3': 0},\n",
       "  '06_25Bak': {'Q1': 0, 'Q2': 0, 'Q3': 1},\n",
       "  '07_09A1r': {'Q1': 0, 'Q2': 0, 'Q3': 0},\n",
       "  '07_16Sil': {'Q1': 1, 'Q2': 0, 'Q3': 0},\n",
       "  '07_30Bud': {'Q1': 0, 'Q2': 0, 'Q3': 0},\n",
       "  '08_27Spa': {'Q1': 0, 'Q2': 0, 'Q3': 0},\n",
       "  '09_03Mza': {'Q1': 1, 'Q2': 0, 'Q3': 0},\n",
       "  '09_17Sgp': {'Q1': 0, 'Q2': 0, 'Q3': 0},\n",
       "  '10_01Sep': {'Q1': 0, 'Q2': 0, 'Q3': 0},\n",
       "  '10_08Suz': {'Q1': 1, 'Q2': 0, 'Q3': 0},\n",
       "  '10_22Aus': {'Q1': 0, 'Q2': 0, 'Q3': 0},\n",
       "  '10_29Mex': {'Q1': 0, 'Q2': 0, 'Q3': 0},\n",
       "  '11_12Int': {'Q1': 1, 'Q2': 0, 'Q3': 0},\n",
       "  '11_26Abu': {'Q1': 0, 'Q2': 0, 'Q3': 0}}}"
      ]
     },
     "execution_count": 2,
     "metadata": {},
     "output_type": "execute_result"
    }
   ],
   "source": [
    "red_flags"
   ]
  },
  {
   "cell_type": "code",
   "execution_count": null,
   "metadata": {},
   "outputs": [],
   "source": []
  }
 ],
 "metadata": {
  "kernelspec": {
   "display_name": "Python 3",
   "language": "python",
   "name": "python3"
  },
  "language_info": {
   "codemirror_mode": {
    "name": "ipython",
    "version": 3
   },
   "file_extension": ".py",
   "mimetype": "text/x-python",
   "name": "python",
   "nbconvert_exporter": "python",
   "pygments_lexer": "ipython3",
   "version": "3.8.3"
  }
 },
 "nbformat": 4,
 "nbformat_minor": 4
}
