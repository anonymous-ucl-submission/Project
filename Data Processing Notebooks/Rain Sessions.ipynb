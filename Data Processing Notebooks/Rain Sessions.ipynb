{
 "cells": [
  {
   "cell_type": "markdown",
   "metadata": {},
   "source": [
    "# **Was it Raining?**\n",
    "\n",
    "- This notebook finds which events had rain\n",
    "- It looks at all events and if the tyres used are wet tyres it returns the event name\n",
    "- Key observations: it didn't rain at Spa until Q3 so we can keep this data, it rained at silverstone for Q1 but this means the track was probably still wet for Q2 so ignore this data (despite use of dry tyres in Q2)"
   ]
  },
  {
   "cell_type": "code",
   "execution_count": 1,
   "metadata": {},
   "outputs": [],
   "source": [
    "import numpy as np\n",
    "import pandas as pd\n",
    "import os\n",
    "import itertools\n",
    "from collections import defaultdict\n",
    "import matplotlib.pyplot as plt\n",
    "from scipy.stats import norm"
   ]
  },
  {
   "cell_type": "code",
   "execution_count": 3,
   "metadata": {},
   "outputs": [],
   "source": [
    "## Getting a list of all event files in the right format for the read data function ##\n",
    "\n",
    "files = os.listdir('/Users/chanelbrown/Desktop/Notebooks/All CSV Files/') # All CSV Files contains all of 17/18/19/20\n",
    "\n",
    "events = []\n",
    "\n",
    "for file in files:\n",
    "    events.append(file[0:16])\n"
   ]
  },
  {
   "cell_type": "code",
   "execution_count": 7,
   "metadata": {},
   "outputs": [],
   "source": [
    "## Function reads data into a Pandas DataFrame from a CSV file ##\n",
    "\n",
    "def read_data(filename):\n",
    "    \n",
    "    df = pd.read_csv('/Users/chanelbrown/Desktop/Notebooks/All CSV Files/%s.csv' % (filename))\n",
    "    \n",
    "    # select required features\n",
    "    d = df[['Season', 'Circuit', 'Session', 'Driver Short Name', 'Team', 'Full Lap', 'Tyre Compound', 'Wet Tyre', 'Tyre type']].copy()\n",
    "    \n",
    "    ''' some sectors have missing values (probably where car has been taken off, \n",
    "    convert the white space to NaN objects and drop them'''\n",
    "    \n",
    "    d.replace(' ', np.nan, inplace = True) \n",
    "                                              \n",
    "    data = d.dropna()\n",
    "    \n",
    "    return data"
   ]
  },
  {
   "cell_type": "code",
   "execution_count": 8,
   "metadata": {},
   "outputs": [
    {
     "name": "stdout",
     "output_type": "stream",
     "text": [
      "A1-Ring 2020\n",
      "Monza 2017\n",
      "Istanbul 2020\n",
      "Spa 2018\n",
      "Budapest 2018\n",
      "Silverstone 2017\n"
     ]
    }
   ],
   "source": [
    "## Find which events had wet tyres ##\n",
    "\n",
    "for data in events:\n",
    "    \n",
    "    event = read_data(data)\n",
    "    \n",
    "    wet_tyre = list(event['Wet Tyre'])\n",
    "    \n",
    "    if True in wet_tyre:\n",
    "        print(event['Circuit'][0], event['Season'][0])\n",
    "    else:\n",
    "        pass"
   ]
  },
  {
   "cell_type": "code",
   "execution_count": 9,
   "metadata": {},
   "outputs": [
    {
     "name": "stdout",
     "output_type": "stream",
     "text": [
      "A1-Ring 2020\n",
      "Monza 2017\n",
      "Istanbul 2020\n",
      "Spa 2018\n",
      "Budapest 2018\n",
      "Silverstone 2017\n"
     ]
    }
   ],
   "source": [
    "## Find which events had wet tyres by looking at the wet compounds I and X ##\n",
    "\n",
    "for data in events:\n",
    "    \n",
    "    event = read_data(data)\n",
    "    \n",
    "    tyre_comp = list(event['Tyre Compound'])\n",
    "    \n",
    "    if 'I' in tyre_comp or 'X' in tyre_comp:\n",
    "        print(event['Circuit'][0], event['Season'][0])\n",
    "    else:\n",
    "        pass"
   ]
  },
  {
   "cell_type": "code",
   "execution_count": 13,
   "metadata": {},
   "outputs": [
    {
     "name": "stdout",
     "output_type": "stream",
     "text": [
      "Q1 A1-Ring 2020 07_12A1r_Qu_2020\n",
      "Q2 A1-Ring 2020 07_12A1r_Qu_2020\n",
      "Q1 Monza 2017 09_03Mza_Qu_2017\n",
      "Q2 Monza 2017 09_03Mza_Qu_2017\n",
      "Q1 Istanbul 2020 11_15Ist_Qu_2020\n",
      "Q2 Istanbul 2020 11_15Ist_Qu_2020\n",
      "Q1 Budapest 2018 07_29Bud_Qu_2018\n",
      "Q2 Budapest 2018 07_29Bud_Qu_2018\n",
      "Q1 Silverstone 2017 07_16Sil_Qu_2017\n"
     ]
    }
   ],
   "source": [
    "## Find which qualifying sessions out of Q1 and Q2 were wet by looking at compounds I and X ##\n",
    "\n",
    "for data in events:\n",
    "    \n",
    "    event = read_data(data)\n",
    "    \n",
    "    Q1_event = event[event.loc[:,'Session'] == 'Q1']\n",
    "    Q2_event = event[event.loc[:,'Session'] == 'Q2']\n",
    "    \n",
    "    tyre_comp_Q1 = list(Q1_event['Tyre Compound'])\n",
    "    tyre_comp_Q2 = list(Q2_event['Tyre Compound'])\n",
    "    \n",
    "    \n",
    "    if 'I' in tyre_comp_Q1 or 'X' in tyre_comp_Q1:\n",
    "        print('Q1', event['Circuit'][0], event['Season'][0], data)\n",
    "    else:\n",
    "        pass\n",
    "    \n",
    "    \n",
    "    if 'I' in tyre_comp_Q2 or 'X' in tyre_comp_Q2:\n",
    "        print('Q2', event['Circuit'][0], event['Season'][0], data)\n",
    "    else:\n",
    "        pass"
   ]
  },
  {
   "cell_type": "code",
   "execution_count": null,
   "metadata": {},
   "outputs": [],
   "source": []
  }
 ],
 "metadata": {
  "kernelspec": {
   "display_name": "Python 3",
   "language": "python",
   "name": "python3"
  },
  "language_info": {
   "codemirror_mode": {
    "name": "ipython",
    "version": 3
   },
   "file_extension": ".py",
   "mimetype": "text/x-python",
   "name": "python",
   "nbconvert_exporter": "python",
   "pygments_lexer": "ipython3",
   "version": "3.8.3"
  }
 },
 "nbformat": 4,
 "nbformat_minor": 4
}
