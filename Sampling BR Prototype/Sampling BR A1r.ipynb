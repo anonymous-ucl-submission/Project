{
 "cells": [
  {
   "cell_type": "markdown",
   "metadata": {
    "id": "ciUGC_LKDIVW"
   },
   "source": [
    "# **Sampling Bayesian Regression**\n",
    "\n",
    "Note that this was originally run on google colab so the spacing might need to be fixed."
   ]
  },
  {
   "cell_type": "code",
   "execution_count": null,
   "metadata": {
    "id": "yA24egmlDfm1"
   },
   "outputs": [],
   "source": [
    "import numpy as np\n",
    "import pandas as pd\n",
    "import seaborn as sns\n",
    "import matplotlib.pyplot as plt\n",
    "import scipy as sp\n",
    "from scipy.stats import norm\n",
    "\n",
    "import pymc3 as pm\n",
    "import arviz as az\n",
    "\n",
    "import pickle\n",
    "import copy as copy\n",
    "\n",
    "import itertools"
   ]
  },
  {
   "cell_type": "code",
   "execution_count": null,
   "metadata": {
    "id": "XyjVL5qjDmHb"
   },
   "outputs": [],
   "source": [
    "## Function reads data into a Pandas DataFrame from a CSV file ##\n",
    "\n",
    "def read_data(filename):\n",
    "    \n",
    "    df = pd.read_csv(filename)\n",
    "    \n",
    "    # select required features\n",
    "    d = df[['Season', 'Time of Day', 'Session', 'Driver Short Name', 'Full Lap']].copy()\n",
    "    \n",
    "    ''' some sectors have missing values (probably where car has been taken off, \n",
    "    convert the white space to NaN objects and drop them'''\n",
    "    \n",
    "    d.replace(' ', np.nan, inplace = True) \n",
    "                                              \n",
    "    data = d.dropna()\n",
    "    \n",
    "    return data"
   ]
  },
  {
   "cell_type": "code",
   "execution_count": null,
   "metadata": {
    "id": "B97KHDfiD8wq"
   },
   "outputs": [],
   "source": [
    "# read data\n",
    "data_20 = read_data('07_05A1r_Qu_2020.csv')\n",
    "data_19 = read_data('06_30A1r_Qu_2019.csv')\n",
    "data_18 = read_data('07_01A1r_Qu_2018.csv')\n",
    "data_17 = read_data('07_09A1r_Qu_2017.csv')\n",
    "\n",
    "# split data into Q1 and Q2 per year\n",
    "data_20_Q1 = data_20[data_20['Session'] == 'Q1']\n",
    "data_20_Q2 = data_20[data_20['Session'] == 'Q2']\n",
    "\n",
    "data_19_Q1 = data_19[data_19['Session'] == 'Q1']\n",
    "data_19_Q2 = data_19[data_19['Session'] == 'Q2']\n",
    "\n",
    "data_18_Q1 = data_18[data_18['Session'] == 'Q1']\n",
    "data_18_Q2 = data_18[data_18['Session'] == 'Q2']\n",
    "\n",
    "data_17_Q1 = data_17[data_17['Session'] == 'Q1']\n",
    "data_17_Q2 = data_17[data_17['Session'] == 'Q2']\n",
    "\n",
    "# order 2020 data by time (for real time updates)\n",
    "data_20_Q1 = data_20_Q1.sort_values(['Time of Day'])\n",
    "data_20_Q2 = data_20_Q2.sort_values(['Time of Day'])\n",
    "\n",
    "# list of DataFrames in the historicals for Q1 and Q2\n",
    "hist_data_Q1 = [data_19_Q1, data_18_Q1, data_17_Q1]\n",
    "hist_data_Q2 = [data_19_Q2, data_18_Q2, data_17_Q2]"
   ]
  },
  {
   "cell_type": "code",
   "execution_count": null,
   "metadata": {
    "colab": {
     "base_uri": "https://localhost:8080/"
    },
    "id": "z0I2HI1omDpB",
    "outputId": "2ddc0918-eb25-45d3-84e3-bee449c901a5"
   },
   "outputs": [
    {
     "name": "stdout",
     "output_type": "stream",
     "text": [
      "Q1 Start Time is: 14:59:59.9230000, Q2 Start Time is: 15:24:59.8980000\n"
     ]
    }
   ],
   "source": [
    "## Find the exact start time of each session ##\n",
    "\n",
    "timing = pd.read_csv('07_05A1r_TimeQu_2020.csv')\n",
    "Q1_start_time = timing.iloc[0, 1]\n",
    "Q2_start_time = timing.iloc[1, 1]\n",
    "\n",
    "print(f'Q1 Start Time is: {Q1_start_time}, Q2 Start Time is: {Q2_start_time}')"
   ]
  },
  {
   "cell_type": "code",
   "execution_count": null,
   "metadata": {
    "id": "MH0OvqDBEj1k"
   },
   "outputs": [],
   "source": [
    "names_2020 = np.unique(data_20['Driver Short Name']) # finds the drivers that raced in 2020 Q1\n",
    "names_2020_Q2 = np.unique(data_20_Q2['Driver Short Name']) # finds the drivers that raced in 2020 Q2"
   ]
  },
  {
   "cell_type": "code",
   "execution_count": null,
   "metadata": {
    "id": "zBBGOjYeE_e4"
   },
   "outputs": [],
   "source": [
    "## Fastest lap time per driver ##\n",
    "\n",
    "def best_lap(data, name): # driver name is a string i.e 'HAM'\n",
    "\n",
    "  if np.sum(data['Driver Short Name'] == name) > 0: # if there is data for the driver returns True\n",
    "    \n",
    "    df = data[data['Driver Short Name'] == name]\n",
    "    min_idx = np.where(df['Full Lap'] == np.min(df['Full Lap']))[0]\n",
    "    fastest = df.iloc[min_idx, :]\n",
    "\n",
    "    return fastest\n",
    "  \n",
    "  else: # if there is not data for the driver\n",
    "    return [0, 0, 0, 0, 0] # list of 5 - bigger than it can possible be so shows where there is missing data, \n",
    "                            # can use this to filter it out later\n"
   ]
  },
  {
   "cell_type": "code",
   "execution_count": null,
   "metadata": {
    "id": "rknCZ1kiMSHP"
   },
   "outputs": [],
   "source": [
    "## Store hisotircal best lap for all drivers for Q1 and Q2 2020 ##\n",
    "\n",
    "lap_dict_Q1 = {}\n",
    "\n",
    "for name in names_2020:\n",
    "  laps = pd.DataFrame()\n",
    "\n",
    "  for data in hist_data_Q1:\n",
    "    lap = best_lap(data, name)\n",
    "\n",
    "    if len(lap) < 5: # for drivers without historical data i.e LAT, just fill in blank lap (as found using best_lap function)\n",
    "      laps = laps.append(lap)\n",
    "  \n",
    "  lap_dict_Q1[name] = laps\n",
    "\n",
    "\n",
    "lap_dict_Q2 = {}\n",
    "\n",
    "for name in names_2020_Q2:\n",
    "  laps = pd.DataFrame()\n",
    "\n",
    "  for data in hist_data_Q2:\n",
    "    lap = best_lap(data, name)\n",
    "\n",
    "    if len(lap) < 5:\n",
    "      laps = laps.append(lap)\n",
    "  \n",
    "  lap_dict_Q2[name] = laps"
   ]
  },
  {
   "cell_type": "code",
   "execution_count": null,
   "metadata": {
    "colab": {
     "base_uri": "https://localhost:8080/"
    },
    "id": "DNxp0oD_MtQa",
    "outputId": "2eca0849-b59d-4d20-8577-281828354107"
   },
   "outputs": [
    {
     "data": {
      "text/plain": [
       "dict_keys(['ALB', 'BOT', 'GAS', 'GRO', 'HAM', 'KVY', 'LEC', 'NOR', 'OCO', 'PER', 'RIC', 'SAI', 'STR', 'VER', 'VET'])"
      ]
     },
     "execution_count": 10,
     "metadata": {},
     "output_type": "execute_result"
    }
   ],
   "source": [
    "lap_dict_Q2.keys()\n"
   ]
  },
  {
   "cell_type": "code",
   "execution_count": null,
   "metadata": {
    "id": "fxhCreSlIkzR"
   },
   "outputs": [],
   "source": [
    "## Model 1 to get the posterior on parameters given data = prior for model 2 ##\n",
    "\n",
    "def fitBR(inputs, observed, initial_params = None): \n",
    "\n",
    "  if initial_params != None:\n",
    "    initial_slope, inital_sigma, initial_intercept = initial_params # initial params should be a list of tuples (mu, std)\n",
    "  \n",
    "  else: # set non-informative priors for the parameters that have no historical data\n",
    "    initial_slope = (0, 10) \n",
    "    initial_intercept = (0, 10)\n",
    "    initial_sigma = (10,)\n",
    "\n",
    "  with pm.Model() as model:\n",
    "    intercept = pm.Normal('Intercept', mu = initial_intercept[0], sd = initial_intercept[1])\n",
    "    slope = pm.Normal('slope', mu = initial_slope[0], sd = initial_slope[1])\n",
    "    sigma = pm.HalfNormal('sigma', sd = initial_sigma[0])\n",
    "    #sigma = 1 \n",
    "\n",
    "    mean = intercept + slope * inputs\n",
    "    likelihood = pm.Normal('Y_obs', mu = mean, sd = sigma, observed = observed)\n",
    "    step = pm.NUTS() # run with gibbs\n",
    "    posterior = pm.sample(3000, step)\n",
    "\n",
    "  return posterior\n"
   ]
  },
  {
   "cell_type": "code",
   "execution_count": null,
   "metadata": {
    "id": "-O51tmDyHAzs"
   },
   "outputs": [],
   "source": [
    "## Function modified from: https://docs.pymc.io/pymc-examples/examples/pymc3_howto/updating_priors.html ##\n",
    "\n",
    "''' feed in trace for each parameter (intercept, slope, sigma) and the function fits a gaussian based on those samples and generates points between min sample\n",
    "and max sample to get a distribution '''\n",
    "\n",
    "def from_posterior(param, samples): \n",
    "\n",
    "    smin, smax = np.min(samples), np.max(samples) # samples from posterior (trace), takes the mean and max and fit another gaussian from posterior distribution\n",
    "    width = smax - smin\n",
    "    x = np.linspace(smin, smax, 100) \n",
    "    y = sp.stats.gaussian_kde(samples)(x) # gaussian evaluated at points where samples are, y is probability of samples\n",
    "\n",
    "    if param == 'sigma': # standard deviation cannot be negative, throws error if this is not changed\n",
    "      x = np.concatenate([x, [x[-1] + 3 * width]])\n",
    "      y = np.concatenate([y, [0]])\n",
    "    \n",
    "    else:\n",
    "      # what was never sampled should have a small probability but not 0,\n",
    "      # so extend the domain and use linear approximation of density on it\n",
    "      x = np.concatenate([[x[0] - 3 * width], x, [x[-1] + 3 * width]]) # add points that are 3 ranges away from both ends and assume probs are 0, so it knows when to stop interpolating\n",
    "      y = np.concatenate([[0], y, [0]])\n",
    "\n",
    "    return pm.distributions.Interpolated(param, x, y) "
   ]
  },
  {
   "cell_type": "code",
   "execution_count": null,
   "metadata": {
    "id": "xuqCOuAmIloF"
   },
   "outputs": [],
   "source": [
    "## Model 2 to update the posterior as new data gets fed in ##\n",
    "\n",
    "def updateBR(inputs, lap_time, posterior): \n",
    "\n",
    "  with pm.Model() as model2:\n",
    "\n",
    "    # set priors\n",
    "    model_slope = from_posterior('slope', posterior['slope'])\n",
    "    model_intercept = from_posterior('Intercept', posterior['Intercept'])\n",
    "    model_sigma = from_posterior('sigma', posterior['sigma'])\n",
    "\n",
    "    mean =  model_slope * inputs + model_intercept\n",
    "\n",
    "    likelihood = pm.Normal('Y_obs', mu = mean, sd = model_sigma, observed = lap_time)\n",
    "\n",
    "    step = pm.NUTS()\n",
    "\n",
    "    posterior2 = pm.sample(1000, step)\n",
    "\n",
    "  return posterior2"
   ]
  },
  {
   "cell_type": "code",
   "execution_count": null,
   "metadata": {
    "id": "B79FayNbIly-"
   },
   "outputs": [],
   "source": [
    "## Function returns what the predicted best laps would would be for each sample: y = mx + c\n",
    "## it returns the mean and standard deviations of these predictions ##\n",
    "\n",
    "def predict(input, traces):\n",
    "\n",
    "  preds = traces['slope'] * input + traces['Intercept']\n",
    "  mean_pred = np.mean(preds)\n",
    "  std_pred = np.std(preds)\n",
    "\n",
    "  return mean_pred, std_pred"
   ]
  },
  {
   "cell_type": "code",
   "execution_count": null,
   "metadata": {
    "colab": {
     "base_uri": "https://localhost:8080/",
     "height": 409
    },
    "id": "Q8PuO_NlMJ97",
    "outputId": "b199218e-d7fb-4622-d708-cffd05e837d5"
   },
   "outputs": [
    {
     "name": "stdout",
     "output_type": "stream",
     "text": [
      "Current Driver: ALB\n"
     ]
    },
    {
     "ename": "KeyboardInterrupt",
     "evalue": "ignored",
     "output_type": "error",
     "traceback": [
      "\u001b[0;31m---------------------------------------------------------------------------\u001b[0m",
      "\u001b[0;31mKeyboardInterrupt\u001b[0m                         Traceback (most recent call last)",
      "\u001b[0;32m<ipython-input-15-e78abd402bf6>\u001b[0m in \u001b[0;36m<module>\u001b[0;34m()\u001b[0m\n\u001b[1;32m     15\u001b[0m     \u001b[0mobserved\u001b[0m \u001b[0;34m=\u001b[0m \u001b[0mnp\u001b[0m\u001b[0;34m.\u001b[0m\u001b[0marray\u001b[0m\u001b[0;34m(\u001b[0m\u001b[0mdriver_data\u001b[0m\u001b[0;34m[\u001b[0m\u001b[0;34m'Full Lap'\u001b[0m\u001b[0;34m]\u001b[0m\u001b[0;34m)\u001b[0m \u001b[0;31m# label - full lap time (which is best lap per year from pre-processing above)\u001b[0m\u001b[0;34m\u001b[0m\u001b[0;34m\u001b[0m\u001b[0m\n\u001b[1;32m     16\u001b[0m \u001b[0;34m\u001b[0m\u001b[0m\n\u001b[0;32m---> 17\u001b[0;31m     \u001b[0mdriver_posterior\u001b[0m \u001b[0;34m=\u001b[0m \u001b[0mfitBR\u001b[0m\u001b[0;34m(\u001b[0m\u001b[0minputs\u001b[0m\u001b[0;34m,\u001b[0m \u001b[0mobserved\u001b[0m\u001b[0;34m)\u001b[0m \u001b[0;31m# fit historicals using Model 1\u001b[0m\u001b[0;34m\u001b[0m\u001b[0;34m\u001b[0m\u001b[0m\n\u001b[0m\u001b[1;32m     18\u001b[0m \u001b[0;34m\u001b[0m\u001b[0m\n\u001b[1;32m     19\u001b[0m     \u001b[0mdriver_prior\u001b[0m\u001b[0;34m[\u001b[0m\u001b[0mdriver\u001b[0m\u001b[0;34m]\u001b[0m \u001b[0;34m=\u001b[0m \u001b[0mdriver_posterior\u001b[0m \u001b[0;31m# update prior dictionary\u001b[0m\u001b[0;34m\u001b[0m\u001b[0;34m\u001b[0m\u001b[0m\n",
      "\u001b[0;32m<ipython-input-11-28f10ea3ffd9>\u001b[0m in \u001b[0;36mfitBR\u001b[0;34m(inputs, observed, initial_params)\u001b[0m\n\u001b[1;32m     12\u001b[0m \u001b[0;34m\u001b[0m\u001b[0m\n\u001b[1;32m     13\u001b[0m   \u001b[0;32mwith\u001b[0m \u001b[0mpm\u001b[0m\u001b[0;34m.\u001b[0m\u001b[0mModel\u001b[0m\u001b[0;34m(\u001b[0m\u001b[0;34m)\u001b[0m \u001b[0;32mas\u001b[0m \u001b[0mmodel\u001b[0m\u001b[0;34m:\u001b[0m\u001b[0;34m\u001b[0m\u001b[0;34m\u001b[0m\u001b[0m\n\u001b[0;32m---> 14\u001b[0;31m     \u001b[0mintercept\u001b[0m \u001b[0;34m=\u001b[0m \u001b[0mpm\u001b[0m\u001b[0;34m.\u001b[0m\u001b[0mNormal\u001b[0m\u001b[0;34m(\u001b[0m\u001b[0;34m'Intercept'\u001b[0m\u001b[0;34m,\u001b[0m \u001b[0mmu\u001b[0m \u001b[0;34m=\u001b[0m \u001b[0minitial_intercept\u001b[0m\u001b[0;34m[\u001b[0m\u001b[0;36m0\u001b[0m\u001b[0;34m]\u001b[0m\u001b[0;34m,\u001b[0m \u001b[0msd\u001b[0m \u001b[0;34m=\u001b[0m \u001b[0minitial_intercept\u001b[0m\u001b[0;34m[\u001b[0m\u001b[0;36m1\u001b[0m\u001b[0;34m]\u001b[0m\u001b[0;34m)\u001b[0m\u001b[0;34m\u001b[0m\u001b[0;34m\u001b[0m\u001b[0m\n\u001b[0m\u001b[1;32m     15\u001b[0m     \u001b[0mslope\u001b[0m \u001b[0;34m=\u001b[0m \u001b[0mpm\u001b[0m\u001b[0;34m.\u001b[0m\u001b[0mNormal\u001b[0m\u001b[0;34m(\u001b[0m\u001b[0;34m'slope'\u001b[0m\u001b[0;34m,\u001b[0m \u001b[0mmu\u001b[0m \u001b[0;34m=\u001b[0m \u001b[0minitial_slope\u001b[0m\u001b[0;34m[\u001b[0m\u001b[0;36m0\u001b[0m\u001b[0;34m]\u001b[0m\u001b[0;34m,\u001b[0m \u001b[0msd\u001b[0m \u001b[0;34m=\u001b[0m \u001b[0minitial_slope\u001b[0m\u001b[0;34m[\u001b[0m\u001b[0;36m1\u001b[0m\u001b[0;34m]\u001b[0m\u001b[0;34m)\u001b[0m\u001b[0;34m\u001b[0m\u001b[0;34m\u001b[0m\u001b[0m\n\u001b[1;32m     16\u001b[0m     \u001b[0msigma\u001b[0m \u001b[0;34m=\u001b[0m \u001b[0mpm\u001b[0m\u001b[0;34m.\u001b[0m\u001b[0mHalfNormal\u001b[0m\u001b[0;34m(\u001b[0m\u001b[0;34m'sigma'\u001b[0m\u001b[0;34m,\u001b[0m \u001b[0msd\u001b[0m \u001b[0;34m=\u001b[0m \u001b[0minitial_sigma\u001b[0m\u001b[0;34m[\u001b[0m\u001b[0;36m0\u001b[0m\u001b[0;34m]\u001b[0m\u001b[0;34m)\u001b[0m\u001b[0;34m\u001b[0m\u001b[0;34m\u001b[0m\u001b[0m\n",
      "\u001b[0;32m/usr/local/lib/python3.7/dist-packages/pymc3/distributions/distribution.py\u001b[0m in \u001b[0;36m__new__\u001b[0;34m(cls, name, *args, **kwargs)\u001b[0m\n\u001b[1;32m    119\u001b[0m             \u001b[0mdist\u001b[0m \u001b[0;34m=\u001b[0m \u001b[0mcls\u001b[0m\u001b[0;34m.\u001b[0m\u001b[0mdist\u001b[0m\u001b[0;34m(\u001b[0m\u001b[0;34m*\u001b[0m\u001b[0margs\u001b[0m\u001b[0;34m,\u001b[0m \u001b[0;34m**\u001b[0m\u001b[0mkwargs\u001b[0m\u001b[0;34m,\u001b[0m \u001b[0mshape\u001b[0m\u001b[0;34m=\u001b[0m\u001b[0mshape\u001b[0m\u001b[0;34m)\u001b[0m\u001b[0;34m\u001b[0m\u001b[0;34m\u001b[0m\u001b[0m\n\u001b[1;32m    120\u001b[0m         \u001b[0;32melse\u001b[0m\u001b[0;34m:\u001b[0m\u001b[0;34m\u001b[0m\u001b[0;34m\u001b[0m\u001b[0m\n\u001b[0;32m--> 121\u001b[0;31m             \u001b[0mdist\u001b[0m \u001b[0;34m=\u001b[0m \u001b[0mcls\u001b[0m\u001b[0;34m.\u001b[0m\u001b[0mdist\u001b[0m\u001b[0;34m(\u001b[0m\u001b[0;34m*\u001b[0m\u001b[0margs\u001b[0m\u001b[0;34m,\u001b[0m \u001b[0;34m**\u001b[0m\u001b[0mkwargs\u001b[0m\u001b[0;34m)\u001b[0m\u001b[0;34m\u001b[0m\u001b[0;34m\u001b[0m\u001b[0m\n\u001b[0m\u001b[1;32m    122\u001b[0m         \u001b[0;32mreturn\u001b[0m \u001b[0mmodel\u001b[0m\u001b[0;34m.\u001b[0m\u001b[0mVar\u001b[0m\u001b[0;34m(\u001b[0m\u001b[0mname\u001b[0m\u001b[0;34m,\u001b[0m \u001b[0mdist\u001b[0m\u001b[0;34m,\u001b[0m \u001b[0mdata\u001b[0m\u001b[0;34m,\u001b[0m \u001b[0mtotal_size\u001b[0m\u001b[0;34m,\u001b[0m \u001b[0mdims\u001b[0m\u001b[0;34m=\u001b[0m\u001b[0mdims\u001b[0m\u001b[0;34m)\u001b[0m\u001b[0;34m\u001b[0m\u001b[0;34m\u001b[0m\u001b[0m\n\u001b[1;32m    123\u001b[0m \u001b[0;34m\u001b[0m\u001b[0m\n",
      "\u001b[0;32m/usr/local/lib/python3.7/dist-packages/pymc3/distributions/distribution.py\u001b[0m in \u001b[0;36mdist\u001b[0;34m(cls, *args, **kwargs)\u001b[0m\n\u001b[1;32m    128\u001b[0m     \u001b[0;32mdef\u001b[0m \u001b[0mdist\u001b[0m\u001b[0;34m(\u001b[0m\u001b[0mcls\u001b[0m\u001b[0;34m,\u001b[0m \u001b[0;34m*\u001b[0m\u001b[0margs\u001b[0m\u001b[0;34m,\u001b[0m \u001b[0;34m**\u001b[0m\u001b[0mkwargs\u001b[0m\u001b[0;34m)\u001b[0m\u001b[0;34m:\u001b[0m\u001b[0;34m\u001b[0m\u001b[0;34m\u001b[0m\u001b[0m\n\u001b[1;32m    129\u001b[0m         \u001b[0mdist\u001b[0m \u001b[0;34m=\u001b[0m \u001b[0mobject\u001b[0m\u001b[0;34m.\u001b[0m\u001b[0m__new__\u001b[0m\u001b[0;34m(\u001b[0m\u001b[0mcls\u001b[0m\u001b[0;34m)\u001b[0m\u001b[0;34m\u001b[0m\u001b[0;34m\u001b[0m\u001b[0m\n\u001b[0;32m--> 130\u001b[0;31m         \u001b[0mdist\u001b[0m\u001b[0;34m.\u001b[0m\u001b[0m__init__\u001b[0m\u001b[0;34m(\u001b[0m\u001b[0;34m*\u001b[0m\u001b[0margs\u001b[0m\u001b[0;34m,\u001b[0m \u001b[0;34m**\u001b[0m\u001b[0mkwargs\u001b[0m\u001b[0;34m)\u001b[0m\u001b[0;34m\u001b[0m\u001b[0;34m\u001b[0m\u001b[0m\n\u001b[0m\u001b[1;32m    131\u001b[0m         \u001b[0;32mreturn\u001b[0m \u001b[0mdist\u001b[0m\u001b[0;34m\u001b[0m\u001b[0;34m\u001b[0m\u001b[0m\n\u001b[1;32m    132\u001b[0m \u001b[0;34m\u001b[0m\u001b[0m\n",
      "\u001b[0;32m/usr/local/lib/python3.7/dist-packages/pymc3/distributions/continuous.py\u001b[0m in \u001b[0;36m__init__\u001b[0;34m(self, mu, sigma, tau, sd, **kwargs)\u001b[0m\n\u001b[1;32m    486\u001b[0m \u001b[0;34m\u001b[0m\u001b[0m\n\u001b[1;32m    487\u001b[0m         \u001b[0mself\u001b[0m\u001b[0;34m.\u001b[0m\u001b[0mmean\u001b[0m \u001b[0;34m=\u001b[0m \u001b[0mself\u001b[0m\u001b[0;34m.\u001b[0m\u001b[0mmedian\u001b[0m \u001b[0;34m=\u001b[0m \u001b[0mself\u001b[0m\u001b[0;34m.\u001b[0m\u001b[0mmode\u001b[0m \u001b[0;34m=\u001b[0m \u001b[0mself\u001b[0m\u001b[0;34m.\u001b[0m\u001b[0mmu\u001b[0m \u001b[0;34m=\u001b[0m \u001b[0mmu\u001b[0m \u001b[0;34m=\u001b[0m \u001b[0mtt\u001b[0m\u001b[0;34m.\u001b[0m\u001b[0mas_tensor_variable\u001b[0m\u001b[0;34m(\u001b[0m\u001b[0mfloatX\u001b[0m\u001b[0;34m(\u001b[0m\u001b[0mmu\u001b[0m\u001b[0;34m)\u001b[0m\u001b[0;34m)\u001b[0m\u001b[0;34m\u001b[0m\u001b[0;34m\u001b[0m\u001b[0m\n\u001b[0;32m--> 488\u001b[0;31m         \u001b[0mself\u001b[0m\u001b[0;34m.\u001b[0m\u001b[0mvariance\u001b[0m \u001b[0;34m=\u001b[0m \u001b[0;36m1.0\u001b[0m \u001b[0;34m/\u001b[0m \u001b[0mself\u001b[0m\u001b[0;34m.\u001b[0m\u001b[0mtau\u001b[0m\u001b[0;34m\u001b[0m\u001b[0;34m\u001b[0m\u001b[0m\n\u001b[0m\u001b[1;32m    489\u001b[0m \u001b[0;34m\u001b[0m\u001b[0m\n\u001b[1;32m    490\u001b[0m         \u001b[0massert_negative_support\u001b[0m\u001b[0;34m(\u001b[0m\u001b[0msigma\u001b[0m\u001b[0;34m,\u001b[0m \u001b[0;34m\"sigma\"\u001b[0m\u001b[0;34m,\u001b[0m \u001b[0;34m\"Normal\"\u001b[0m\u001b[0;34m)\u001b[0m\u001b[0;34m\u001b[0m\u001b[0;34m\u001b[0m\u001b[0m\n",
      "\u001b[0;32m/usr/local/lib/python3.7/dist-packages/theano/tensor/var.py\u001b[0m in \u001b[0;36m__rtruediv__\u001b[0;34m(self, other)\u001b[0m\n\u001b[1;32m    174\u001b[0m \u001b[0;34m\u001b[0m\u001b[0m\n\u001b[1;32m    175\u001b[0m     \u001b[0;32mdef\u001b[0m \u001b[0m__rtruediv__\u001b[0m\u001b[0;34m(\u001b[0m\u001b[0mself\u001b[0m\u001b[0;34m,\u001b[0m \u001b[0mother\u001b[0m\u001b[0;34m)\u001b[0m\u001b[0;34m:\u001b[0m\u001b[0;34m\u001b[0m\u001b[0;34m\u001b[0m\u001b[0m\n\u001b[0;32m--> 176\u001b[0;31m         \u001b[0;32mreturn\u001b[0m \u001b[0mtheano\u001b[0m\u001b[0;34m.\u001b[0m\u001b[0mtensor\u001b[0m\u001b[0;34m.\u001b[0m\u001b[0mbasic\u001b[0m\u001b[0;34m.\u001b[0m\u001b[0mtrue_div\u001b[0m\u001b[0;34m(\u001b[0m\u001b[0mother\u001b[0m\u001b[0;34m,\u001b[0m \u001b[0mself\u001b[0m\u001b[0;34m)\u001b[0m\u001b[0;34m\u001b[0m\u001b[0;34m\u001b[0m\u001b[0m\n\u001b[0m\u001b[1;32m    177\u001b[0m \u001b[0;34m\u001b[0m\u001b[0m\n\u001b[1;32m    178\u001b[0m     \u001b[0;32mdef\u001b[0m \u001b[0m__rfloordiv__\u001b[0m\u001b[0;34m(\u001b[0m\u001b[0mself\u001b[0m\u001b[0;34m,\u001b[0m \u001b[0mother\u001b[0m\u001b[0;34m)\u001b[0m\u001b[0;34m:\u001b[0m\u001b[0;34m\u001b[0m\u001b[0;34m\u001b[0m\u001b[0m\n",
      "\u001b[0;32m/usr/local/lib/python3.7/dist-packages/theano/graph/op.py\u001b[0m in \u001b[0;36m__call__\u001b[0;34m(self, *inputs, **kwargs)\u001b[0m\n\u001b[1;32m    251\u001b[0m \u001b[0;34m\u001b[0m\u001b[0m\n\u001b[1;32m    252\u001b[0m         \u001b[0;32mif\u001b[0m \u001b[0mconfig\u001b[0m\u001b[0;34m.\u001b[0m\u001b[0mcompute_test_value\u001b[0m \u001b[0;34m!=\u001b[0m \u001b[0;34m\"off\"\u001b[0m\u001b[0;34m:\u001b[0m\u001b[0;34m\u001b[0m\u001b[0;34m\u001b[0m\u001b[0m\n\u001b[0;32m--> 253\u001b[0;31m             \u001b[0mcompute_test_value\u001b[0m\u001b[0;34m(\u001b[0m\u001b[0mnode\u001b[0m\u001b[0;34m)\u001b[0m\u001b[0;34m\u001b[0m\u001b[0;34m\u001b[0m\u001b[0m\n\u001b[0m\u001b[1;32m    254\u001b[0m \u001b[0;34m\u001b[0m\u001b[0m\n\u001b[1;32m    255\u001b[0m         \u001b[0;32mif\u001b[0m \u001b[0mself\u001b[0m\u001b[0;34m.\u001b[0m\u001b[0mdefault_output\u001b[0m \u001b[0;32mis\u001b[0m \u001b[0;32mnot\u001b[0m \u001b[0;32mNone\u001b[0m\u001b[0;34m:\u001b[0m\u001b[0;34m\u001b[0m\u001b[0;34m\u001b[0m\u001b[0m\n",
      "\u001b[0;32m/usr/local/lib/python3.7/dist-packages/theano/graph/op.py\u001b[0m in \u001b[0;36mcompute_test_value\u001b[0;34m(node)\u001b[0m\n\u001b[1;32m    124\u001b[0m \u001b[0;34m\u001b[0m\u001b[0m\n\u001b[1;32m    125\u001b[0m     \u001b[0;31m# Create a thunk that performs the computation\u001b[0m\u001b[0;34m\u001b[0m\u001b[0;34m\u001b[0m\u001b[0;34m\u001b[0m\u001b[0m\n\u001b[0;32m--> 126\u001b[0;31m     \u001b[0mthunk\u001b[0m \u001b[0;34m=\u001b[0m \u001b[0mnode\u001b[0m\u001b[0;34m.\u001b[0m\u001b[0mop\u001b[0m\u001b[0;34m.\u001b[0m\u001b[0mmake_thunk\u001b[0m\u001b[0;34m(\u001b[0m\u001b[0mnode\u001b[0m\u001b[0;34m,\u001b[0m \u001b[0mstorage_map\u001b[0m\u001b[0;34m,\u001b[0m \u001b[0mcompute_map\u001b[0m\u001b[0;34m,\u001b[0m \u001b[0mno_recycling\u001b[0m\u001b[0;34m=\u001b[0m\u001b[0;34m[\u001b[0m\u001b[0;34m]\u001b[0m\u001b[0;34m)\u001b[0m\u001b[0;34m\u001b[0m\u001b[0;34m\u001b[0m\u001b[0m\n\u001b[0m\u001b[1;32m    127\u001b[0m     \u001b[0mthunk\u001b[0m\u001b[0;34m.\u001b[0m\u001b[0minputs\u001b[0m \u001b[0;34m=\u001b[0m \u001b[0;34m[\u001b[0m\u001b[0mstorage_map\u001b[0m\u001b[0;34m[\u001b[0m\u001b[0mv\u001b[0m\u001b[0;34m]\u001b[0m \u001b[0;32mfor\u001b[0m \u001b[0mv\u001b[0m \u001b[0;32min\u001b[0m \u001b[0mnode\u001b[0m\u001b[0;34m.\u001b[0m\u001b[0minputs\u001b[0m\u001b[0;34m]\u001b[0m\u001b[0;34m\u001b[0m\u001b[0;34m\u001b[0m\u001b[0m\n\u001b[1;32m    128\u001b[0m     \u001b[0mthunk\u001b[0m\u001b[0;34m.\u001b[0m\u001b[0moutputs\u001b[0m \u001b[0;34m=\u001b[0m \u001b[0;34m[\u001b[0m\u001b[0mstorage_map\u001b[0m\u001b[0;34m[\u001b[0m\u001b[0mv\u001b[0m\u001b[0;34m]\u001b[0m \u001b[0;32mfor\u001b[0m \u001b[0mv\u001b[0m \u001b[0;32min\u001b[0m \u001b[0mnode\u001b[0m\u001b[0;34m.\u001b[0m\u001b[0moutputs\u001b[0m\u001b[0;34m]\u001b[0m\u001b[0;34m\u001b[0m\u001b[0;34m\u001b[0m\u001b[0m\n",
      "\u001b[0;32m/usr/local/lib/python3.7/dist-packages/theano/graph/op.py\u001b[0m in \u001b[0;36mmake_thunk\u001b[0;34m(self, node, storage_map, compute_map, no_recycling, impl)\u001b[0m\n\u001b[1;32m    632\u001b[0m             )\n\u001b[1;32m    633\u001b[0m             \u001b[0;32mtry\u001b[0m\u001b[0;34m:\u001b[0m\u001b[0;34m\u001b[0m\u001b[0;34m\u001b[0m\u001b[0m\n\u001b[0;32m--> 634\u001b[0;31m                 \u001b[0;32mreturn\u001b[0m \u001b[0mself\u001b[0m\u001b[0;34m.\u001b[0m\u001b[0mmake_c_thunk\u001b[0m\u001b[0;34m(\u001b[0m\u001b[0mnode\u001b[0m\u001b[0;34m,\u001b[0m \u001b[0mstorage_map\u001b[0m\u001b[0;34m,\u001b[0m \u001b[0mcompute_map\u001b[0m\u001b[0;34m,\u001b[0m \u001b[0mno_recycling\u001b[0m\u001b[0;34m)\u001b[0m\u001b[0;34m\u001b[0m\u001b[0;34m\u001b[0m\u001b[0m\n\u001b[0m\u001b[1;32m    635\u001b[0m             \u001b[0;32mexcept\u001b[0m \u001b[0;34m(\u001b[0m\u001b[0mNotImplementedError\u001b[0m\u001b[0;34m,\u001b[0m \u001b[0mMethodNotDefined\u001b[0m\u001b[0;34m)\u001b[0m\u001b[0;34m:\u001b[0m\u001b[0;34m\u001b[0m\u001b[0;34m\u001b[0m\u001b[0m\n\u001b[1;32m    636\u001b[0m                 \u001b[0;31m# We requested the c code, so don't catch the error.\u001b[0m\u001b[0;34m\u001b[0m\u001b[0;34m\u001b[0m\u001b[0;34m\u001b[0m\u001b[0m\n",
      "\u001b[0;32m/usr/local/lib/python3.7/dist-packages/theano/graph/op.py\u001b[0m in \u001b[0;36mmake_c_thunk\u001b[0;34m(self, node, storage_map, compute_map, no_recycling)\u001b[0m\n\u001b[1;32m    599\u001b[0m                 \u001b[0;32mraise\u001b[0m \u001b[0mNotImplementedError\u001b[0m\u001b[0;34m(\u001b[0m\u001b[0;34m\"float16\"\u001b[0m\u001b[0;34m)\u001b[0m\u001b[0;34m\u001b[0m\u001b[0;34m\u001b[0m\u001b[0m\n\u001b[1;32m    600\u001b[0m         outputs = cl.make_thunk(\n\u001b[0;32m--> 601\u001b[0;31m             \u001b[0minput_storage\u001b[0m\u001b[0;34m=\u001b[0m\u001b[0mnode_input_storage\u001b[0m\u001b[0;34m,\u001b[0m \u001b[0moutput_storage\u001b[0m\u001b[0;34m=\u001b[0m\u001b[0mnode_output_storage\u001b[0m\u001b[0;34m\u001b[0m\u001b[0;34m\u001b[0m\u001b[0m\n\u001b[0m\u001b[1;32m    602\u001b[0m         )\n\u001b[1;32m    603\u001b[0m         \u001b[0mthunk\u001b[0m\u001b[0;34m,\u001b[0m \u001b[0mnode_input_filters\u001b[0m\u001b[0;34m,\u001b[0m \u001b[0mnode_output_filters\u001b[0m \u001b[0;34m=\u001b[0m \u001b[0moutputs\u001b[0m\u001b[0;34m\u001b[0m\u001b[0;34m\u001b[0m\u001b[0m\n",
      "\u001b[0;32m/usr/local/lib/python3.7/dist-packages/theano/link/c/basic.py\u001b[0m in \u001b[0;36mmake_thunk\u001b[0;34m(self, input_storage, output_storage, storage_map)\u001b[0m\n\u001b[1;32m   1202\u001b[0m         \u001b[0minit_tasks\u001b[0m\u001b[0;34m,\u001b[0m \u001b[0mtasks\u001b[0m \u001b[0;34m=\u001b[0m \u001b[0mself\u001b[0m\u001b[0;34m.\u001b[0m\u001b[0mget_init_tasks\u001b[0m\u001b[0;34m(\u001b[0m\u001b[0;34m)\u001b[0m\u001b[0;34m\u001b[0m\u001b[0;34m\u001b[0m\u001b[0m\n\u001b[1;32m   1203\u001b[0m         cthunk, module, in_storage, out_storage, error_storage = self.__compile__(\n\u001b[0;32m-> 1204\u001b[0;31m             \u001b[0minput_storage\u001b[0m\u001b[0;34m,\u001b[0m \u001b[0moutput_storage\u001b[0m\u001b[0;34m,\u001b[0m \u001b[0mstorage_map\u001b[0m\u001b[0;34m\u001b[0m\u001b[0;34m\u001b[0m\u001b[0m\n\u001b[0m\u001b[1;32m   1205\u001b[0m         )\n\u001b[1;32m   1206\u001b[0m \u001b[0;34m\u001b[0m\u001b[0m\n",
      "\u001b[0;32m/usr/local/lib/python3.7/dist-packages/theano/link/c/basic.py\u001b[0m in \u001b[0;36m__compile__\u001b[0;34m(self, input_storage, output_storage, storage_map)\u001b[0m\n\u001b[1;32m   1140\u001b[0m             \u001b[0minput_storage\u001b[0m\u001b[0;34m,\u001b[0m\u001b[0;34m\u001b[0m\u001b[0;34m\u001b[0m\u001b[0m\n\u001b[1;32m   1141\u001b[0m             \u001b[0moutput_storage\u001b[0m\u001b[0;34m,\u001b[0m\u001b[0;34m\u001b[0m\u001b[0;34m\u001b[0m\u001b[0m\n\u001b[0;32m-> 1142\u001b[0;31m             \u001b[0mstorage_map\u001b[0m\u001b[0;34m,\u001b[0m\u001b[0;34m\u001b[0m\u001b[0;34m\u001b[0m\u001b[0m\n\u001b[0m\u001b[1;32m   1143\u001b[0m         )\n\u001b[1;32m   1144\u001b[0m         return (\n",
      "\u001b[0;32m/usr/local/lib/python3.7/dist-packages/theano/link/c/basic.py\u001b[0m in \u001b[0;36mcthunk_factory\u001b[0;34m(self, error_storage, in_storage, out_storage, storage_map)\u001b[0m\n\u001b[1;32m   1632\u001b[0m             \u001b[0;32mfor\u001b[0m \u001b[0mnode\u001b[0m \u001b[0;32min\u001b[0m \u001b[0mself\u001b[0m\u001b[0;34m.\u001b[0m\u001b[0mnode_order\u001b[0m\u001b[0;34m:\u001b[0m\u001b[0;34m\u001b[0m\u001b[0;34m\u001b[0m\u001b[0m\n\u001b[1;32m   1633\u001b[0m                 \u001b[0mnode\u001b[0m\u001b[0;34m.\u001b[0m\u001b[0mop\u001b[0m\u001b[0;34m.\u001b[0m\u001b[0mprepare_node\u001b[0m\u001b[0;34m(\u001b[0m\u001b[0mnode\u001b[0m\u001b[0;34m,\u001b[0m \u001b[0mstorage_map\u001b[0m\u001b[0;34m,\u001b[0m \u001b[0;32mNone\u001b[0m\u001b[0;34m,\u001b[0m \u001b[0;34m\"c\"\u001b[0m\u001b[0;34m)\u001b[0m\u001b[0;34m\u001b[0m\u001b[0;34m\u001b[0m\u001b[0m\n\u001b[0;32m-> 1634\u001b[0;31m             \u001b[0mmodule\u001b[0m \u001b[0;34m=\u001b[0m \u001b[0mget_module_cache\u001b[0m\u001b[0;34m(\u001b[0m\u001b[0;34m)\u001b[0m\u001b[0;34m.\u001b[0m\u001b[0mmodule_from_key\u001b[0m\u001b[0;34m(\u001b[0m\u001b[0mkey\u001b[0m\u001b[0;34m=\u001b[0m\u001b[0mkey\u001b[0m\u001b[0;34m,\u001b[0m \u001b[0mlnk\u001b[0m\u001b[0;34m=\u001b[0m\u001b[0mself\u001b[0m\u001b[0;34m)\u001b[0m\u001b[0;34m\u001b[0m\u001b[0;34m\u001b[0m\u001b[0m\n\u001b[0m\u001b[1;32m   1635\u001b[0m \u001b[0;34m\u001b[0m\u001b[0m\n\u001b[1;32m   1636\u001b[0m         \u001b[0mvars\u001b[0m \u001b[0;34m=\u001b[0m \u001b[0mself\u001b[0m\u001b[0;34m.\u001b[0m\u001b[0minputs\u001b[0m \u001b[0;34m+\u001b[0m \u001b[0mself\u001b[0m\u001b[0;34m.\u001b[0m\u001b[0moutputs\u001b[0m \u001b[0;34m+\u001b[0m \u001b[0mself\u001b[0m\u001b[0;34m.\u001b[0m\u001b[0morphans\u001b[0m\u001b[0;34m\u001b[0m\u001b[0;34m\u001b[0m\u001b[0m\n",
      "\u001b[0;32m/usr/local/lib/python3.7/dist-packages/theano/link/c/basic.py\u001b[0m in \u001b[0;36mget_module_cache\u001b[0;34m(init_args)\u001b[0m\n\u001b[1;32m     46\u001b[0m \u001b[0;34m\u001b[0m\u001b[0m\n\u001b[1;32m     47\u001b[0m     \"\"\"\n\u001b[0;32m---> 48\u001b[0;31m     \u001b[0;32mreturn\u001b[0m \u001b[0m_get_module_cache\u001b[0m\u001b[0;34m(\u001b[0m\u001b[0mconfig\u001b[0m\u001b[0;34m.\u001b[0m\u001b[0mcompiledir\u001b[0m\u001b[0;34m,\u001b[0m \u001b[0minit_args\u001b[0m\u001b[0;34m=\u001b[0m\u001b[0minit_args\u001b[0m\u001b[0;34m)\u001b[0m\u001b[0;34m\u001b[0m\u001b[0;34m\u001b[0m\u001b[0m\n\u001b[0m\u001b[1;32m     49\u001b[0m \u001b[0;34m\u001b[0m\u001b[0m\n\u001b[1;32m     50\u001b[0m \u001b[0;34m\u001b[0m\u001b[0m\n",
      "\u001b[0;32m/usr/local/lib/python3.7/dist-packages/theano/link/c/cmodule.py\u001b[0m in \u001b[0;36mget_module_cache\u001b[0;34m(dirname, init_args)\u001b[0m\n\u001b[1;32m   1593\u001b[0m         \u001b[0minit_args\u001b[0m \u001b[0;34m=\u001b[0m \u001b[0;34m{\u001b[0m\u001b[0;34m}\u001b[0m\u001b[0;34m\u001b[0m\u001b[0;34m\u001b[0m\u001b[0m\n\u001b[1;32m   1594\u001b[0m     \u001b[0;32mif\u001b[0m \u001b[0m_module_cache\u001b[0m \u001b[0;32mis\u001b[0m \u001b[0;32mNone\u001b[0m\u001b[0;34m:\u001b[0m\u001b[0;34m\u001b[0m\u001b[0;34m\u001b[0m\u001b[0m\n\u001b[0;32m-> 1595\u001b[0;31m         \u001b[0m_module_cache\u001b[0m \u001b[0;34m=\u001b[0m \u001b[0mModuleCache\u001b[0m\u001b[0;34m(\u001b[0m\u001b[0mdirname\u001b[0m\u001b[0;34m,\u001b[0m \u001b[0;34m**\u001b[0m\u001b[0minit_args\u001b[0m\u001b[0;34m)\u001b[0m\u001b[0;34m\u001b[0m\u001b[0;34m\u001b[0m\u001b[0m\n\u001b[0m\u001b[1;32m   1596\u001b[0m         \u001b[0matexit\u001b[0m\u001b[0;34m.\u001b[0m\u001b[0mregister\u001b[0m\u001b[0;34m(\u001b[0m\u001b[0m_module_cache\u001b[0m\u001b[0;34m.\u001b[0m\u001b[0m_on_atexit\u001b[0m\u001b[0;34m)\u001b[0m\u001b[0;34m\u001b[0m\u001b[0;34m\u001b[0m\u001b[0m\n\u001b[1;32m   1597\u001b[0m     \u001b[0;32melif\u001b[0m \u001b[0minit_args\u001b[0m\u001b[0;34m:\u001b[0m\u001b[0;34m\u001b[0m\u001b[0;34m\u001b[0m\u001b[0m\n",
      "\u001b[0;32m/usr/local/lib/python3.7/dist-packages/theano/link/c/cmodule.py\u001b[0m in \u001b[0;36m__init__\u001b[0;34m(self, dirname, check_for_broken_eq, do_refresh)\u001b[0m\n\u001b[1;32m    681\u001b[0m \u001b[0;34m\u001b[0m\u001b[0m\n\u001b[1;32m    682\u001b[0m         \u001b[0;32mif\u001b[0m \u001b[0mdo_refresh\u001b[0m\u001b[0;34m:\u001b[0m\u001b[0;34m\u001b[0m\u001b[0;34m\u001b[0m\u001b[0m\n\u001b[0;32m--> 683\u001b[0;31m             \u001b[0mself\u001b[0m\u001b[0;34m.\u001b[0m\u001b[0mrefresh\u001b[0m\u001b[0;34m(\u001b[0m\u001b[0;34m)\u001b[0m\u001b[0;34m\u001b[0m\u001b[0;34m\u001b[0m\u001b[0m\n\u001b[0m\u001b[1;32m    684\u001b[0m \u001b[0;34m\u001b[0m\u001b[0m\n\u001b[1;32m    685\u001b[0m     \u001b[0mage_thresh_use\u001b[0m \u001b[0;34m=\u001b[0m \u001b[0mconfig\u001b[0m\u001b[0;34m.\u001b[0m\u001b[0mcmodule__age_thresh_use\u001b[0m  \u001b[0;31m# default 24 days\u001b[0m\u001b[0;34m\u001b[0m\u001b[0;34m\u001b[0m\u001b[0m\n",
      "\u001b[0;32m/usr/local/lib/python3.7/dist-packages/theano/link/c/cmodule.py\u001b[0m in \u001b[0;36mrefresh\u001b[0;34m(self, age_thresh_use, delete_if_problem, cleanup)\u001b[0m\n\u001b[1;32m    807\u001b[0m                     \u001b[0;32mtry\u001b[0m\u001b[0;34m:\u001b[0m\u001b[0;34m\u001b[0m\u001b[0;34m\u001b[0m\u001b[0m\n\u001b[1;32m    808\u001b[0m                         \u001b[0;32mwith\u001b[0m \u001b[0mopen\u001b[0m\u001b[0;34m(\u001b[0m\u001b[0mkey_pkl\u001b[0m\u001b[0;34m,\u001b[0m \u001b[0;34m\"rb\"\u001b[0m\u001b[0;34m)\u001b[0m \u001b[0;32mas\u001b[0m \u001b[0mf\u001b[0m\u001b[0;34m:\u001b[0m\u001b[0;34m\u001b[0m\u001b[0;34m\u001b[0m\u001b[0m\n\u001b[0;32m--> 809\u001b[0;31m                             \u001b[0mkey_data\u001b[0m \u001b[0;34m=\u001b[0m \u001b[0mpickle\u001b[0m\u001b[0;34m.\u001b[0m\u001b[0mload\u001b[0m\u001b[0;34m(\u001b[0m\u001b[0mf\u001b[0m\u001b[0;34m)\u001b[0m\u001b[0;34m\u001b[0m\u001b[0;34m\u001b[0m\u001b[0m\n\u001b[0m\u001b[1;32m    810\u001b[0m                     \u001b[0;32mexcept\u001b[0m \u001b[0mEOFError\u001b[0m\u001b[0;34m:\u001b[0m\u001b[0;34m\u001b[0m\u001b[0;34m\u001b[0m\u001b[0m\n\u001b[1;32m    811\u001b[0m                         \u001b[0;31m# Happened once... not sure why (would be worth\u001b[0m\u001b[0;34m\u001b[0m\u001b[0;34m\u001b[0m\u001b[0;34m\u001b[0m\u001b[0m\n",
      "\u001b[0;32m/usr/local/lib/python3.7/dist-packages/theano/scalar/basic.py\u001b[0m in \u001b[0;36m__setstate__\u001b[0;34m(self, d)\u001b[0m\n\u001b[1;32m   4315\u001b[0m         \u001b[0;31m# self.perform will not work.\u001b[0m\u001b[0;34m\u001b[0m\u001b[0;34m\u001b[0m\u001b[0;34m\u001b[0m\u001b[0m\n\u001b[1;32m   4316\u001b[0m         \u001b[0mself\u001b[0m\u001b[0;34m.\u001b[0m\u001b[0mprepare_node_called\u001b[0m \u001b[0;34m=\u001b[0m \u001b[0mset\u001b[0m\u001b[0;34m(\u001b[0m\u001b[0;34m)\u001b[0m\u001b[0;34m\u001b[0m\u001b[0;34m\u001b[0m\u001b[0m\n\u001b[0;32m-> 4317\u001b[0;31m         \u001b[0mself\u001b[0m\u001b[0;34m.\u001b[0m\u001b[0minit_fgraph\u001b[0m\u001b[0;34m(\u001b[0m\u001b[0;34m)\u001b[0m\u001b[0;34m\u001b[0m\u001b[0;34m\u001b[0m\u001b[0m\n\u001b[0m\u001b[1;32m   4318\u001b[0m         \u001b[0mself\u001b[0m\u001b[0;34m.\u001b[0m\u001b[0minit_py_impls\u001b[0m\u001b[0;34m(\u001b[0m\u001b[0;34m)\u001b[0m\u001b[0;34m\u001b[0m\u001b[0;34m\u001b[0m\u001b[0m\n\u001b[1;32m   4319\u001b[0m \u001b[0;34m\u001b[0m\u001b[0m\n",
      "\u001b[0;32m/usr/local/lib/python3.7/dist-packages/theano/scalar/basic.py\u001b[0m in \u001b[0;36minit_fgraph\u001b[0;34m(self)\u001b[0m\n\u001b[1;32m   4111\u001b[0m         \u001b[0;31m# the fgraph to be set to the variable as we need to pickle\u001b[0m\u001b[0;34m\u001b[0m\u001b[0;34m\u001b[0m\u001b[0;34m\u001b[0m\u001b[0m\n\u001b[1;32m   4112\u001b[0m         \u001b[0;31m# them for the cache of c module to work.\u001b[0m\u001b[0;34m\u001b[0m\u001b[0;34m\u001b[0m\u001b[0;34m\u001b[0m\u001b[0m\n\u001b[0;32m-> 4113\u001b[0;31m         \u001b[0mfgraph\u001b[0m \u001b[0;34m=\u001b[0m \u001b[0mFunctionGraph\u001b[0m\u001b[0;34m(\u001b[0m\u001b[0mself\u001b[0m\u001b[0;34m.\u001b[0m\u001b[0minputs\u001b[0m\u001b[0;34m,\u001b[0m \u001b[0mself\u001b[0m\u001b[0;34m.\u001b[0m\u001b[0moutputs\u001b[0m\u001b[0;34m)\u001b[0m\u001b[0;34m\u001b[0m\u001b[0;34m\u001b[0m\u001b[0m\n\u001b[0m\u001b[1;32m   4114\u001b[0m         \u001b[0mMergeOptimizer\u001b[0m\u001b[0;34m(\u001b[0m\u001b[0;34m)\u001b[0m\u001b[0;34m.\u001b[0m\u001b[0moptimize\u001b[0m\u001b[0;34m(\u001b[0m\u001b[0mfgraph\u001b[0m\u001b[0;34m)\u001b[0m\u001b[0;34m\u001b[0m\u001b[0;34m\u001b[0m\u001b[0m\n\u001b[1;32m   4115\u001b[0m         \u001b[0;32mfor\u001b[0m \u001b[0mnode\u001b[0m \u001b[0;32min\u001b[0m \u001b[0mfgraph\u001b[0m\u001b[0;34m.\u001b[0m\u001b[0mapply_nodes\u001b[0m\u001b[0;34m:\u001b[0m\u001b[0;34m\u001b[0m\u001b[0;34m\u001b[0m\u001b[0m\n",
      "\u001b[0;32m/usr/local/lib/python3.7/dist-packages/theano/graph/fg.py\u001b[0m in \u001b[0;36m__init__\u001b[0;34m(self, inputs, outputs, features, clone, update_mapping)\u001b[0m\n\u001b[1;32m    113\u001b[0m \u001b[0;34m\u001b[0m\u001b[0m\n\u001b[1;32m    114\u001b[0m         \u001b[0;32mif\u001b[0m \u001b[0mclone\u001b[0m\u001b[0;34m:\u001b[0m\u001b[0;34m\u001b[0m\u001b[0;34m\u001b[0m\u001b[0m\n\u001b[0;32m--> 115\u001b[0;31m             \u001b[0minputs\u001b[0m\u001b[0;34m,\u001b[0m \u001b[0moutputs\u001b[0m \u001b[0;34m=\u001b[0m \u001b[0mclone_graph\u001b[0m\u001b[0;34m(\u001b[0m\u001b[0minputs\u001b[0m\u001b[0;34m,\u001b[0m \u001b[0moutputs\u001b[0m\u001b[0;34m)\u001b[0m\u001b[0;34m\u001b[0m\u001b[0;34m\u001b[0m\u001b[0m\n\u001b[0m\u001b[1;32m    116\u001b[0m \u001b[0;34m\u001b[0m\u001b[0m\n\u001b[1;32m    117\u001b[0m         \u001b[0;32mif\u001b[0m \u001b[0;32mnot\u001b[0m \u001b[0misinstance\u001b[0m\u001b[0;34m(\u001b[0m\u001b[0minputs\u001b[0m\u001b[0;34m,\u001b[0m \u001b[0mlist\u001b[0m\u001b[0;34m)\u001b[0m\u001b[0;34m:\u001b[0m\u001b[0;34m\u001b[0m\u001b[0;34m\u001b[0m\u001b[0m\n",
      "\u001b[0;32m/usr/local/lib/python3.7/dist-packages/theano/graph/basic.py\u001b[0m in \u001b[0;36mclone\u001b[0;34m(inputs, outputs, copy_inputs, copy_orphans)\u001b[0m\n\u001b[1;32m    895\u001b[0m     \u001b[0;32mif\u001b[0m \u001b[0mcopy_orphans\u001b[0m \u001b[0;32mis\u001b[0m \u001b[0;32mNone\u001b[0m\u001b[0;34m:\u001b[0m\u001b[0;34m\u001b[0m\u001b[0;34m\u001b[0m\u001b[0m\n\u001b[1;32m    896\u001b[0m         \u001b[0mcopy_orphans\u001b[0m \u001b[0;34m=\u001b[0m \u001b[0mcopy_inputs\u001b[0m\u001b[0;34m\u001b[0m\u001b[0;34m\u001b[0m\u001b[0m\n\u001b[0;32m--> 897\u001b[0;31m     \u001b[0mequiv\u001b[0m \u001b[0;34m=\u001b[0m \u001b[0mclone_get_equiv\u001b[0m\u001b[0;34m(\u001b[0m\u001b[0minputs\u001b[0m\u001b[0;34m,\u001b[0m \u001b[0moutputs\u001b[0m\u001b[0;34m,\u001b[0m \u001b[0mcopy_inputs\u001b[0m\u001b[0;34m,\u001b[0m \u001b[0mcopy_orphans\u001b[0m\u001b[0;34m)\u001b[0m\u001b[0;34m\u001b[0m\u001b[0;34m\u001b[0m\u001b[0m\n\u001b[0m\u001b[1;32m    898\u001b[0m     \u001b[0;32mreturn\u001b[0m \u001b[0;34m[\u001b[0m\u001b[0mequiv\u001b[0m\u001b[0;34m[\u001b[0m\u001b[0minput\u001b[0m\u001b[0;34m]\u001b[0m \u001b[0;32mfor\u001b[0m \u001b[0minput\u001b[0m \u001b[0;32min\u001b[0m \u001b[0minputs\u001b[0m\u001b[0;34m]\u001b[0m\u001b[0;34m,\u001b[0m \u001b[0;34m[\u001b[0m\u001b[0mequiv\u001b[0m\u001b[0;34m[\u001b[0m\u001b[0moutput\u001b[0m\u001b[0;34m]\u001b[0m \u001b[0;32mfor\u001b[0m \u001b[0moutput\u001b[0m \u001b[0;32min\u001b[0m \u001b[0moutputs\u001b[0m\u001b[0;34m]\u001b[0m\u001b[0;34m\u001b[0m\u001b[0;34m\u001b[0m\u001b[0m\n\u001b[1;32m    899\u001b[0m \u001b[0;34m\u001b[0m\u001b[0m\n",
      "\u001b[0;32m/usr/local/lib/python3.7/dist-packages/theano/graph/basic.py\u001b[0m in \u001b[0;36mclone_get_equiv\u001b[0;34m(inputs, outputs, copy_inputs, copy_orphans, memo)\u001b[0m\n\u001b[1;32m    948\u001b[0m                     \u001b[0mmemo\u001b[0m\u001b[0;34m[\u001b[0m\u001b[0minput\u001b[0m\u001b[0;34m]\u001b[0m \u001b[0;34m=\u001b[0m \u001b[0minput\u001b[0m\u001b[0;34m\u001b[0m\u001b[0;34m\u001b[0m\u001b[0m\n\u001b[1;32m    949\u001b[0m \u001b[0;34m\u001b[0m\u001b[0m\n\u001b[0;32m--> 950\u001b[0;31m         \u001b[0mnew_apply\u001b[0m \u001b[0;34m=\u001b[0m \u001b[0mapply\u001b[0m\u001b[0;34m.\u001b[0m\u001b[0mclone_with_new_inputs\u001b[0m\u001b[0;34m(\u001b[0m\u001b[0;34m[\u001b[0m\u001b[0mmemo\u001b[0m\u001b[0;34m[\u001b[0m\u001b[0mi\u001b[0m\u001b[0;34m]\u001b[0m \u001b[0;32mfor\u001b[0m \u001b[0mi\u001b[0m \u001b[0;32min\u001b[0m \u001b[0mapply\u001b[0m\u001b[0;34m.\u001b[0m\u001b[0minputs\u001b[0m\u001b[0;34m]\u001b[0m\u001b[0;34m)\u001b[0m\u001b[0;34m\u001b[0m\u001b[0;34m\u001b[0m\u001b[0m\n\u001b[0m\u001b[1;32m    951\u001b[0m         \u001b[0mmemo\u001b[0m\u001b[0;34m.\u001b[0m\u001b[0msetdefault\u001b[0m\u001b[0;34m(\u001b[0m\u001b[0mapply\u001b[0m\u001b[0;34m,\u001b[0m \u001b[0mnew_apply\u001b[0m\u001b[0;34m)\u001b[0m\u001b[0;34m\u001b[0m\u001b[0;34m\u001b[0m\u001b[0m\n\u001b[1;32m    952\u001b[0m         \u001b[0;32mfor\u001b[0m \u001b[0moutput\u001b[0m\u001b[0;34m,\u001b[0m \u001b[0mnew_output\u001b[0m \u001b[0;32min\u001b[0m \u001b[0mzip\u001b[0m\u001b[0;34m(\u001b[0m\u001b[0mapply\u001b[0m\u001b[0;34m.\u001b[0m\u001b[0moutputs\u001b[0m\u001b[0;34m,\u001b[0m \u001b[0mnew_apply\u001b[0m\u001b[0;34m.\u001b[0m\u001b[0moutputs\u001b[0m\u001b[0;34m)\u001b[0m\u001b[0;34m:\u001b[0m\u001b[0;34m\u001b[0m\u001b[0;34m\u001b[0m\u001b[0m\n",
      "\u001b[0;32m/usr/local/lib/python3.7/dist-packages/theano/graph/basic.py\u001b[0m in \u001b[0;36mclone_with_new_inputs\u001b[0;34m(self, inputs, strict)\u001b[0m\n\u001b[1;32m    260\u001b[0m             \u001b[0mnew_node\u001b[0m\u001b[0;34m.\u001b[0m\u001b[0mtag\u001b[0m \u001b[0;34m=\u001b[0m \u001b[0mcopy\u001b[0m\u001b[0;34m(\u001b[0m\u001b[0mself\u001b[0m\u001b[0;34m.\u001b[0m\u001b[0mtag\u001b[0m\u001b[0;34m)\u001b[0m\u001b[0;34m.\u001b[0m\u001b[0m__update__\u001b[0m\u001b[0;34m(\u001b[0m\u001b[0mnew_node\u001b[0m\u001b[0;34m.\u001b[0m\u001b[0mtag\u001b[0m\u001b[0;34m)\u001b[0m\u001b[0;34m\u001b[0m\u001b[0;34m\u001b[0m\u001b[0m\n\u001b[1;32m    261\u001b[0m         \u001b[0;32melse\u001b[0m\u001b[0;34m:\u001b[0m\u001b[0;34m\u001b[0m\u001b[0;34m\u001b[0m\u001b[0m\n\u001b[0;32m--> 262\u001b[0;31m             \u001b[0mnew_node\u001b[0m \u001b[0;34m=\u001b[0m \u001b[0mself\u001b[0m\u001b[0;34m.\u001b[0m\u001b[0mclone\u001b[0m\u001b[0;34m(\u001b[0m\u001b[0;34m)\u001b[0m\u001b[0;34m\u001b[0m\u001b[0;34m\u001b[0m\u001b[0m\n\u001b[0m\u001b[1;32m    263\u001b[0m             \u001b[0mnew_node\u001b[0m\u001b[0;34m.\u001b[0m\u001b[0minputs\u001b[0m \u001b[0;34m=\u001b[0m \u001b[0mnew_inputs\u001b[0m\u001b[0;34m\u001b[0m\u001b[0;34m\u001b[0m\u001b[0m\n\u001b[1;32m    264\u001b[0m         \u001b[0;32mreturn\u001b[0m \u001b[0mnew_node\u001b[0m\u001b[0;34m\u001b[0m\u001b[0;34m\u001b[0m\u001b[0m\n",
      "\u001b[0;32m/usr/local/lib/python3.7/dist-packages/theano/graph/basic.py\u001b[0m in \u001b[0;36mclone\u001b[0;34m(self)\u001b[0m\n\u001b[1;32m    220\u001b[0m             \u001b[0mself\u001b[0m\u001b[0;34m.\u001b[0m\u001b[0mop\u001b[0m\u001b[0;34m,\u001b[0m \u001b[0mself\u001b[0m\u001b[0;34m.\u001b[0m\u001b[0minputs\u001b[0m\u001b[0;34m,\u001b[0m \u001b[0;34m[\u001b[0m\u001b[0moutput\u001b[0m\u001b[0;34m.\u001b[0m\u001b[0mclone\u001b[0m\u001b[0;34m(\u001b[0m\u001b[0;34m)\u001b[0m \u001b[0;32mfor\u001b[0m \u001b[0moutput\u001b[0m \u001b[0;32min\u001b[0m \u001b[0mself\u001b[0m\u001b[0;34m.\u001b[0m\u001b[0moutputs\u001b[0m\u001b[0;34m]\u001b[0m\u001b[0;34m\u001b[0m\u001b[0;34m\u001b[0m\u001b[0m\n\u001b[1;32m    221\u001b[0m         )\n\u001b[0;32m--> 222\u001b[0;31m         \u001b[0mcp\u001b[0m\u001b[0;34m.\u001b[0m\u001b[0mtag\u001b[0m \u001b[0;34m=\u001b[0m \u001b[0mcopy\u001b[0m\u001b[0;34m(\u001b[0m\u001b[0mself\u001b[0m\u001b[0;34m.\u001b[0m\u001b[0mtag\u001b[0m\u001b[0;34m)\u001b[0m\u001b[0;34m\u001b[0m\u001b[0;34m\u001b[0m\u001b[0m\n\u001b[0m\u001b[1;32m    223\u001b[0m         \u001b[0;32mreturn\u001b[0m \u001b[0mcp\u001b[0m\u001b[0;34m\u001b[0m\u001b[0;34m\u001b[0m\u001b[0m\n\u001b[1;32m    224\u001b[0m \u001b[0;34m\u001b[0m\u001b[0m\n",
      "\u001b[0;32m/usr/lib/python3.7/copy.py\u001b[0m in \u001b[0;36mcopy\u001b[0;34m(x)\u001b[0m\n\u001b[1;32m     88\u001b[0m         \u001b[0;32mreturn\u001b[0m \u001b[0mcopier\u001b[0m\u001b[0;34m(\u001b[0m\u001b[0mx\u001b[0m\u001b[0;34m)\u001b[0m\u001b[0;34m\u001b[0m\u001b[0;34m\u001b[0m\u001b[0m\n\u001b[1;32m     89\u001b[0m \u001b[0;34m\u001b[0m\u001b[0m\n\u001b[0;32m---> 90\u001b[0;31m     \u001b[0mreductor\u001b[0m \u001b[0;34m=\u001b[0m \u001b[0mdispatch_table\u001b[0m\u001b[0;34m.\u001b[0m\u001b[0mget\u001b[0m\u001b[0;34m(\u001b[0m\u001b[0mcls\u001b[0m\u001b[0;34m)\u001b[0m\u001b[0;34m\u001b[0m\u001b[0;34m\u001b[0m\u001b[0m\n\u001b[0m\u001b[1;32m     91\u001b[0m     \u001b[0;32mif\u001b[0m \u001b[0mreductor\u001b[0m\u001b[0;34m:\u001b[0m\u001b[0;34m\u001b[0m\u001b[0;34m\u001b[0m\u001b[0m\n\u001b[1;32m     92\u001b[0m         \u001b[0mrv\u001b[0m \u001b[0;34m=\u001b[0m \u001b[0mreductor\u001b[0m\u001b[0;34m(\u001b[0m\u001b[0mx\u001b[0m\u001b[0;34m)\u001b[0m\u001b[0;34m\u001b[0m\u001b[0;34m\u001b[0m\u001b[0m\n",
      "\u001b[0;31mKeyboardInterrupt\u001b[0m: "
     ]
    }
   ],
   "source": [
    "## Find the priors for all drivers using Model 1 and stores them ##\n",
    "\n",
    "historical_data = lap_dict_Q1 # change to lap_dict_Q2 for Q2\n",
    "\n",
    "driver_prior = {}\n",
    "\n",
    "for driver in names_2020: # change to names_2020_Q2 for Q2\n",
    "\n",
    "  print(f'Current Driver: {driver}')\n",
    "  driver_data = historical_data[driver]\n",
    "\n",
    "  if len(driver_data) > 0:\n",
    "    driver_data = driver_data.loc[:, ['Season', 'Full Lap']]\n",
    "    inputs = np.array(driver_data['Season'].astype('float64')) # feature - the season\n",
    "    observed = np.array(driver_data['Full Lap']) # label - full lap time (which is best lap per year from pre-processing above)\n",
    "\n",
    "    driver_posterior = fitBR(inputs, observed) # fit historicals using Model 1\n",
    "\n",
    "    driver_prior[driver] = driver_posterior # update prior dictionary\n",
    "\n",
    "  else: # if there is no historical data for a driver then have an empty list for the prior\n",
    "    driver_prior[driver] = []"
   ]
  },
  {
   "cell_type": "code",
   "execution_count": null,
   "metadata": {
    "id": "xI_ljNyZPBVJ"
   },
   "outputs": [],
   "source": [
    "## Function will save the prior dictionary created as a pickle file so that Model 1 does not have to be run again ##\n",
    "\n",
    "def savePickle(prior, name):\n",
    "\n",
    "    with open(name + '.pickle', 'wb') as handle:\n",
    "        pickle.dump(prior, handle, protocol = pickle.HIGHEST_PROTOCOL)"
   ]
  },
  {
   "cell_type": "code",
   "execution_count": null,
   "metadata": {
    "id": "NGE3FKtmPWXe"
   },
   "outputs": [],
   "source": [
    "## Function will open pickle file ##\n",
    "\n",
    "def openPickle(name):\n",
    "  \n",
    "    filename = name + '.pickle'\n",
    "\n",
    "    with open(filename, 'rb') as file:\n",
    "        prior = pickle.load(file)\n",
    "\n",
    "    return prior"
   ]
  },
  {
   "cell_type": "code",
   "execution_count": null,
   "metadata": {
    "id": "7y-c24rNPMrL"
   },
   "outputs": [],
   "source": [
    "savePickle(driver_prior, 'driver_prior_A1r_Q2')"
   ]
  },
  {
   "cell_type": "code",
   "execution_count": null,
   "metadata": {
    "id": "N8qt4wUrOEIL"
   },
   "outputs": [],
   "source": [
    "driver_prior = openPickle('driver_prior_A1r_Q1')"
   ]
  },
  {
   "cell_type": "code",
   "execution_count": null,
   "metadata": {
    "id": "TshbqNQtQl3j"
   },
   "outputs": [],
   "source": [
    "## Store driver names as an index and keep dictionary both ways to later identify drivers ##\n",
    "\n",
    "name_to_idx = {} \n",
    "idx_to_name = {}\n",
    "\n",
    "idx = 0\n",
    "\n",
    "for name in names_2020: # change to names_2020_Q2 for Q2\n",
    "  name_to_idx[name] = idx\n",
    "  idx_to_name[idx] = name\n",
    "  idx += 1"
   ]
  },
  {
   "cell_type": "code",
   "execution_count": null,
   "metadata": {
    "colab": {
     "base_uri": "https://localhost:8080/"
    },
    "id": "mU-P-w7g9VNO",
    "outputId": "7604fcf0-3c79-4707-a23e-c4db83053b77"
   },
   "outputs": [
    {
     "data": {
      "text/plain": [
       "{'ALB': 0,\n",
       " 'BOT': 1,\n",
       " 'GAS': 2,\n",
       " 'GIO': 3,\n",
       " 'GRO': 4,\n",
       " 'HAM': 5,\n",
       " 'KVY': 6,\n",
       " 'LAT': 7,\n",
       " 'LEC': 8,\n",
       " 'MAG': 9,\n",
       " 'NOR': 10,\n",
       " 'OCO': 11,\n",
       " 'PER': 12,\n",
       " 'RAI': 13,\n",
       " 'RIC': 14,\n",
       " 'RUS': 15,\n",
       " 'SAI': 16,\n",
       " 'STR': 17,\n",
       " 'VER': 18,\n",
       " 'VET': 19}"
      ]
     },
     "execution_count": 20,
     "metadata": {},
     "output_type": "execute_result"
    }
   ],
   "source": [
    "name_to_idx"
   ]
  },
  {
   "cell_type": "code",
   "execution_count": null,
   "metadata": {
    "colab": {
     "base_uri": "https://localhost:8080/"
    },
    "id": "tVZI144jQp-5",
    "outputId": "8254dccc-7d34-4bcf-a42a-7c3b5aa71a42"
   },
   "outputs": [
    {
     "name": "stdout",
     "output_type": "stream",
     "text": [
      "Initial mean predictions from historical data are: [65.04439344516635, 64.71692287918117, 64.53455143788399, 64.33382079793763, 64.98904351522783, 64.18578177639417, 65.65401193002101, inf, 64.43864027024173, 65.07093773998767, 64.3941049338923, 65.5084425059258, 65.33395099062828, 64.6144959622954, 65.09734562546144, 65.80208692743088, 64.77125716576221, 65.58117006527992, 64.70201087681512, 64.61482086999676]\n",
      "Initial standard deviation predictions from historical data are: [9.922051039481234, 2.550176714549966, 4.953148484801849, 10.61475879011319, 2.423257499348498, 1.9279557449607314, 4.098186498114872, inf, 4.238460961192324, 2.0075983505151993, 10.577659724900482, 4.362993192080829, 2.18885999706339, 2.5024651857522873, 2.2344625100853723, 9.570952635291476, 1.6867146007500138, 2.0632250564658117, 2.3451717076503833, 2.2386955833507844]\n",
      "Initial predicted cut-off is: 65.5084425059258\n"
     ]
    }
   ],
   "source": [
    "## Initialize everything - set first predictions per driver to lap time calculated from Model 1 ##\n",
    "\n",
    "current_predictions = []\n",
    "current_pred_std = []\n",
    "\n",
    "input = 2020\n",
    "\n",
    "for name in names_2020: # change to names_2020_Q2 for Q2\n",
    "  if len(driver_prior[name]) > 0:\n",
    "    mean_pred, std_pred = predict(input, driver_prior[name])\n",
    "    current_predictions.append(mean_pred)\n",
    "    current_pred_std.append(std_pred)\n",
    "\n",
    "  else:\n",
    "    current_predictions.append(np.inf) \n",
    "    current_pred_std.append(np.inf)\n",
    "\n",
    "current_fastest = np.array([np.inf] * len(names_2020)) # change to names_2020_Q2 for Q2\n",
    "\n",
    "i = np.argsort(current_predictions)[-5] # 16th position for Q1, 11th position for Q2 - slowest 5 will not make it through in both rounds\n",
    "\n",
    "print(f'Initial mean predictions from historical data are: {current_predictions}')\n",
    "print(f'Initial standard deviation predictions from historical data are: {current_pred_std}')\n",
    "print(f'Initial predicted cut-off is: {current_predictions[i]}')"
   ]
  },
  {
   "cell_type": "code",
   "execution_count": null,
   "metadata": {
    "id": "i1vFUxCRvNvf"
   },
   "outputs": [],
   "source": [
    "# If any of the drivers did not have prior historical information and initial prediction got set to np.inf then we will replace it with the mean of the other predictions (this is so that the probability function will work))\n",
    "\n",
    "current_predictions = np.array(current_predictions)\n",
    "current_pred_std = np.array(current_pred_std)\n",
    "mean_of_means = np.mean(current_predictions[current_predictions != np.inf])\n",
    "mean_of_sd = np.mean(current_pred_std[current_pred_std != np.inf])\n",
    "\n",
    "current_predictions[current_predictions == np.inf] = mean_of_means\n",
    "current_pred_std[current_pred_std == np.inf] = mean_of_sd"
   ]
  },
  {
   "cell_type": "code",
   "execution_count": null,
   "metadata": {
    "id": "7dm5NVvtsZCc"
   },
   "outputs": [],
   "source": [
    "## Store all combinations of driver indexes for 19C4, 19C3, 19C2, 19C1, 19C0 (for Q2 this would be: 14C4, 14C3, 14C2, 14C1, 14C0) ##\n",
    "\n",
    "combinations_list = []\n",
    "for i in range(5):\n",
    "  combinations = list(itertools.combinations(np.arange(19), i)) # change from 19 to 14 in Q2\n",
    "  combinations_list.append(combinations)"
   ]
  },
  {
   "cell_type": "code",
   "execution_count": null,
   "metadata": {
    "id": "lo9JmiGltJuq"
   },
   "outputs": [],
   "source": [
    "## Finds a list of the indexes of the drivers that are not the driver we are calculating the probability for ##\n",
    "\n",
    "def idx_list(target_name):\n",
    "  \n",
    "  names_2020_idx = []\n",
    "\n",
    "  for name in names_2020: # change to names_2020_Q2 for Q2\n",
    "\n",
    "    if name != target_name: # to find the indexes of the other drivers not the one we are calculating the probability for\n",
    "\n",
    "      value = name_to_idx[name]\n",
    "      names_2020_idx.append(value)\n",
    "\n",
    "  return names_2020_idx\n"
   ]
  },
  {
   "cell_type": "code",
   "execution_count": null,
   "metadata": {
    "id": "qnHkrtgS1Zlv"
   },
   "outputs": [],
   "source": [
    "## Calculate probabilities of drivers being slower than lap set for driver in question, P(driver > lap time) ##\n",
    "\n",
    "# z transform of params first (think scipy does this automatically), find cdf area under curve to the right of the mean\n",
    "\n",
    "def calculate_prob(target, mean, sd, max = 100, min = 0, plot = False):\n",
    "\n",
    "  cdf = norm.sf(x = target, loc = mean, scale = sd) # sf = survival function returns 1 - cdf\n",
    "\n",
    "  if plot == True: # option to plot the pdf curve with the cdf area highlighted\n",
    "    \n",
    "    fig, ax = plt.subplots()\n",
    "    x_axis = np.arange(min, max, 0.001)\n",
    "    ax.plot(x_axis, norm.pdf(x, loc = mean, scale = sd))\n",
    "    ax.set_title(f'$N \\sim ({mean}, ${sd}^2$)$')\n",
    "    ax.set_xlabel('x')\n",
    "    ax.set_ylabel('pdf(x)')\n",
    "    ax.grid(True)\n",
    "    px = np.arange(target, max, 0.01)\n",
    "    ax.set_ylim(0, 0.25)\n",
    "    ax.fill_between(px, norm.pdf(px, loc = 3, scale = 2), alpha = 0.5, color = 'g')\n",
    "    ax.text(4.5, 0.02, f'cdf = {cdf}', fontsize = 15)\n",
    "    plt.show()\n",
    "\n",
    "  else:\n",
    "\n",
    "    pass\n",
    "\n",
    "  return cdf"
   ]
  },
  {
   "cell_type": "code",
   "execution_count": null,
   "metadata": {
    "id": "_-8iR7HId0ZY"
   },
   "outputs": [],
   "source": [
    "## Function works out the probability of the specified driver being safe when they set a specified target lap ##\n",
    "\n",
    "''' look at the report for how this works and is derived - I have tried to be thorough in the comments here - CSB Aug 2021 '''\n",
    "\n",
    "def driver_safe(target_name, target_lap):\n",
    "  \n",
    "  # assume that current_predictions and combinations_list are both global as they will update with the BR model\n",
    "  \n",
    "  names_2020_idx = idx_list(target_name) # find indexes of the drivers who are not the driver that we want to calculate the probability for\n",
    "\n",
    "  all_probs = np.array([calculate_prob(target_lap, current_predictions[idx], current_pred_std[idx]) for idx in names_2020_idx]) # calculate the probabilty of all other drivers being slower than the lap set for the target driver\n",
    "  all_probs = 1 - (all_probs) #  1 - p(driver < target_lap) = p(driver > target lap), store all drivers like this and index the ones that should be slower to speed the code up (see prob_safe function)\n",
    "\n",
    "  log_unsafe = prob_unsafe(all_probs, combinations_list) # log probability of target driver being unsafe\n",
    "\n",
    "  return 1 - np.exp(log_unsafe) # probability of target driver being safe\n",
    "\n",
    "# calculates the probability\n",
    "def prob_unsafe(all_probs, combinations_list):\n",
    "\n",
    "  log_comb = []\n",
    "\n",
    "  for combinations in combinations_list: # i.e for i in [19C4, 19C3, ....]\n",
    "\n",
    "    log_comb_probs = [] \n",
    "\n",
    "    for combination in combinations: # i.e for i in [(1, 2, 3, 4), (4, 3, 18, 12), ..., (0, 3, 9, 11)]\n",
    "\n",
    "      combination = list(combination) # convert the combination tuple into a list so that it can be used to index below\n",
    "      probs = copy.deepcopy(all_probs) # create a copy to be safe\n",
    "      probs[combination] = 1 - probs[combination] # p(driver > target lap) for those in the combination list i.e those that are slower than the target lap and witll be in lower positions than the target driver\n",
    "      probs = probs + 1e-30 * (probs < 1e-30) # add on a tiny negligable number to any probabilities that are 0 so they become slightly larger, this stops it crashing when we take log(0)\n",
    "      log_probs = np.log(probs) # take the log of each probability calculated for that particular combination\n",
    "      log_comb_probs.append(np.sum(log_probs)) # sum the log probabilities (same as multiplying the non-log probabilities) and append each to the list above\n",
    "\n",
    "    log_comb_probs = np.array(log_comb_probs) # convert the log_probs to an array so we can use the elementwise operations max and sum\n",
    "    factor = np.max(log_comb_probs) # before we take the exponent of the log probs its benefical to pull out the largest value as a factor so that we can have the exponent of a reasonably sized number, it gets added on at the end\n",
    "    log_all_comb_probs = log_comb_probs - factor # take away the factor from all elements of this array \n",
    "    log_all_comb_prob = np.log(np.sum(np.exp(log_all_comb_probs))) + factor # take the exponent of log probabilities for each combination, add them and take the log, then add on the factor \n",
    "\n",
    "    log_comb.append(log_all_comb_prob) # this is the total log probability for 19CX combinations\n",
    "\n",
    "  # sum all combinations i.e 19C4 + 19C3 + 19C2 + 19C1 + 19C0, need to use the factor trick again\n",
    "  log_comb = np.array(log_comb)\n",
    "  factor = np.max(log_comb)\n",
    "  log_all_comb = log_comb - factor\n",
    "  log_all_comb = np.log(np.sum(np.exp(log_all_comb))) + factor\n",
    "\n",
    "  return log_all_comb # log probability of target driver being unsafe\n",
    "\n"
   ]
  },
  {
   "cell_type": "code",
   "execution_count": null,
   "metadata": {
    "colab": {
     "base_uri": "https://localhost:8080/"
    },
    "id": "T0zztD6823cP",
    "outputId": "f0d078e6-6adb-401f-88cb-97b79f7d08bd"
   },
   "outputs": [
    {
     "data": {
      "text/plain": [
       "0.8662275285792096"
      ]
     },
     "execution_count": 27,
     "metadata": {},
     "output_type": "execute_result"
    }
   ],
   "source": [
    "safe = driver_safe('RUS', 66)\n",
    "safe"
   ]
  },
  {
   "cell_type": "code",
   "execution_count": null,
   "metadata": {
    "id": "7Q3enwVNOwgs"
   },
   "outputs": [],
   "source": [
    "# update all drivers probabilities of being safe in one go\n",
    "\n",
    "def update_safe_probs(probability_of_being_safe, observed):\n",
    "\n",
    "  for idx in range(20): # change to 15 for Q2\n",
    "    probability_of_being_safe[idx] = driver_safe(target_name = idx_to_name[idx], target_lap = observed)\n",
    "\n",
    "  return probability_of_being_safe"
   ]
  },
  {
   "cell_type": "code",
   "execution_count": null,
   "metadata": {
    "colab": {
     "base_uri": "https://localhost:8080/",
     "height": 1000
    },
    "id": "tevlIS1sQONn",
    "outputId": "e1b0e003-fa9b-4e26-dec7-1f47abae5df7"
   },
   "outputs": [
    {
     "name": "stdout",
     "output_type": "stream",
     "text": [
      "LAT\n"
     ]
    },
    {
     "name": "stderr",
     "output_type": "stream",
     "text": [
      "/usr/local/lib/python3.7/dist-packages/ipykernel_launcher.py:22: FutureWarning: In v4.0, pm.sample will return an `arviz.InferenceData` object instead of a `MultiTrace` by default. You can pass return_inferencedata=True or return_inferencedata=False to be safe and silence this warning.\n",
      "Sequential sampling (2 chains in 1 job)\n",
      "NUTS: [sigma, slope, Intercept]\n"
     ]
    },
    {
     "data": {
      "text/html": [
       "\n",
       "    <div>\n",
       "        <style>\n",
       "            /* Turns off some styling */\n",
       "            progress {\n",
       "                /* gets rid of default border in Firefox and Opera. */\n",
       "                border: none;\n",
       "                /* Needs to be in here for Safari polyfill so background images work as expected. */\n",
       "                background-size: auto;\n",
       "            }\n",
       "            .progress-bar-interrupted, .progress-bar-interrupted::-webkit-progress-bar {\n",
       "                background: #F44336;\n",
       "            }\n",
       "        </style>\n",
       "      <progress value='4000' class='' max='4000' style='width:300px; height:20px; vertical-align: middle;'></progress>\n",
       "      100.00% [4000/4000 00:06<00:00 Sampling chain 0, 245 divergences]\n",
       "    </div>\n",
       "    "
      ],
      "text/plain": [
       "<IPython.core.display.HTML object>"
      ]
     },
     "metadata": {},
     "output_type": "display_data"
    },
    {
     "data": {
      "text/html": [
       "\n",
       "    <div>\n",
       "        <style>\n",
       "            /* Turns off some styling */\n",
       "            progress {\n",
       "                /* gets rid of default border in Firefox and Opera. */\n",
       "                border: none;\n",
       "                /* Needs to be in here for Safari polyfill so background images work as expected. */\n",
       "                background-size: auto;\n",
       "            }\n",
       "            .progress-bar-interrupted, .progress-bar-interrupted::-webkit-progress-bar {\n",
       "                background: #F44336;\n",
       "            }\n",
       "        </style>\n",
       "      <progress value='4000' class='' max='4000' style='width:300px; height:20px; vertical-align: middle;'></progress>\n",
       "      100.00% [4000/4000 00:05<00:00 Sampling chain 1, 518 divergences]\n",
       "    </div>\n",
       "    "
      ],
      "text/plain": [
       "<IPython.core.display.HTML object>"
      ]
     },
     "metadata": {},
     "output_type": "display_data"
    },
    {
     "name": "stderr",
     "output_type": "stream",
     "text": [
      "Sampling 2 chains for 1_000 tune and 3_000 draw iterations (2_000 + 6_000 draws total) took 12 seconds.\n",
      "There were 246 divergences after tuning. Increase `target_accept` or reparameterize.\n",
      "There were 764 divergences after tuning. Increase `target_accept` or reparameterize.\n",
      "The acceptance probability does not match the target. It is 0.6773713694563003, but should be close to 0.8. Try to increase the number of tuning steps.\n",
      "The estimated number of effective samples is smaller than 200 for some parameters.\n"
     ]
    },
    {
     "name": "stdout",
     "output_type": "stream",
     "text": [
      "[0.585443875913414, 0.6345144992311567, 0.6094855257139651, 0.5900439372583203, 0.6309407119400374, 0.6558772317158408, 0.5962334668890189, 0.5690535496629634, 0.6170462934427277, 0.6377520679002607, 0.5896379284419035, 0.5973452065406728, 0.6269011547305152, 0.6374600099771537, 0.6321114921605882, 0.5792189784646162, 0.6519740565416061, 0.6223025691131716, 0.6387309576196434, 0.6426130536267272]\n",
      "GIO\n"
     ]
    },
    {
     "name": "stderr",
     "output_type": "stream",
     "text": [
      "/usr/local/lib/python3.7/dist-packages/ipykernel_launcher.py:18: FutureWarning: In v4.0, pm.sample will return an `arviz.InferenceData` object instead of a `MultiTrace` by default. You can pass return_inferencedata=True or return_inferencedata=False to be safe and silence this warning.\n",
      "Sequential sampling (2 chains in 1 job)\n",
      "NUTS: [sigma, Intercept, slope]\n"
     ]
    },
    {
     "data": {
      "text/html": [
       "\n",
       "    <div>\n",
       "        <style>\n",
       "            /* Turns off some styling */\n",
       "            progress {\n",
       "                /* gets rid of default border in Firefox and Opera. */\n",
       "                border: none;\n",
       "                /* Needs to be in here for Safari polyfill so background images work as expected. */\n",
       "                background-size: auto;\n",
       "            }\n",
       "            .progress-bar-interrupted, .progress-bar-interrupted::-webkit-progress-bar {\n",
       "                background: #F44336;\n",
       "            }\n",
       "        </style>\n",
       "      <progress value='2000' class='' max='2000' style='width:300px; height:20px; vertical-align: middle;'></progress>\n",
       "      100.00% [2000/2000 00:04<00:00 Sampling chain 0, 7 divergences]\n",
       "    </div>\n",
       "    "
      ],
      "text/plain": [
       "<IPython.core.display.HTML object>"
      ]
     },
     "metadata": {},
     "output_type": "display_data"
    },
    {
     "data": {
      "text/html": [
       "\n",
       "    <div>\n",
       "        <style>\n",
       "            /* Turns off some styling */\n",
       "            progress {\n",
       "                /* gets rid of default border in Firefox and Opera. */\n",
       "                border: none;\n",
       "                /* Needs to be in here for Safari polyfill so background images work as expected. */\n",
       "                background-size: auto;\n",
       "            }\n",
       "            .progress-bar-interrupted, .progress-bar-interrupted::-webkit-progress-bar {\n",
       "                background: #F44336;\n",
       "            }\n",
       "        </style>\n",
       "      <progress value='2000' class='' max='2000' style='width:300px; height:20px; vertical-align: middle;'></progress>\n",
       "      100.00% [2000/2000 00:04<00:00 Sampling chain 1, 23 divergences]\n",
       "    </div>\n",
       "    "
      ],
      "text/plain": [
       "<IPython.core.display.HTML object>"
      ]
     },
     "metadata": {},
     "output_type": "display_data"
    },
    {
     "name": "stderr",
     "output_type": "stream",
     "text": [
      "Sampling 2 chains for 1_000 tune and 1_000 draw iterations (2_000 + 2_000 draws total) took 9 seconds.\n",
      "There were 7 divergences after tuning. Increase `target_accept` or reparameterize.\n",
      "There were 30 divergences after tuning. Increase `target_accept` or reparameterize.\n"
     ]
    },
    {
     "name": "stdout",
     "output_type": "stream",
     "text": [
      "[0.9672282608238997, 0.9701664105584514, 0.9690555128263699, 0.967605027813562, 0.9689996689927451, 0.9735975150618853, 0.9658264355370573, 0.964558079054415, 0.9696861359719338, 0.9689321593884367, 0.9680316746612146, 0.9663718164380158, 0.9671643391312158, 0.9706775691614475, 0.9685706936872172, 0.9661157458713091, 0.9713038457391514, 0.9654492974105459, 0.9705005690728764, 0.9710715310005265]\n",
      "RAI\n"
     ]
    },
    {
     "name": "stderr",
     "output_type": "stream",
     "text": [
      "/usr/local/lib/python3.7/dist-packages/ipykernel_launcher.py:18: FutureWarning: In v4.0, pm.sample will return an `arviz.InferenceData` object instead of a `MultiTrace` by default. You can pass return_inferencedata=True or return_inferencedata=False to be safe and silence this warning.\n",
      "Sequential sampling (2 chains in 1 job)\n",
      "NUTS: [sigma, Intercept, slope]\n"
     ]
    },
    {
     "data": {
      "text/html": [
       "\n",
       "    <div>\n",
       "        <style>\n",
       "            /* Turns off some styling */\n",
       "            progress {\n",
       "                /* gets rid of default border in Firefox and Opera. */\n",
       "                border: none;\n",
       "                /* Needs to be in here for Safari polyfill so background images work as expected. */\n",
       "                background-size: auto;\n",
       "            }\n",
       "            .progress-bar-interrupted, .progress-bar-interrupted::-webkit-progress-bar {\n",
       "                background: #F44336;\n",
       "            }\n",
       "        </style>\n",
       "      <progress value='2000' class='' max='2000' style='width:300px; height:20px; vertical-align: middle;'></progress>\n",
       "      100.00% [2000/2000 00:05<00:00 Sampling chain 0, 68 divergences]\n",
       "    </div>\n",
       "    "
      ],
      "text/plain": [
       "<IPython.core.display.HTML object>"
      ]
     },
     "metadata": {},
     "output_type": "display_data"
    },
    {
     "data": {
      "text/html": [
       "\n",
       "    <div>\n",
       "        <style>\n",
       "            /* Turns off some styling */\n",
       "            progress {\n",
       "                /* gets rid of default border in Firefox and Opera. */\n",
       "                border: none;\n",
       "                /* Needs to be in here for Safari polyfill so background images work as expected. */\n",
       "                background-size: auto;\n",
       "            }\n",
       "            .progress-bar-interrupted, .progress-bar-interrupted::-webkit-progress-bar {\n",
       "                background: #F44336;\n",
       "            }\n",
       "        </style>\n",
       "      <progress value='2000' class='' max='2000' style='width:300px; height:20px; vertical-align: middle;'></progress>\n",
       "      100.00% [2000/2000 00:06<00:00 Sampling chain 1, 56 divergences]\n",
       "    </div>\n",
       "    "
      ],
      "text/plain": [
       "<IPython.core.display.HTML object>"
      ]
     },
     "metadata": {},
     "output_type": "display_data"
    },
    {
     "name": "stderr",
     "output_type": "stream",
     "text": [
      "Sampling 2 chains for 1_000 tune and 1_000 draw iterations (2_000 + 2_000 draws total) took 12 seconds.\n",
      "There were 68 divergences after tuning. Increase `target_accept` or reparameterize.\n",
      "The acceptance probability does not match the target. It is 0.6823695729558961, but should be close to 0.8. Try to increase the number of tuning steps.\n",
      "There were 124 divergences after tuning. Increase `target_accept` or reparameterize.\n",
      "The estimated number of effective samples is smaller than 200 for some parameters.\n"
     ]
    },
    {
     "name": "stdout",
     "output_type": "stream",
     "text": [
      "[0.9648281758984851, 0.968259030127747, 0.9668859546774303, 0.9652570826795317, 0.9670756206829588, 0.971887708319805, 0.9635469589874984, 0.961990735731742, 0.9675875953185948, 0.9671057794169531, 0.9656720542562448, 0.964099286319735, 0.96523302650026, 0.9636843356687647, 0.9666738291880012, 0.963653986649427, 0.9696249892675834, 0.963496746040117, 0.9686399362200856, 0.969247733751394]\n",
      "LAT\n",
      "[0.9648281758984851, 0.968259030127747, 0.9668859546774303, 0.9652570826795317, 0.9670756206829588, 0.971887708319805, 0.9635469589874984, 0.961990735731742, 0.9675875953185948, 0.9671057794169531, 0.9656720542562448, 0.964099286319735, 0.96523302650026, 0.9636843356687647, 0.9666738291880012, 0.963653986649427, 0.9696249892675834, 0.963496746040117, 0.9686399362200856, 0.969247733751394]\n",
      "RUS\n"
     ]
    },
    {
     "name": "stderr",
     "output_type": "stream",
     "text": [
      "/usr/local/lib/python3.7/dist-packages/ipykernel_launcher.py:18: FutureWarning: In v4.0, pm.sample will return an `arviz.InferenceData` object instead of a `MultiTrace` by default. You can pass return_inferencedata=True or return_inferencedata=False to be safe and silence this warning.\n",
      "Sequential sampling (2 chains in 1 job)\n",
      "NUTS: [sigma, Intercept, slope]\n"
     ]
    },
    {
     "data": {
      "text/html": [
       "\n",
       "    <div>\n",
       "        <style>\n",
       "            /* Turns off some styling */\n",
       "            progress {\n",
       "                /* gets rid of default border in Firefox and Opera. */\n",
       "                border: none;\n",
       "                /* Needs to be in here for Safari polyfill so background images work as expected. */\n",
       "                background-size: auto;\n",
       "            }\n",
       "            .progress-bar-interrupted, .progress-bar-interrupted::-webkit-progress-bar {\n",
       "                background: #F44336;\n",
       "            }\n",
       "        </style>\n",
       "      <progress value='2000' class='' max='2000' style='width:300px; height:20px; vertical-align: middle;'></progress>\n",
       "      100.00% [2000/2000 00:05<00:00 Sampling chain 0, 22 divergences]\n",
       "    </div>\n",
       "    "
      ],
      "text/plain": [
       "<IPython.core.display.HTML object>"
      ]
     },
     "metadata": {},
     "output_type": "display_data"
    },
    {
     "data": {
      "text/html": [
       "\n",
       "    <div>\n",
       "        <style>\n",
       "            /* Turns off some styling */\n",
       "            progress {\n",
       "                /* gets rid of default border in Firefox and Opera. */\n",
       "                border: none;\n",
       "                /* Needs to be in here for Safari polyfill so background images work as expected. */\n",
       "                background-size: auto;\n",
       "            }\n",
       "            .progress-bar-interrupted, .progress-bar-interrupted::-webkit-progress-bar {\n",
       "                background: #F44336;\n",
       "            }\n",
       "        </style>\n",
       "      <progress value='2000' class='' max='2000' style='width:300px; height:20px; vertical-align: middle;'></progress>\n",
       "      100.00% [2000/2000 00:04<00:00 Sampling chain 1, 56 divergences]\n",
       "    </div>\n",
       "    "
      ],
      "text/plain": [
       "<IPython.core.display.HTML object>"
      ]
     },
     "metadata": {},
     "output_type": "display_data"
    },
    {
     "name": "stderr",
     "output_type": "stream",
     "text": [
      "Sampling 2 chains for 1_000 tune and 1_000 draw iterations (2_000 + 2_000 draws total) took 9 seconds.\n",
      "There were 22 divergences after tuning. Increase `target_accept` or reparameterize.\n",
      "There were 78 divergences after tuning. Increase `target_accept` or reparameterize.\n",
      "The number of effective samples is smaller than 25% for some parameters.\n"
     ]
    },
    {
     "name": "stdout",
     "output_type": "stream",
     "text": [
      "[0.9691218392360875, 0.9720251067071687, 0.9708988812449787, 0.969490254250368, 0.9709421367596116, 0.9752614474409285, 0.96787084373928, 0.9665846594162868, 0.9715082531781318, 0.970917795493513, 0.9698801925132665, 0.9683784332856338, 0.9692436545114527, 0.9679503451920874, 0.970556620915069, 0.9679432841727946, 0.9731625314213292, 0.9676482201044913, 0.9723513562800837, 0.9728919109215273]\n",
      "LAT\n"
     ]
    },
    {
     "name": "stderr",
     "output_type": "stream",
     "text": [
      "/usr/local/lib/python3.7/dist-packages/ipykernel_launcher.py:18: FutureWarning: In v4.0, pm.sample will return an `arviz.InferenceData` object instead of a `MultiTrace` by default. You can pass return_inferencedata=True or return_inferencedata=False to be safe and silence this warning.\n",
      "Sequential sampling (2 chains in 1 job)\n",
      "NUTS: [sigma, Intercept, slope]\n"
     ]
    },
    {
     "data": {
      "text/html": [
       "\n",
       "    <div>\n",
       "        <style>\n",
       "            /* Turns off some styling */\n",
       "            progress {\n",
       "                /* gets rid of default border in Firefox and Opera. */\n",
       "                border: none;\n",
       "                /* Needs to be in here for Safari polyfill so background images work as expected. */\n",
       "                background-size: auto;\n",
       "            }\n",
       "            .progress-bar-interrupted, .progress-bar-interrupted::-webkit-progress-bar {\n",
       "                background: #F44336;\n",
       "            }\n",
       "        </style>\n",
       "      <progress value='2000' class='' max='2000' style='width:300px; height:20px; vertical-align: middle;'></progress>\n",
       "      100.00% [2000/2000 00:04<00:00 Sampling chain 0, 37 divergences]\n",
       "    </div>\n",
       "    "
      ],
      "text/plain": [
       "<IPython.core.display.HTML object>"
      ]
     },
     "metadata": {},
     "output_type": "display_data"
    },
    {
     "data": {
      "text/html": [
       "\n",
       "    <div>\n",
       "        <style>\n",
       "            /* Turns off some styling */\n",
       "            progress {\n",
       "                /* gets rid of default border in Firefox and Opera. */\n",
       "                border: none;\n",
       "                /* Needs to be in here for Safari polyfill so background images work as expected. */\n",
       "                background-size: auto;\n",
       "            }\n",
       "            .progress-bar-interrupted, .progress-bar-interrupted::-webkit-progress-bar {\n",
       "                background: #F44336;\n",
       "            }\n",
       "        </style>\n",
       "      <progress value='2000' class='' max='2000' style='width:300px; height:20px; vertical-align: middle;'></progress>\n",
       "      100.00% [2000/2000 00:04<00:00 Sampling chain 1, 40 divergences]\n",
       "    </div>\n",
       "    "
      ],
      "text/plain": [
       "<IPython.core.display.HTML object>"
      ]
     },
     "metadata": {},
     "output_type": "display_data"
    },
    {
     "name": "stderr",
     "output_type": "stream",
     "text": [
      "Sampling 2 chains for 1_000 tune and 1_000 draw iterations (2_000 + 2_000 draws total) took 9 seconds.\n",
      "There were 37 divergences after tuning. Increase `target_accept` or reparameterize.\n",
      "The acceptance probability does not match the target. It is 0.716000023533281, but should be close to 0.8. Try to increase the number of tuning steps.\n",
      "There were 77 divergences after tuning. Increase `target_accept` or reparameterize.\n",
      "The estimated number of effective samples is smaller than 200 for some parameters.\n"
     ]
    },
    {
     "name": "stdout",
     "output_type": "stream",
     "text": [
      "[0.8938110103480418, 0.9066784559804308, 0.900641359188124, 0.8952894649331516, 0.9043502473348901, 0.9157941824535729, 0.8934448706184498, 0.8885900519372338, 0.9028707821476951, 0.9056426731707093, 0.8957936825542944, 0.89446353874794, 0.9010094691397468, 0.8949005214902591, 0.9039870454617263, 0.8912847063341368, 0.911970418379867, 0.8977309716960398, 0.907969463178615, 0.9095391137799175]\n",
      "STR\n"
     ]
    },
    {
     "name": "stderr",
     "output_type": "stream",
     "text": [
      "/usr/local/lib/python3.7/dist-packages/ipykernel_launcher.py:18: FutureWarning: In v4.0, pm.sample will return an `arviz.InferenceData` object instead of a `MultiTrace` by default. You can pass return_inferencedata=True or return_inferencedata=False to be safe and silence this warning.\n",
      "Sequential sampling (2 chains in 1 job)\n",
      "NUTS: [sigma, Intercept, slope]\n"
     ]
    },
    {
     "data": {
      "text/html": [
       "\n",
       "    <div>\n",
       "        <style>\n",
       "            /* Turns off some styling */\n",
       "            progress {\n",
       "                /* gets rid of default border in Firefox and Opera. */\n",
       "                border: none;\n",
       "                /* Needs to be in here for Safari polyfill so background images work as expected. */\n",
       "                background-size: auto;\n",
       "            }\n",
       "            .progress-bar-interrupted, .progress-bar-interrupted::-webkit-progress-bar {\n",
       "                background: #F44336;\n",
       "            }\n",
       "        </style>\n",
       "      <progress value='2000' class='' max='2000' style='width:300px; height:20px; vertical-align: middle;'></progress>\n",
       "      100.00% [2000/2000 00:06<00:00 Sampling chain 0, 34 divergences]\n",
       "    </div>\n",
       "    "
      ],
      "text/plain": [
       "<IPython.core.display.HTML object>"
      ]
     },
     "metadata": {},
     "output_type": "display_data"
    },
    {
     "data": {
      "text/html": [
       "\n",
       "    <div>\n",
       "        <style>\n",
       "            /* Turns off some styling */\n",
       "            progress {\n",
       "                /* gets rid of default border in Firefox and Opera. */\n",
       "                border: none;\n",
       "                /* Needs to be in here for Safari polyfill so background images work as expected. */\n",
       "                background-size: auto;\n",
       "            }\n",
       "            .progress-bar-interrupted, .progress-bar-interrupted::-webkit-progress-bar {\n",
       "                background: #F44336;\n",
       "            }\n",
       "        </style>\n",
       "      <progress value='2000' class='' max='2000' style='width:300px; height:20px; vertical-align: middle;'></progress>\n",
       "      100.00% [2000/2000 00:06<00:00 Sampling chain 1, 158 divergences]\n",
       "    </div>\n",
       "    "
      ],
      "text/plain": [
       "<IPython.core.display.HTML object>"
      ]
     },
     "metadata": {},
     "output_type": "display_data"
    },
    {
     "name": "stderr",
     "output_type": "stream",
     "text": [
      "Sampling 2 chains for 1_000 tune and 1_000 draw iterations (2_000 + 2_000 draws total) took 13 seconds.\n",
      "There were 34 divergences after tuning. Increase `target_accept` or reparameterize.\n",
      "There were 192 divergences after tuning. Increase `target_accept` or reparameterize.\n",
      "The acceptance probability does not match the target. It is 0.6021625915127035, but should be close to 0.8. Try to increase the number of tuning steps.\n",
      "The rhat statistic is larger than 1.05 for some parameters. This indicates slight problems during sampling.\n",
      "The estimated number of effective samples is smaller than 200 for some parameters.\n"
     ]
    },
    {
     "name": "stdout",
     "output_type": "stream",
     "text": [
      "[0.9975023075027039, 0.9974717216350136, 0.9975702204452191, 0.9975129372228633, 0.997299483181816, 0.9977830181683162, 0.997162511951221, 0.9972329632747948, 0.9975991295446639, 0.9971697474607525, 0.9975883371174727, 0.9972448123481181, 0.9969997470966674, 0.9970774036216099, 0.997195745568271, 0.9973330279675615, 0.9973699618710875, 0.997552066302411, 0.9974715569811362, 0.9975203989377373]\n",
      "RUS\n",
      "[0.9975023075027039, 0.9974717216350136, 0.9975702204452191, 0.9975129372228633, 0.997299483181816, 0.9977830181683162, 0.997162511951221, 0.9972329632747948, 0.9975991295446639, 0.9971697474607525, 0.9975883371174727, 0.9972448123481181, 0.9969997470966674, 0.9970774036216099, 0.997195745568271, 0.9973330279675615, 0.9973699618710875, 0.997552066302411, 0.9974715569811362, 0.9975203989377373]\n",
      "LAT\n",
      "[0.9975023075027039, 0.9974717216350136, 0.9975702204452191, 0.9975129372228633, 0.997299483181816, 0.9977830181683162, 0.997162511951221, 0.9972329632747948, 0.9975991295446639, 0.9971697474607525, 0.9975883371174727, 0.9972448123481181, 0.9969997470966674, 0.9970774036216099, 0.997195745568271, 0.9973330279675615, 0.9973699618710875, 0.997552066302411, 0.9974715569811362, 0.9975203989377373]\n",
      "KVY\n"
     ]
    },
    {
     "name": "stderr",
     "output_type": "stream",
     "text": [
      "/usr/local/lib/python3.7/dist-packages/ipykernel_launcher.py:18: FutureWarning: In v4.0, pm.sample will return an `arviz.InferenceData` object instead of a `MultiTrace` by default. You can pass return_inferencedata=True or return_inferencedata=False to be safe and silence this warning.\n",
      "Sequential sampling (2 chains in 1 job)\n",
      "NUTS: [sigma, Intercept, slope]\n"
     ]
    },
    {
     "data": {
      "text/html": [
       "\n",
       "    <div>\n",
       "        <style>\n",
       "            /* Turns off some styling */\n",
       "            progress {\n",
       "                /* gets rid of default border in Firefox and Opera. */\n",
       "                border: none;\n",
       "                /* Needs to be in here for Safari polyfill so background images work as expected. */\n",
       "                background-size: auto;\n",
       "            }\n",
       "            .progress-bar-interrupted, .progress-bar-interrupted::-webkit-progress-bar {\n",
       "                background: #F44336;\n",
       "            }\n",
       "        </style>\n",
       "      <progress value='2000' class='' max='2000' style='width:300px; height:20px; vertical-align: middle;'></progress>\n",
       "      100.00% [2000/2000 00:04<00:00 Sampling chain 0, 86 divergences]\n",
       "    </div>\n",
       "    "
      ],
      "text/plain": [
       "<IPython.core.display.HTML object>"
      ]
     },
     "metadata": {},
     "output_type": "display_data"
    },
    {
     "data": {
      "text/html": [
       "\n",
       "    <div>\n",
       "        <style>\n",
       "            /* Turns off some styling */\n",
       "            progress {\n",
       "                /* gets rid of default border in Firefox and Opera. */\n",
       "                border: none;\n",
       "                /* Needs to be in here for Safari polyfill so background images work as expected. */\n",
       "                background-size: auto;\n",
       "            }\n",
       "            .progress-bar-interrupted, .progress-bar-interrupted::-webkit-progress-bar {\n",
       "                background: #F44336;\n",
       "            }\n",
       "        </style>\n",
       "      <progress value='2000' class='' max='2000' style='width:300px; height:20px; vertical-align: middle;'></progress>\n",
       "      100.00% [2000/2000 00:05<00:00 Sampling chain 1, 66 divergences]\n",
       "    </div>\n",
       "    "
      ],
      "text/plain": [
       "<IPython.core.display.HTML object>"
      ]
     },
     "metadata": {},
     "output_type": "display_data"
    },
    {
     "name": "stderr",
     "output_type": "stream",
     "text": [
      "Sampling 2 chains for 1_000 tune and 1_000 draw iterations (2_000 + 2_000 draws total) took 11 seconds.\n",
      "There were 86 divergences after tuning. Increase `target_accept` or reparameterize.\n",
      "The acceptance probability does not match the target. It is 0.6662157551410419, but should be close to 0.8. Try to increase the number of tuning steps.\n",
      "There were 152 divergences after tuning. Increase `target_accept` or reparameterize.\n",
      "The estimated number of effective samples is smaller than 200 for some parameters.\n"
     ]
    },
    {
     "name": "stdout",
     "output_type": "stream",
     "text": [
      "[0.9914299716799378, 0.9917606554405922, 0.9917826839726487, 0.9914961643316869, 0.9913091154904726, 0.9927695035780566, 0.9912628156975015, 0.9906539837357894, 0.9919153873252831, 0.9910867123554069, 0.9916878856110155, 0.9908587796531538, 0.9905532054920175, 0.9905034344241469, 0.9910766561442395, 0.9909634232245709, 0.9917635054540296, 0.9919460978412878, 0.9918076021028007, 0.9919700868191823]\n",
      "MAG\n"
     ]
    },
    {
     "name": "stderr",
     "output_type": "stream",
     "text": [
      "/usr/local/lib/python3.7/dist-packages/ipykernel_launcher.py:18: FutureWarning: In v4.0, pm.sample will return an `arviz.InferenceData` object instead of a `MultiTrace` by default. You can pass return_inferencedata=True or return_inferencedata=False to be safe and silence this warning.\n",
      "Sequential sampling (2 chains in 1 job)\n",
      "NUTS: [sigma, Intercept, slope]\n"
     ]
    },
    {
     "data": {
      "text/html": [
       "\n",
       "    <div>\n",
       "        <style>\n",
       "            /* Turns off some styling */\n",
       "            progress {\n",
       "                /* gets rid of default border in Firefox and Opera. */\n",
       "                border: none;\n",
       "                /* Needs to be in here for Safari polyfill so background images work as expected. */\n",
       "                background-size: auto;\n",
       "            }\n",
       "            .progress-bar-interrupted, .progress-bar-interrupted::-webkit-progress-bar {\n",
       "                background: #F44336;\n",
       "            }\n",
       "        </style>\n",
       "      <progress value='2000' class='' max='2000' style='width:300px; height:20px; vertical-align: middle;'></progress>\n",
       "      100.00% [2000/2000 00:05<00:00 Sampling chain 0, 82 divergences]\n",
       "    </div>\n",
       "    "
      ],
      "text/plain": [
       "<IPython.core.display.HTML object>"
      ]
     },
     "metadata": {},
     "output_type": "display_data"
    },
    {
     "data": {
      "text/html": [
       "\n",
       "    <div>\n",
       "        <style>\n",
       "            /* Turns off some styling */\n",
       "            progress {\n",
       "                /* gets rid of default border in Firefox and Opera. */\n",
       "                border: none;\n",
       "                /* Needs to be in here for Safari polyfill so background images work as expected. */\n",
       "                background-size: auto;\n",
       "            }\n",
       "            .progress-bar-interrupted, .progress-bar-interrupted::-webkit-progress-bar {\n",
       "                background: #F44336;\n",
       "            }\n",
       "        </style>\n",
       "      <progress value='2000' class='' max='2000' style='width:300px; height:20px; vertical-align: middle;'></progress>\n",
       "      100.00% [2000/2000 00:05<00:00 Sampling chain 1, 61 divergences]\n",
       "    </div>\n",
       "    "
      ],
      "text/plain": [
       "<IPython.core.display.HTML object>"
      ]
     },
     "metadata": {},
     "output_type": "display_data"
    },
    {
     "name": "stderr",
     "output_type": "stream",
     "text": [
      "Sampling 2 chains for 1_000 tune and 1_000 draw iterations (2_000 + 2_000 draws total) took 12 seconds.\n",
      "There were 82 divergences after tuning. Increase `target_accept` or reparameterize.\n",
      "The acceptance probability does not match the target. It is 0.6992426148003431, but should be close to 0.8. Try to increase the number of tuning steps.\n",
      "There were 143 divergences after tuning. Increase `target_accept` or reparameterize.\n",
      "The estimated number of effective samples is smaller than 200 for some parameters.\n"
     ]
    },
    {
     "name": "stdout",
     "output_type": "stream",
     "text": [
      "[0.9749994398108384, 0.9769995896678062, 0.9763232601411743, 0.9752683449279657, 0.9760256086786164, 0.9796972568133028, 0.9751235947002171, 0.9731511724121465, 0.9767871966600198, 0.9747809646209507, 0.9756422407850985, 0.9741432462570254, 0.9744700967681285, 0.9736373184827704, 0.9756323259088893, 0.9739544876634137, 0.9777223249412482, 0.977325168968161, 0.9772345039101022, 0.9776802090014121]\n",
      "GRO\n"
     ]
    },
    {
     "name": "stderr",
     "output_type": "stream",
     "text": [
      "/usr/local/lib/python3.7/dist-packages/ipykernel_launcher.py:18: FutureWarning: In v4.0, pm.sample will return an `arviz.InferenceData` object instead of a `MultiTrace` by default. You can pass return_inferencedata=True or return_inferencedata=False to be safe and silence this warning.\n",
      "Sequential sampling (2 chains in 1 job)\n",
      "NUTS: [sigma, Intercept, slope]\n"
     ]
    },
    {
     "data": {
      "text/html": [
       "\n",
       "    <div>\n",
       "        <style>\n",
       "            /* Turns off some styling */\n",
       "            progress {\n",
       "                /* gets rid of default border in Firefox and Opera. */\n",
       "                border: none;\n",
       "                /* Needs to be in here for Safari polyfill so background images work as expected. */\n",
       "                background-size: auto;\n",
       "            }\n",
       "            .progress-bar-interrupted, .progress-bar-interrupted::-webkit-progress-bar {\n",
       "                background: #F44336;\n",
       "            }\n",
       "        </style>\n",
       "      <progress value='2000' class='' max='2000' style='width:300px; height:20px; vertical-align: middle;'></progress>\n",
       "      100.00% [2000/2000 00:05<00:00 Sampling chain 0, 38 divergences]\n",
       "    </div>\n",
       "    "
      ],
      "text/plain": [
       "<IPython.core.display.HTML object>"
      ]
     },
     "metadata": {},
     "output_type": "display_data"
    },
    {
     "data": {
      "text/html": [
       "\n",
       "    <div>\n",
       "        <style>\n",
       "            /* Turns off some styling */\n",
       "            progress {\n",
       "                /* gets rid of default border in Firefox and Opera. */\n",
       "                border: none;\n",
       "                /* Needs to be in here for Safari polyfill so background images work as expected. */\n",
       "                background-size: auto;\n",
       "            }\n",
       "            .progress-bar-interrupted, .progress-bar-interrupted::-webkit-progress-bar {\n",
       "                background: #F44336;\n",
       "            }\n",
       "        </style>\n",
       "      <progress value='2000' class='' max='2000' style='width:300px; height:20px; vertical-align: middle;'></progress>\n",
       "      100.00% [2000/2000 00:05<00:00 Sampling chain 1, 47 divergences]\n",
       "    </div>\n",
       "    "
      ],
      "text/plain": [
       "<IPython.core.display.HTML object>"
      ]
     },
     "metadata": {},
     "output_type": "display_data"
    },
    {
     "name": "stderr",
     "output_type": "stream",
     "text": [
      "Sampling 2 chains for 1_000 tune and 1_000 draw iterations (2_000 + 2_000 draws total) took 12 seconds.\n",
      "There were 38 divergences after tuning. Increase `target_accept` or reparameterize.\n",
      "There were 85 divergences after tuning. Increase `target_accept` or reparameterize.\n",
      "The number of effective samples is smaller than 25% for some parameters.\n"
     ]
    },
    {
     "name": "stdout",
     "output_type": "stream",
     "text": [
      "[0.9480094852178692, 0.9535209789691235, 0.9511590328580072, 0.9486747059311079, 0.9474494531745876, 0.9586142464319585, 0.9491418703936146, 0.9448164888567981, 0.9522176360636894, 0.9493438142775275, 0.9491669693581978, 0.9474044718161194, 0.9496304591653554, 0.9470776164567356, 0.951531634657028, 0.9463242515575477, 0.9557801855435212, 0.9539090175070621, 0.9541138764340453, 0.9549735959137634]\n",
      "NOR\n"
     ]
    },
    {
     "name": "stderr",
     "output_type": "stream",
     "text": [
      "/usr/local/lib/python3.7/dist-packages/ipykernel_launcher.py:18: FutureWarning: In v4.0, pm.sample will return an `arviz.InferenceData` object instead of a `MultiTrace` by default. You can pass return_inferencedata=True or return_inferencedata=False to be safe and silence this warning.\n",
      "Sequential sampling (2 chains in 1 job)\n",
      "NUTS: [sigma, Intercept, slope]\n"
     ]
    },
    {
     "data": {
      "text/html": [
       "\n",
       "    <div>\n",
       "        <style>\n",
       "            /* Turns off some styling */\n",
       "            progress {\n",
       "                /* gets rid of default border in Firefox and Opera. */\n",
       "                border: none;\n",
       "                /* Needs to be in here for Safari polyfill so background images work as expected. */\n",
       "                background-size: auto;\n",
       "            }\n",
       "            .progress-bar-interrupted, .progress-bar-interrupted::-webkit-progress-bar {\n",
       "                background: #F44336;\n",
       "            }\n",
       "        </style>\n",
       "      <progress value='2000' class='' max='2000' style='width:300px; height:20px; vertical-align: middle;'></progress>\n",
       "      100.00% [2000/2000 00:04<00:00 Sampling chain 0, 60 divergences]\n",
       "    </div>\n",
       "    "
      ],
      "text/plain": [
       "<IPython.core.display.HTML object>"
      ]
     },
     "metadata": {},
     "output_type": "display_data"
    },
    {
     "data": {
      "text/html": [
       "\n",
       "    <div>\n",
       "        <style>\n",
       "            /* Turns off some styling */\n",
       "            progress {\n",
       "                /* gets rid of default border in Firefox and Opera. */\n",
       "                border: none;\n",
       "                /* Needs to be in here for Safari polyfill so background images work as expected. */\n",
       "                background-size: auto;\n",
       "            }\n",
       "            .progress-bar-interrupted, .progress-bar-interrupted::-webkit-progress-bar {\n",
       "                background: #F44336;\n",
       "            }\n",
       "        </style>\n",
       "      <progress value='2000' class='' max='2000' style='width:300px; height:20px; vertical-align: middle;'></progress>\n",
       "      100.00% [2000/2000 00:04<00:00 Sampling chain 1, 36 divergences]\n",
       "    </div>\n",
       "    "
      ],
      "text/plain": [
       "<IPython.core.display.HTML object>"
      ]
     },
     "metadata": {},
     "output_type": "display_data"
    },
    {
     "name": "stderr",
     "output_type": "stream",
     "text": [
      "Sampling 2 chains for 1_000 tune and 1_000 draw iterations (2_000 + 2_000 draws total) took 8 seconds.\n",
      "There were 60 divergences after tuning. Increase `target_accept` or reparameterize.\n",
      "The acceptance probability does not match the target. It is 0.6628358374106533, but should be close to 0.8. Try to increase the number of tuning steps.\n",
      "There were 96 divergences after tuning. Increase `target_accept` or reparameterize.\n",
      "The estimated number of effective samples is smaller than 200 for some parameters.\n"
     ]
    },
    {
     "name": "stdout",
     "output_type": "stream",
     "text": [
      "[0.9977544696519103, 0.9977137224418672, 0.9978118091775539, 0.9977631303931573, 0.9974291438820747, 0.9979942806583834, 0.997641473847521, 0.9975087805839985, 0.9978367085685769, 0.9974677678493358, 0.9977697662239187, 0.9975144148783686, 0.9972780076673113, 0.9973577065061012, 0.9974581884923668, 0.9975994215461743, 0.9976109076868834, 0.9977885595984602, 0.997712030066916, 0.9977559077210829]\n",
      "VER\n"
     ]
    },
    {
     "name": "stderr",
     "output_type": "stream",
     "text": [
      "/usr/local/lib/python3.7/dist-packages/ipykernel_launcher.py:18: FutureWarning: In v4.0, pm.sample will return an `arviz.InferenceData` object instead of a `MultiTrace` by default. You can pass return_inferencedata=True or return_inferencedata=False to be safe and silence this warning.\n",
      "Sequential sampling (2 chains in 1 job)\n",
      "NUTS: [sigma, Intercept, slope]\n"
     ]
    },
    {
     "data": {
      "text/html": [
       "\n",
       "    <div>\n",
       "        <style>\n",
       "            /* Turns off some styling */\n",
       "            progress {\n",
       "                /* gets rid of default border in Firefox and Opera. */\n",
       "                border: none;\n",
       "                /* Needs to be in here for Safari polyfill so background images work as expected. */\n",
       "                background-size: auto;\n",
       "            }\n",
       "            .progress-bar-interrupted, .progress-bar-interrupted::-webkit-progress-bar {\n",
       "                background: #F44336;\n",
       "            }\n",
       "        </style>\n",
       "      <progress value='2000' class='' max='2000' style='width:300px; height:20px; vertical-align: middle;'></progress>\n",
       "      100.00% [2000/2000 00:06<00:00 Sampling chain 0, 85 divergences]\n",
       "    </div>\n",
       "    "
      ],
      "text/plain": [
       "<IPython.core.display.HTML object>"
      ]
     },
     "metadata": {},
     "output_type": "display_data"
    },
    {
     "data": {
      "text/html": [
       "\n",
       "    <div>\n",
       "        <style>\n",
       "            /* Turns off some styling */\n",
       "            progress {\n",
       "                /* gets rid of default border in Firefox and Opera. */\n",
       "                border: none;\n",
       "                /* Needs to be in here for Safari polyfill so background images work as expected. */\n",
       "                background-size: auto;\n",
       "            }\n",
       "            .progress-bar-interrupted, .progress-bar-interrupted::-webkit-progress-bar {\n",
       "                background: #F44336;\n",
       "            }\n",
       "        </style>\n",
       "      <progress value='2000' class='' max='2000' style='width:300px; height:20px; vertical-align: middle;'></progress>\n",
       "      100.00% [2000/2000 00:06<00:00 Sampling chain 1, 78 divergences]\n",
       "    </div>\n",
       "    "
      ],
      "text/plain": [
       "<IPython.core.display.HTML object>"
      ]
     },
     "metadata": {},
     "output_type": "display_data"
    },
    {
     "name": "stderr",
     "output_type": "stream",
     "text": [
      "Sampling 2 chains for 1_000 tune and 1_000 draw iterations (2_000 + 2_000 draws total) took 12 seconds.\n",
      "There were 85 divergences after tuning. Increase `target_accept` or reparameterize.\n",
      "The acceptance probability does not match the target. It is 0.7100356713736976, but should be close to 0.8. Try to increase the number of tuning steps.\n",
      "There were 163 divergences after tuning. Increase `target_accept` or reparameterize.\n",
      "The rhat statistic is larger than 1.05 for some parameters. This indicates slight problems during sampling.\n",
      "The estimated number of effective samples is smaller than 200 for some parameters.\n"
     ]
    },
    {
     "name": "stdout",
     "output_type": "stream",
     "text": [
      "[0.9991770009647875, 0.9991119651331781, 0.9991843477685164, 0.9991769336293758, 0.9990121527134488, 0.9992156268063154, 0.9991108939486353, 0.9990744867182553, 0.9991893398127334, 0.9990163594026746, 0.9991784864493263, 0.9990578151030387, 0.9989089108411657, 0.9989769847673592, 0.9989899142366769, 0.9991100422355441, 0.999028411921275, 0.9991493584965847, 0.9992222345349147, 0.9991208310685534]\n",
      "GAS\n"
     ]
    },
    {
     "name": "stderr",
     "output_type": "stream",
     "text": [
      "/usr/local/lib/python3.7/dist-packages/ipykernel_launcher.py:18: FutureWarning: In v4.0, pm.sample will return an `arviz.InferenceData` object instead of a `MultiTrace` by default. You can pass return_inferencedata=True or return_inferencedata=False to be safe and silence this warning.\n",
      "Sequential sampling (2 chains in 1 job)\n",
      "NUTS: [sigma, Intercept, slope]\n"
     ]
    },
    {
     "data": {
      "text/html": [
       "\n",
       "    <div>\n",
       "        <style>\n",
       "            /* Turns off some styling */\n",
       "            progress {\n",
       "                /* gets rid of default border in Firefox and Opera. */\n",
       "                border: none;\n",
       "                /* Needs to be in here for Safari polyfill so background images work as expected. */\n",
       "                background-size: auto;\n",
       "            }\n",
       "            .progress-bar-interrupted, .progress-bar-interrupted::-webkit-progress-bar {\n",
       "                background: #F44336;\n",
       "            }\n",
       "        </style>\n",
       "      <progress value='2000' class='' max='2000' style='width:300px; height:20px; vertical-align: middle;'></progress>\n",
       "      100.00% [2000/2000 00:04<00:00 Sampling chain 0, 139 divergences]\n",
       "    </div>\n",
       "    "
      ],
      "text/plain": [
       "<IPython.core.display.HTML object>"
      ]
     },
     "metadata": {},
     "output_type": "display_data"
    },
    {
     "data": {
      "text/html": [
       "\n",
       "    <div>\n",
       "        <style>\n",
       "            /* Turns off some styling */\n",
       "            progress {\n",
       "                /* gets rid of default border in Firefox and Opera. */\n",
       "                border: none;\n",
       "                /* Needs to be in here for Safari polyfill so background images work as expected. */\n",
       "                background-size: auto;\n",
       "            }\n",
       "            .progress-bar-interrupted, .progress-bar-interrupted::-webkit-progress-bar {\n",
       "                background: #F44336;\n",
       "            }\n",
       "        </style>\n",
       "      <progress value='2000' class='' max='2000' style='width:300px; height:20px; vertical-align: middle;'></progress>\n",
       "      100.00% [2000/2000 00:04<00:00 Sampling chain 1, 271 divergences]\n",
       "    </div>\n",
       "    "
      ],
      "text/plain": [
       "<IPython.core.display.HTML object>"
      ]
     },
     "metadata": {},
     "output_type": "display_data"
    },
    {
     "name": "stderr",
     "output_type": "stream",
     "text": [
      "Sampling 2 chains for 1_000 tune and 1_000 draw iterations (2_000 + 2_000 draws total) took 9 seconds.\n",
      "There were 139 divergences after tuning. Increase `target_accept` or reparameterize.\n",
      "The acceptance probability does not match the target. It is 0.6619806898445642, but should be close to 0.8. Try to increase the number of tuning steps.\n",
      "There were 410 divergences after tuning. Increase `target_accept` or reparameterize.\n",
      "The acceptance probability does not match the target. It is 0.35482123805490556, but should be close to 0.8. Try to increase the number of tuning steps.\n",
      "The rhat statistic is larger than 1.2 for some parameters.\n",
      "The estimated number of effective samples is smaller than 200 for some parameters.\n"
     ]
    },
    {
     "name": "stdout",
     "output_type": "stream",
     "text": [
      "[0.997752554129079, 0.9976980936481481, 0.9978520938549658, 0.9977602401766026, 0.9974162242151816, 0.9979780737840485, 0.997633096801353, 0.9975045814178082, 0.9978293844504889, 0.9974519135928869, 0.9977665938741098, 0.9975049288543113, 0.997253315597643, 0.9973428177760937, 0.9974362958045102, 0.997595366217699, 0.9975837926823383, 0.9977753039909778, 0.9979201242235546, 0.9977383751464057]\n",
      "ALB\n"
     ]
    },
    {
     "name": "stderr",
     "output_type": "stream",
     "text": [
      "/usr/local/lib/python3.7/dist-packages/ipykernel_launcher.py:18: FutureWarning: In v4.0, pm.sample will return an `arviz.InferenceData` object instead of a `MultiTrace` by default. You can pass return_inferencedata=True or return_inferencedata=False to be safe and silence this warning.\n",
      "Sequential sampling (2 chains in 1 job)\n",
      "NUTS: [sigma, Intercept, slope]\n"
     ]
    },
    {
     "data": {
      "text/html": [
       "\n",
       "    <div>\n",
       "        <style>\n",
       "            /* Turns off some styling */\n",
       "            progress {\n",
       "                /* gets rid of default border in Firefox and Opera. */\n",
       "                border: none;\n",
       "                /* Needs to be in here for Safari polyfill so background images work as expected. */\n",
       "                background-size: auto;\n",
       "            }\n",
       "            .progress-bar-interrupted, .progress-bar-interrupted::-webkit-progress-bar {\n",
       "                background: #F44336;\n",
       "            }\n",
       "        </style>\n",
       "      <progress value='2000' class='' max='2000' style='width:300px; height:20px; vertical-align: middle;'></progress>\n",
       "      100.00% [2000/2000 00:04<00:00 Sampling chain 0, 40 divergences]\n",
       "    </div>\n",
       "    "
      ],
      "text/plain": [
       "<IPython.core.display.HTML object>"
      ]
     },
     "metadata": {},
     "output_type": "display_data"
    },
    {
     "data": {
      "text/html": [
       "\n",
       "    <div>\n",
       "        <style>\n",
       "            /* Turns off some styling */\n",
       "            progress {\n",
       "                /* gets rid of default border in Firefox and Opera. */\n",
       "                border: none;\n",
       "                /* Needs to be in here for Safari polyfill so background images work as expected. */\n",
       "                background-size: auto;\n",
       "            }\n",
       "            .progress-bar-interrupted, .progress-bar-interrupted::-webkit-progress-bar {\n",
       "                background: #F44336;\n",
       "            }\n",
       "        </style>\n",
       "      <progress value='2000' class='' max='2000' style='width:300px; height:20px; vertical-align: middle;'></progress>\n",
       "      100.00% [2000/2000 00:04<00:00 Sampling chain 1, 204 divergences]\n",
       "    </div>\n",
       "    "
      ],
      "text/plain": [
       "<IPython.core.display.HTML object>"
      ]
     },
     "metadata": {},
     "output_type": "display_data"
    },
    {
     "name": "stderr",
     "output_type": "stream",
     "text": [
      "Sampling 2 chains for 1_000 tune and 1_000 draw iterations (2_000 + 2_000 draws total) took 9 seconds.\n",
      "There were 40 divergences after tuning. Increase `target_accept` or reparameterize.\n",
      "There were 244 divergences after tuning. Increase `target_accept` or reparameterize.\n",
      "The acceptance probability does not match the target. It is 0.4911215834707684, but should be close to 0.8. Try to increase the number of tuning steps.\n",
      "The rhat statistic is larger than 1.05 for some parameters. This indicates slight problems during sampling.\n",
      "The estimated number of effective samples is smaller than 200 for some parameters.\n"
     ]
    },
    {
     "name": "stdout",
     "output_type": "stream",
     "text": [
      "[0.9976300089033593, 0.997504964273209, 0.9976669696352561, 0.9975660642512936, 0.9971988738182092, 0.997808428284337, 0.9974311376493875, 0.9972901581241037, 0.9976430587597681, 0.9972388549624815, 0.9975730775058933, 0.9972930812474918, 0.9970286161863479, 0.9971205272596311, 0.9972248965083222, 0.997388245135399, 0.9973868843365398, 0.9975873798237701, 0.9977415573971354, 0.9975494807997588]\n",
      "RUS\n"
     ]
    },
    {
     "name": "stderr",
     "output_type": "stream",
     "text": [
      "/usr/local/lib/python3.7/dist-packages/ipykernel_launcher.py:18: FutureWarning: In v4.0, pm.sample will return an `arviz.InferenceData` object instead of a `MultiTrace` by default. You can pass return_inferencedata=True or return_inferencedata=False to be safe and silence this warning.\n",
      "Sequential sampling (2 chains in 1 job)\n",
      "NUTS: [sigma, Intercept, slope]\n"
     ]
    },
    {
     "data": {
      "text/html": [
       "\n",
       "    <div>\n",
       "        <style>\n",
       "            /* Turns off some styling */\n",
       "            progress {\n",
       "                /* gets rid of default border in Firefox and Opera. */\n",
       "                border: none;\n",
       "                /* Needs to be in here for Safari polyfill so background images work as expected. */\n",
       "                background-size: auto;\n",
       "            }\n",
       "            .progress-bar-interrupted, .progress-bar-interrupted::-webkit-progress-bar {\n",
       "                background: #F44336;\n",
       "            }\n",
       "        </style>\n",
       "      <progress value='2000' class='' max='2000' style='width:300px; height:20px; vertical-align: middle;'></progress>\n",
       "      100.00% [2000/2000 00:03<00:00 Sampling chain 0, 22 divergences]\n",
       "    </div>\n",
       "    "
      ],
      "text/plain": [
       "<IPython.core.display.HTML object>"
      ]
     },
     "metadata": {},
     "output_type": "display_data"
    },
    {
     "data": {
      "text/html": [
       "\n",
       "    <div>\n",
       "        <style>\n",
       "            /* Turns off some styling */\n",
       "            progress {\n",
       "                /* gets rid of default border in Firefox and Opera. */\n",
       "                border: none;\n",
       "                /* Needs to be in here for Safari polyfill so background images work as expected. */\n",
       "                background-size: auto;\n",
       "            }\n",
       "            .progress-bar-interrupted, .progress-bar-interrupted::-webkit-progress-bar {\n",
       "                background: #F44336;\n",
       "            }\n",
       "        </style>\n",
       "      <progress value='2000' class='' max='2000' style='width:300px; height:20px; vertical-align: middle;'></progress>\n",
       "      100.00% [2000/2000 00:03<00:00 Sampling chain 1, 24 divergences]\n",
       "    </div>\n",
       "    "
      ],
      "text/plain": [
       "<IPython.core.display.HTML object>"
      ]
     },
     "metadata": {},
     "output_type": "display_data"
    },
    {
     "name": "stderr",
     "output_type": "stream",
     "text": [
      "Sampling 2 chains for 1_000 tune and 1_000 draw iterations (2_000 + 2_000 draws total) took 8 seconds.\n",
      "There were 22 divergences after tuning. Increase `target_accept` or reparameterize.\n",
      "There were 46 divergences after tuning. Increase `target_accept` or reparameterize.\n",
      "The number of effective samples is smaller than 25% for some parameters.\n"
     ]
    },
    {
     "name": "stdout",
     "output_type": "stream",
     "text": [
      "[0.9658922496474851, 0.9675335291200007, 0.9668321179210452, 0.9646618304389807, 0.9632581590601013, 0.971237594261578, 0.9646960861669995, 0.961808532256187, 0.9669528628509314, 0.9644982155131114, 0.9648359451080867, 0.963390719622235, 0.9643567420789549, 0.9628989467155837, 0.9658531764226137, 0.9631967467488286, 0.9688240750725925, 0.9679061204396457, 0.968304587856955, 0.9685220562452705]\n",
      "STR\n",
      "[0.9658922496474851, 0.9675335291200007, 0.9668321179210452, 0.9646618304389807, 0.9632581590601013, 0.971237594261578, 0.9646960861669995, 0.961808532256187, 0.9669528628509314, 0.9644982155131114, 0.9648359451080867, 0.963390719622235, 0.9643567420789549, 0.9628989467155837, 0.9658531764226137, 0.9631967467488286, 0.9688240750725925, 0.9679061204396457, 0.968304587856955, 0.9685220562452705]\n",
      "SAI\n"
     ]
    },
    {
     "name": "stderr",
     "output_type": "stream",
     "text": [
      "/usr/local/lib/python3.7/dist-packages/ipykernel_launcher.py:18: FutureWarning: In v4.0, pm.sample will return an `arviz.InferenceData` object instead of a `MultiTrace` by default. You can pass return_inferencedata=True or return_inferencedata=False to be safe and silence this warning.\n",
      "Sequential sampling (2 chains in 1 job)\n",
      "NUTS: [sigma, Intercept, slope]\n"
     ]
    },
    {
     "data": {
      "text/html": [
       "\n",
       "    <div>\n",
       "        <style>\n",
       "            /* Turns off some styling */\n",
       "            progress {\n",
       "                /* gets rid of default border in Firefox and Opera. */\n",
       "                border: none;\n",
       "                /* Needs to be in here for Safari polyfill so background images work as expected. */\n",
       "                background-size: auto;\n",
       "            }\n",
       "            .progress-bar-interrupted, .progress-bar-interrupted::-webkit-progress-bar {\n",
       "                background: #F44336;\n",
       "            }\n",
       "        </style>\n",
       "      <progress value='2000' class='' max='2000' style='width:300px; height:20px; vertical-align: middle;'></progress>\n",
       "      100.00% [2000/2000 00:04<00:00 Sampling chain 0, 9 divergences]\n",
       "    </div>\n",
       "    "
      ],
      "text/plain": [
       "<IPython.core.display.HTML object>"
      ]
     },
     "metadata": {},
     "output_type": "display_data"
    },
    {
     "data": {
      "text/html": [
       "\n",
       "    <div>\n",
       "        <style>\n",
       "            /* Turns off some styling */\n",
       "            progress {\n",
       "                /* gets rid of default border in Firefox and Opera. */\n",
       "                border: none;\n",
       "                /* Needs to be in here for Safari polyfill so background images work as expected. */\n",
       "                background-size: auto;\n",
       "            }\n",
       "            .progress-bar-interrupted, .progress-bar-interrupted::-webkit-progress-bar {\n",
       "                background: #F44336;\n",
       "            }\n",
       "        </style>\n",
       "      <progress value='2000' class='' max='2000' style='width:300px; height:20px; vertical-align: middle;'></progress>\n",
       "      100.00% [2000/2000 00:05<00:00 Sampling chain 1, 3 divergences]\n",
       "    </div>\n",
       "    "
      ],
      "text/plain": [
       "<IPython.core.display.HTML object>"
      ]
     },
     "metadata": {},
     "output_type": "display_data"
    },
    {
     "name": "stderr",
     "output_type": "stream",
     "text": [
      "Sampling 2 chains for 1_000 tune and 1_000 draw iterations (2_000 + 2_000 draws total) took 10 seconds.\n",
      "There were 9 divergences after tuning. Increase `target_accept` or reparameterize.\n",
      "There were 12 divergences after tuning. Increase `target_accept` or reparameterize.\n",
      "The estimated number of effective samples is smaller than 200 for some parameters.\n"
     ]
    },
    {
     "name": "stdout",
     "output_type": "stream",
     "text": [
      "[0.9979366749134663, 0.9978014285411609, 0.9979652692007922, 0.9978841567938588, 0.9975401960388113, 0.9980645163684699, 0.9977537579515813, 0.9976400741686967, 0.99794117901815, 0.9975683971842856, 0.9978896349747716, 0.9976305254052561, 0.9973638453983793, 0.9974670643937658, 0.9975421474556222, 0.9977219179739537, 0.9979981310295034, 0.9978788677840528, 0.9980259803255889, 0.9978358119976055]\n",
      "PER\n"
     ]
    },
    {
     "name": "stderr",
     "output_type": "stream",
     "text": [
      "/usr/local/lib/python3.7/dist-packages/ipykernel_launcher.py:18: FutureWarning: In v4.0, pm.sample will return an `arviz.InferenceData` object instead of a `MultiTrace` by default. You can pass return_inferencedata=True or return_inferencedata=False to be safe and silence this warning.\n",
      "Sequential sampling (2 chains in 1 job)\n",
      "NUTS: [sigma, Intercept, slope]\n"
     ]
    },
    {
     "data": {
      "text/html": [
       "\n",
       "    <div>\n",
       "        <style>\n",
       "            /* Turns off some styling */\n",
       "            progress {\n",
       "                /* gets rid of default border in Firefox and Opera. */\n",
       "                border: none;\n",
       "                /* Needs to be in here for Safari polyfill so background images work as expected. */\n",
       "                background-size: auto;\n",
       "            }\n",
       "            .progress-bar-interrupted, .progress-bar-interrupted::-webkit-progress-bar {\n",
       "                background: #F44336;\n",
       "            }\n",
       "        </style>\n",
       "      <progress value='2000' class='' max='2000' style='width:300px; height:20px; vertical-align: middle;'></progress>\n",
       "      100.00% [2000/2000 00:05<00:00 Sampling chain 0, 132 divergences]\n",
       "    </div>\n",
       "    "
      ],
      "text/plain": [
       "<IPython.core.display.HTML object>"
      ]
     },
     "metadata": {},
     "output_type": "display_data"
    },
    {
     "data": {
      "text/html": [
       "\n",
       "    <div>\n",
       "        <style>\n",
       "            /* Turns off some styling */\n",
       "            progress {\n",
       "                /* gets rid of default border in Firefox and Opera. */\n",
       "                border: none;\n",
       "                /* Needs to be in here for Safari polyfill so background images work as expected. */\n",
       "                background-size: auto;\n",
       "            }\n",
       "            .progress-bar-interrupted, .progress-bar-interrupted::-webkit-progress-bar {\n",
       "                background: #F44336;\n",
       "            }\n",
       "        </style>\n",
       "      <progress value='2000' class='' max='2000' style='width:300px; height:20px; vertical-align: middle;'></progress>\n",
       "      100.00% [2000/2000 00:05<00:00 Sampling chain 1, 113 divergences]\n",
       "    </div>\n",
       "    "
      ],
      "text/plain": [
       "<IPython.core.display.HTML object>"
      ]
     },
     "metadata": {},
     "output_type": "display_data"
    },
    {
     "name": "stderr",
     "output_type": "stream",
     "text": [
      "Sampling 2 chains for 1_000 tune and 1_000 draw iterations (2_000 + 2_000 draws total) took 11 seconds.\n",
      "There were 132 divergences after tuning. Increase `target_accept` or reparameterize.\n",
      "The acceptance probability does not match the target. It is 0.6217563581997786, but should be close to 0.8. Try to increase the number of tuning steps.\n",
      "There were 245 divergences after tuning. Increase `target_accept` or reparameterize.\n",
      "The acceptance probability does not match the target. It is 0.6750668316356113, but should be close to 0.8. Try to increase the number of tuning steps.\n",
      "The estimated number of effective samples is smaller than 200 for some parameters.\n"
     ]
    },
    {
     "name": "stdout",
     "output_type": "stream",
     "text": [
      "[0.9969649417552728, 0.996789345461529, 0.9970088161999604, 0.9968869367921193, 0.9964109086235584, 0.9971698598034748, 0.9967087105857618, 0.9965390776271024, 0.9969764335324626, 0.9964560200341371, 0.9968952853852912, 0.9965341384267481, 0.9969923812022408, 0.996310034773609, 0.9964287239145089, 0.9966576532450355, 0.9970790600492456, 0.9968966907734784, 0.9970996123167892, 0.9968420419359525]\n",
      "VET\n"
     ]
    },
    {
     "name": "stderr",
     "output_type": "stream",
     "text": [
      "/usr/local/lib/python3.7/dist-packages/ipykernel_launcher.py:18: FutureWarning: In v4.0, pm.sample will return an `arviz.InferenceData` object instead of a `MultiTrace` by default. You can pass return_inferencedata=True or return_inferencedata=False to be safe and silence this warning.\n",
      "Sequential sampling (2 chains in 1 job)\n",
      "NUTS: [sigma, Intercept, slope]\n"
     ]
    },
    {
     "data": {
      "text/html": [
       "\n",
       "    <div>\n",
       "        <style>\n",
       "            /* Turns off some styling */\n",
       "            progress {\n",
       "                /* gets rid of default border in Firefox and Opera. */\n",
       "                border: none;\n",
       "                /* Needs to be in here for Safari polyfill so background images work as expected. */\n",
       "                background-size: auto;\n",
       "            }\n",
       "            .progress-bar-interrupted, .progress-bar-interrupted::-webkit-progress-bar {\n",
       "                background: #F44336;\n",
       "            }\n",
       "        </style>\n",
       "      <progress value='2000' class='' max='2000' style='width:300px; height:20px; vertical-align: middle;'></progress>\n",
       "      100.00% [2000/2000 00:06<00:00 Sampling chain 0, 59 divergences]\n",
       "    </div>\n",
       "    "
      ],
      "text/plain": [
       "<IPython.core.display.HTML object>"
      ]
     },
     "metadata": {},
     "output_type": "display_data"
    },
    {
     "data": {
      "text/html": [
       "\n",
       "    <div>\n",
       "        <style>\n",
       "            /* Turns off some styling */\n",
       "            progress {\n",
       "                /* gets rid of default border in Firefox and Opera. */\n",
       "                border: none;\n",
       "                /* Needs to be in here for Safari polyfill so background images work as expected. */\n",
       "                background-size: auto;\n",
       "            }\n",
       "            .progress-bar-interrupted, .progress-bar-interrupted::-webkit-progress-bar {\n",
       "                background: #F44336;\n",
       "            }\n",
       "        </style>\n",
       "      <progress value='2000' class='' max='2000' style='width:300px; height:20px; vertical-align: middle;'></progress>\n",
       "      100.00% [2000/2000 00:06<00:00 Sampling chain 1, 42 divergences]\n",
       "    </div>\n",
       "    "
      ],
      "text/plain": [
       "<IPython.core.display.HTML object>"
      ]
     },
     "metadata": {},
     "output_type": "display_data"
    },
    {
     "name": "stderr",
     "output_type": "stream",
     "text": [
      "Sampling 2 chains for 1_000 tune and 1_000 draw iterations (2_000 + 2_000 draws total) took 13 seconds.\n",
      "There were 60 divergences after tuning. Increase `target_accept` or reparameterize.\n",
      "The acceptance probability does not match the target. It is 0.7146901614612441, but should be close to 0.8. Try to increase the number of tuning steps.\n",
      "There were 102 divergences after tuning. Increase `target_accept` or reparameterize.\n",
      "The rhat statistic is larger than 1.05 for some parameters. This indicates slight problems during sampling.\n",
      "The estimated number of effective samples is smaller than 200 for some parameters.\n"
     ]
    },
    {
     "name": "stdout",
     "output_type": "stream",
     "text": [
      "[0.9970242569646247, 0.9968410004166199, 0.997065682677647, 0.9969492223885822, 0.9964728740025717, 0.9972130483421321, 0.9967691899437588, 0.9966070015300963, 0.9970325647306818, 0.9965141994236405, 0.9969571287552889, 0.996597013804852, 0.9970440642189584, 0.9963720781949258, 0.9964814700761813, 0.9967223545152127, 0.9971210765437771, 0.9969485323524319, 0.9971527799263735, 0.997077486790556]\n",
      "LAT\n",
      "[0.9970242569646247, 0.9968410004166199, 0.997065682677647, 0.9969492223885822, 0.9964728740025717, 0.9972130483421321, 0.9967691899437588, 0.9966070015300963, 0.9970325647306818, 0.9965141994236405, 0.9969571287552889, 0.996597013804852, 0.9970440642189584, 0.9963720781949258, 0.9964814700761813, 0.9967223545152127, 0.9971210765437771, 0.9969485323524319, 0.9971527799263735, 0.997077486790556]\n",
      "LEC\n"
     ]
    },
    {
     "name": "stderr",
     "output_type": "stream",
     "text": [
      "/usr/local/lib/python3.7/dist-packages/ipykernel_launcher.py:18: FutureWarning: In v4.0, pm.sample will return an `arviz.InferenceData` object instead of a `MultiTrace` by default. You can pass return_inferencedata=True or return_inferencedata=False to be safe and silence this warning.\n",
      "Sequential sampling (2 chains in 1 job)\n",
      "NUTS: [sigma, Intercept, slope]\n"
     ]
    },
    {
     "data": {
      "text/html": [
       "\n",
       "    <div>\n",
       "        <style>\n",
       "            /* Turns off some styling */\n",
       "            progress {\n",
       "                /* gets rid of default border in Firefox and Opera. */\n",
       "                border: none;\n",
       "                /* Needs to be in here for Safari polyfill so background images work as expected. */\n",
       "                background-size: auto;\n",
       "            }\n",
       "            .progress-bar-interrupted, .progress-bar-interrupted::-webkit-progress-bar {\n",
       "                background: #F44336;\n",
       "            }\n",
       "        </style>\n",
       "      <progress value='2000' class='' max='2000' style='width:300px; height:20px; vertical-align: middle;'></progress>\n",
       "      100.00% [2000/2000 00:04<00:00 Sampling chain 0, 168 divergences]\n",
       "    </div>\n",
       "    "
      ],
      "text/plain": [
       "<IPython.core.display.HTML object>"
      ]
     },
     "metadata": {},
     "output_type": "display_data"
    },
    {
     "data": {
      "text/html": [
       "\n",
       "    <div>\n",
       "        <style>\n",
       "            /* Turns off some styling */\n",
       "            progress {\n",
       "                /* gets rid of default border in Firefox and Opera. */\n",
       "                border: none;\n",
       "                /* Needs to be in here for Safari polyfill so background images work as expected. */\n",
       "                background-size: auto;\n",
       "            }\n",
       "            .progress-bar-interrupted, .progress-bar-interrupted::-webkit-progress-bar {\n",
       "                background: #F44336;\n",
       "            }\n",
       "        </style>\n",
       "      <progress value='2000' class='' max='2000' style='width:300px; height:20px; vertical-align: middle;'></progress>\n",
       "      100.00% [2000/2000 00:05<00:00 Sampling chain 1, 96 divergences]\n",
       "    </div>\n",
       "    "
      ],
      "text/plain": [
       "<IPython.core.display.HTML object>"
      ]
     },
     "metadata": {},
     "output_type": "display_data"
    },
    {
     "name": "stderr",
     "output_type": "stream",
     "text": [
      "Sampling 2 chains for 1_000 tune and 1_000 draw iterations (2_000 + 2_000 draws total) took 10 seconds.\n",
      "There were 168 divergences after tuning. Increase `target_accept` or reparameterize.\n",
      "The acceptance probability does not match the target. It is 0.5435883162660979, but should be close to 0.8. Try to increase the number of tuning steps.\n",
      "There were 264 divergences after tuning. Increase `target_accept` or reparameterize.\n",
      "The acceptance probability does not match the target. It is 0.6870938500936754, but should be close to 0.8. Try to increase the number of tuning steps.\n",
      "The rhat statistic is larger than 1.05 for some parameters. This indicates slight problems during sampling.\n",
      "The estimated number of effective samples is smaller than 200 for some parameters.\n"
     ]
    },
    {
     "name": "stdout",
     "output_type": "stream",
     "text": [
      "[0.9948372286313273, 0.994660838603808, 0.9949266691307619, 0.9946927701478291, 0.9940088528929366, 0.9953007954638129, 0.9944537007829386, 0.9941314126635797, 0.9947904141126511, 0.994112425628322, 0.9947095390013444, 0.9941768813986256, 0.9949561597398147, 0.9938631361641886, 0.9941278471143291, 0.9943359534333465, 0.9951791686383258, 0.994815102147168, 0.9950974145514775, 0.9949986780941278]\n",
      "KVY\n",
      "[0.9948372286313273, 0.994660838603808, 0.9949266691307619, 0.9946927701478291, 0.9940088528929366, 0.9953007954638129, 0.9944537007829386, 0.9941314126635797, 0.9947904141126511, 0.994112425628322, 0.9947095390013444, 0.9941768813986256, 0.9949561597398147, 0.9938631361641886, 0.9941278471143291, 0.9943359534333465, 0.9951791686383258, 0.994815102147168, 0.9950974145514775, 0.9949986780941278]\n",
      "STR\n",
      "[0.9948372286313273, 0.994660838603808, 0.9949266691307619, 0.9946927701478291, 0.9940088528929366, 0.9953007954638129, 0.9944537007829386, 0.9941314126635797, 0.9947904141126511, 0.994112425628322, 0.9947095390013444, 0.9941768813986256, 0.9949561597398147, 0.9938631361641886, 0.9941278471143291, 0.9943359534333465, 0.9951791686383258, 0.994815102147168, 0.9950974145514775, 0.9949986780941278]\n",
      "MAG\n",
      "[0.9948372286313273, 0.994660838603808, 0.9949266691307619, 0.9946927701478291, 0.9940088528929366, 0.9953007954638129, 0.9944537007829386, 0.9941314126635797, 0.9947904141126511, 0.994112425628322, 0.9947095390013444, 0.9941768813986256, 0.9949561597398147, 0.9938631361641886, 0.9941278471143291, 0.9943359534333465, 0.9951791686383258, 0.994815102147168, 0.9950974145514775, 0.9949986780941278]\n",
      "GRO\n",
      "[0.9948372286313273, 0.994660838603808, 0.9949266691307619, 0.9946927701478291, 0.9940088528929366, 0.9953007954638129, 0.9944537007829386, 0.9941314126635797, 0.9947904141126511, 0.994112425628322, 0.9947095390013444, 0.9941768813986256, 0.9949561597398147, 0.9938631361641886, 0.9941278471143291, 0.9943359534333465, 0.9951791686383258, 0.994815102147168, 0.9950974145514775, 0.9949986780941278]\n",
      "GAS\n",
      "[0.9948372286313273, 0.994660838603808, 0.9949266691307619, 0.9946927701478291, 0.9940088528929366, 0.9953007954638129, 0.9944537007829386, 0.9941314126635797, 0.9947904141126511, 0.994112425628322, 0.9947095390013444, 0.9941768813986256, 0.9949561597398147, 0.9938631361641886, 0.9941278471143291, 0.9943359534333465, 0.9951791686383258, 0.994815102147168, 0.9950974145514775, 0.9949986780941278]\n",
      "NOR\n",
      "[0.9948372286313273, 0.994660838603808, 0.9949266691307619, 0.9946927701478291, 0.9940088528929366, 0.9953007954638129, 0.9944537007829386, 0.9941314126635797, 0.9947904141126511, 0.994112425628322, 0.9947095390013444, 0.9941768813986256, 0.9949561597398147, 0.9938631361641886, 0.9941278471143291, 0.9943359534333465, 0.9951791686383258, 0.994815102147168, 0.9950974145514775, 0.9949986780941278]\n",
      "VER\n",
      "[0.9948372286313273, 0.994660838603808, 0.9949266691307619, 0.9946927701478291, 0.9940088528929366, 0.9953007954638129, 0.9944537007829386, 0.9941314126635797, 0.9947904141126511, 0.994112425628322, 0.9947095390013444, 0.9941768813986256, 0.9949561597398147, 0.9938631361641886, 0.9941278471143291, 0.9943359534333465, 0.9951791686383258, 0.994815102147168, 0.9950974145514775, 0.9949986780941278]\n",
      "ALB\n",
      "[0.9948372286313273, 0.994660838603808, 0.9949266691307619, 0.9946927701478291, 0.9940088528929366, 0.9953007954638129, 0.9944537007829386, 0.9941314126635797, 0.9947904141126511, 0.994112425628322, 0.9947095390013444, 0.9941768813986256, 0.9949561597398147, 0.9938631361641886, 0.9941278471143291, 0.9943359534333465, 0.9951791686383258, 0.994815102147168, 0.9950974145514775, 0.9949986780941278]\n",
      "SAI\n",
      "[0.9948372286313273, 0.994660838603808, 0.9949266691307619, 0.9946927701478291, 0.9940088528929366, 0.9953007954638129, 0.9944537007829386, 0.9941314126635797, 0.9947904141126511, 0.994112425628322, 0.9947095390013444, 0.9941768813986256, 0.9949561597398147, 0.9938631361641886, 0.9941278471143291, 0.9943359534333465, 0.9951791686383258, 0.994815102147168, 0.9950974145514775, 0.9949986780941278]\n",
      "PER\n",
      "[0.9948372286313273, 0.994660838603808, 0.9949266691307619, 0.9946927701478291, 0.9940088528929366, 0.9953007954638129, 0.9944537007829386, 0.9941314126635797, 0.9947904141126511, 0.994112425628322, 0.9947095390013444, 0.9941768813986256, 0.9949561597398147, 0.9938631361641886, 0.9941278471143291, 0.9943359534333465, 0.9951791686383258, 0.994815102147168, 0.9950974145514775, 0.9949986780941278]\n",
      "VET\n",
      "[0.9948372286313273, 0.994660838603808, 0.9949266691307619, 0.9946927701478291, 0.9940088528929366, 0.9953007954638129, 0.9944537007829386, 0.9941314126635797, 0.9947904141126511, 0.994112425628322, 0.9947095390013444, 0.9941768813986256, 0.9949561597398147, 0.9938631361641886, 0.9941278471143291, 0.9943359534333465, 0.9951791686383258, 0.994815102147168, 0.9950974145514775, 0.9949986780941278]\n",
      "KVY\n",
      "[0.9948372286313273, 0.994660838603808, 0.9949266691307619, 0.9946927701478291, 0.9940088528929366, 0.9953007954638129, 0.9944537007829386, 0.9941314126635797, 0.9947904141126511, 0.994112425628322, 0.9947095390013444, 0.9941768813986256, 0.9949561597398147, 0.9938631361641886, 0.9941278471143291, 0.9943359534333465, 0.9951791686383258, 0.994815102147168, 0.9950974145514775, 0.9949986780941278]\n",
      "LEC\n",
      "[0.9948372286313273, 0.994660838603808, 0.9949266691307619, 0.9946927701478291, 0.9940088528929366, 0.9953007954638129, 0.9944537007829386, 0.9941314126635797, 0.9947904141126511, 0.994112425628322, 0.9947095390013444, 0.9941768813986256, 0.9949561597398147, 0.9938631361641886, 0.9941278471143291, 0.9943359534333465, 0.9951791686383258, 0.994815102147168, 0.9950974145514775, 0.9949986780941278]\n",
      "MAG\n",
      "[0.9948372286313273, 0.994660838603808, 0.9949266691307619, 0.9946927701478291, 0.9940088528929366, 0.9953007954638129, 0.9944537007829386, 0.9941314126635797, 0.9947904141126511, 0.994112425628322, 0.9947095390013444, 0.9941768813986256, 0.9949561597398147, 0.9938631361641886, 0.9941278471143291, 0.9943359534333465, 0.9951791686383258, 0.994815102147168, 0.9950974145514775, 0.9949986780941278]\n",
      "BOT\n"
     ]
    },
    {
     "name": "stderr",
     "output_type": "stream",
     "text": [
      "/usr/local/lib/python3.7/dist-packages/ipykernel_launcher.py:18: FutureWarning: In v4.0, pm.sample will return an `arviz.InferenceData` object instead of a `MultiTrace` by default. You can pass return_inferencedata=True or return_inferencedata=False to be safe and silence this warning.\n",
      "Sequential sampling (2 chains in 1 job)\n",
      "NUTS: [sigma, Intercept, slope]\n"
     ]
    },
    {
     "data": {
      "text/html": [
       "\n",
       "    <div>\n",
       "        <style>\n",
       "            /* Turns off some styling */\n",
       "            progress {\n",
       "                /* gets rid of default border in Firefox and Opera. */\n",
       "                border: none;\n",
       "                /* Needs to be in here for Safari polyfill so background images work as expected. */\n",
       "                background-size: auto;\n",
       "            }\n",
       "            .progress-bar-interrupted, .progress-bar-interrupted::-webkit-progress-bar {\n",
       "                background: #F44336;\n",
       "            }\n",
       "        </style>\n",
       "      <progress value='2000' class='' max='2000' style='width:300px; height:20px; vertical-align: middle;'></progress>\n",
       "      100.00% [2000/2000 00:05<00:00 Sampling chain 0, 64 divergences]\n",
       "    </div>\n",
       "    "
      ],
      "text/plain": [
       "<IPython.core.display.HTML object>"
      ]
     },
     "metadata": {},
     "output_type": "display_data"
    },
    {
     "data": {
      "text/html": [
       "\n",
       "    <div>\n",
       "        <style>\n",
       "            /* Turns off some styling */\n",
       "            progress {\n",
       "                /* gets rid of default border in Firefox and Opera. */\n",
       "                border: none;\n",
       "                /* Needs to be in here for Safari polyfill so background images work as expected. */\n",
       "                background-size: auto;\n",
       "            }\n",
       "            .progress-bar-interrupted, .progress-bar-interrupted::-webkit-progress-bar {\n",
       "                background: #F44336;\n",
       "            }\n",
       "        </style>\n",
       "      <progress value='2000' class='' max='2000' style='width:300px; height:20px; vertical-align: middle;'></progress>\n",
       "      100.00% [2000/2000 00:05<00:00 Sampling chain 1, 41 divergences]\n",
       "    </div>\n",
       "    "
      ],
      "text/plain": [
       "<IPython.core.display.HTML object>"
      ]
     },
     "metadata": {},
     "output_type": "display_data"
    },
    {
     "name": "stderr",
     "output_type": "stream",
     "text": [
      "Sampling 2 chains for 1_000 tune and 1_000 draw iterations (2_000 + 2_000 draws total) took 11 seconds.\n",
      "There were 64 divergences after tuning. Increase `target_accept` or reparameterize.\n",
      "The acceptance probability does not match the target. It is 0.6970552074339273, but should be close to 0.8. Try to increase the number of tuning steps.\n",
      "There were 105 divergences after tuning. Increase `target_accept` or reparameterize.\n",
      "The estimated number of effective samples is smaller than 200 for some parameters.\n"
     ]
    },
    {
     "name": "stdout",
     "output_type": "stream",
     "text": [
      "[0.9961887541150815, 0.9961682135579637, 0.9962469014950461, 0.9960886171771015, 0.9955217091107114, 0.9964710334869233, 0.995879958654285, 0.9956605794495065, 0.9961306060716402, 0.9955840460965916, 0.996099619503422, 0.9956663246866467, 0.9962391329159807, 0.9954015759198455, 0.9955639077778218, 0.9958093259387141, 0.9963648358980375, 0.9961242939669396, 0.9963641261975187, 0.9962772768819727]\n",
      "HAM\n"
     ]
    },
    {
     "name": "stderr",
     "output_type": "stream",
     "text": [
      "/usr/local/lib/python3.7/dist-packages/ipykernel_launcher.py:18: FutureWarning: In v4.0, pm.sample will return an `arviz.InferenceData` object instead of a `MultiTrace` by default. You can pass return_inferencedata=True or return_inferencedata=False to be safe and silence this warning.\n",
      "Sequential sampling (2 chains in 1 job)\n",
      "NUTS: [sigma, Intercept, slope]\n"
     ]
    },
    {
     "data": {
      "text/html": [
       "\n",
       "    <div>\n",
       "        <style>\n",
       "            /* Turns off some styling */\n",
       "            progress {\n",
       "                /* gets rid of default border in Firefox and Opera. */\n",
       "                border: none;\n",
       "                /* Needs to be in here for Safari polyfill so background images work as expected. */\n",
       "                background-size: auto;\n",
       "            }\n",
       "            .progress-bar-interrupted, .progress-bar-interrupted::-webkit-progress-bar {\n",
       "                background: #F44336;\n",
       "            }\n",
       "        </style>\n",
       "      <progress value='2000' class='' max='2000' style='width:300px; height:20px; vertical-align: middle;'></progress>\n",
       "      100.00% [2000/2000 00:05<00:00 Sampling chain 0, 43 divergences]\n",
       "    </div>\n",
       "    "
      ],
      "text/plain": [
       "<IPython.core.display.HTML object>"
      ]
     },
     "metadata": {},
     "output_type": "display_data"
    },
    {
     "data": {
      "text/html": [
       "\n",
       "    <div>\n",
       "        <style>\n",
       "            /* Turns off some styling */\n",
       "            progress {\n",
       "                /* gets rid of default border in Firefox and Opera. */\n",
       "                border: none;\n",
       "                /* Needs to be in here for Safari polyfill so background images work as expected. */\n",
       "                background-size: auto;\n",
       "            }\n",
       "            .progress-bar-interrupted, .progress-bar-interrupted::-webkit-progress-bar {\n",
       "                background: #F44336;\n",
       "            }\n",
       "        </style>\n",
       "      <progress value='2000' class='' max='2000' style='width:300px; height:20px; vertical-align: middle;'></progress>\n",
       "      100.00% [2000/2000 00:06<00:00 Sampling chain 1, 35 divergences]\n",
       "    </div>\n",
       "    "
      ],
      "text/plain": [
       "<IPython.core.display.HTML object>"
      ]
     },
     "metadata": {},
     "output_type": "display_data"
    },
    {
     "name": "stderr",
     "output_type": "stream",
     "text": [
      "Sampling 2 chains for 1_000 tune and 1_000 draw iterations (2_000 + 2_000 draws total) took 13 seconds.\n",
      "There were 43 divergences after tuning. Increase `target_accept` or reparameterize.\n",
      "There were 78 divergences after tuning. Increase `target_accept` or reparameterize.\n",
      "The estimated number of effective samples is smaller than 200 for some parameters.\n"
     ]
    },
    {
     "name": "stdout",
     "output_type": "stream",
     "text": [
      "[0.9893070780930159, 0.9895062016147096, 0.9895453798669606, 0.988963903726603, 0.9879726483456084, 0.9889114120778494, 0.9886910041573792, 0.9879005333660213, 0.9893702825477368, 0.9882770253303392, 0.9890081152254006, 0.9881827734228232, 0.9898008555931567, 0.9877547775671165, 0.9885070544974353, 0.9883378674492711, 0.990491454023776, 0.9895802196617743, 0.9899559255300948, 0.9898445236967285]\n",
      "GRO\n",
      "[0.9893070780930159, 0.9895062016147096, 0.9895453798669606, 0.988963903726603, 0.9879726483456084, 0.9889114120778494, 0.9886910041573792, 0.9879005333660213, 0.9893702825477368, 0.9882770253303392, 0.9890081152254006, 0.9881827734228232, 0.9898008555931567, 0.9877547775671165, 0.9885070544974353, 0.9883378674492711, 0.990491454023776, 0.9895802196617743, 0.9899559255300948, 0.9898445236967285]\n",
      "GAS\n",
      "[0.9893070780930159, 0.9895062016147096, 0.9895453798669606, 0.988963903726603, 0.9879726483456084, 0.9889114120778494, 0.9886910041573792, 0.9879005333660213, 0.9893702825477368, 0.9882770253303392, 0.9890081152254006, 0.9881827734228232, 0.9898008555931567, 0.9877547775671165, 0.9885070544974353, 0.9883378674492711, 0.990491454023776, 0.9895802196617743, 0.9899559255300948, 0.9898445236967285]\n",
      "SAI\n",
      "[0.9893070780930159, 0.9895062016147096, 0.9895453798669606, 0.988963903726603, 0.9879726483456084, 0.9889114120778494, 0.9886910041573792, 0.9879005333660213, 0.9893702825477368, 0.9882770253303392, 0.9890081152254006, 0.9881827734228232, 0.9898008555931567, 0.9877547775671165, 0.9885070544974353, 0.9883378674492711, 0.990491454023776, 0.9895802196617743, 0.9899559255300948, 0.9898445236967285]\n",
      "GIO\n"
     ]
    },
    {
     "name": "stderr",
     "output_type": "stream",
     "text": [
      "/usr/local/lib/python3.7/dist-packages/ipykernel_launcher.py:18: FutureWarning: In v4.0, pm.sample will return an `arviz.InferenceData` object instead of a `MultiTrace` by default. You can pass return_inferencedata=True or return_inferencedata=False to be safe and silence this warning.\n",
      "Sequential sampling (2 chains in 1 job)\n",
      "NUTS: [sigma, Intercept, slope]\n"
     ]
    },
    {
     "data": {
      "text/html": [
       "\n",
       "    <div>\n",
       "        <style>\n",
       "            /* Turns off some styling */\n",
       "            progress {\n",
       "                /* gets rid of default border in Firefox and Opera. */\n",
       "                border: none;\n",
       "                /* Needs to be in here for Safari polyfill so background images work as expected. */\n",
       "                background-size: auto;\n",
       "            }\n",
       "            .progress-bar-interrupted, .progress-bar-interrupted::-webkit-progress-bar {\n",
       "                background: #F44336;\n",
       "            }\n",
       "        </style>\n",
       "      <progress value='2000' class='' max='2000' style='width:300px; height:20px; vertical-align: middle;'></progress>\n",
       "      100.00% [2000/2000 00:04<00:00 Sampling chain 0, 5 divergences]\n",
       "    </div>\n",
       "    "
      ],
      "text/plain": [
       "<IPython.core.display.HTML object>"
      ]
     },
     "metadata": {},
     "output_type": "display_data"
    },
    {
     "data": {
      "text/html": [
       "\n",
       "    <div>\n",
       "        <style>\n",
       "            /* Turns off some styling */\n",
       "            progress {\n",
       "                /* gets rid of default border in Firefox and Opera. */\n",
       "                border: none;\n",
       "                /* Needs to be in here for Safari polyfill so background images work as expected. */\n",
       "                background-size: auto;\n",
       "            }\n",
       "            .progress-bar-interrupted, .progress-bar-interrupted::-webkit-progress-bar {\n",
       "                background: #F44336;\n",
       "            }\n",
       "        </style>\n",
       "      <progress value='2000' class='' max='2000' style='width:300px; height:20px; vertical-align: middle;'></progress>\n",
       "      100.00% [2000/2000 00:03<00:00 Sampling chain 1, 7 divergences]\n",
       "    </div>\n",
       "    "
      ],
      "text/plain": [
       "<IPython.core.display.HTML object>"
      ]
     },
     "metadata": {},
     "output_type": "display_data"
    },
    {
     "name": "stderr",
     "output_type": "stream",
     "text": [
      "Sampling 2 chains for 1_000 tune and 1_000 draw iterations (2_000 + 2_000 draws total) took 8 seconds.\n",
      "There were 5 divergences after tuning. Increase `target_accept` or reparameterize.\n",
      "There were 12 divergences after tuning. Increase `target_accept` or reparameterize.\n",
      "The number of effective samples is smaller than 25% for some parameters.\n"
     ]
    },
    {
     "name": "stdout",
     "output_type": "stream",
     "text": [
      "[0.9842101162643571, 0.9846280711352623, 0.9845973398074593, 0.9829905254162355, 0.9825167127650554, 0.9838930914198067, 0.983431205329768, 0.9821857453367552, 0.9844145761744414, 0.9830218765653714, 0.9837465144526928, 0.9827309479809705, 0.98510345083437, 0.9822539289067815, 0.9834850765139495, 0.9828369163483699, 0.9862500258827828, 0.9848275822656373, 0.9852386686099611, 0.9851380512945913]\n",
      "RAI\n"
     ]
    },
    {
     "name": "stderr",
     "output_type": "stream",
     "text": [
      "/usr/local/lib/python3.7/dist-packages/ipykernel_launcher.py:18: FutureWarning: In v4.0, pm.sample will return an `arviz.InferenceData` object instead of a `MultiTrace` by default. You can pass return_inferencedata=True or return_inferencedata=False to be safe and silence this warning.\n",
      "Sequential sampling (2 chains in 1 job)\n",
      "NUTS: [sigma, Intercept, slope]\n"
     ]
    },
    {
     "data": {
      "text/html": [
       "\n",
       "    <div>\n",
       "        <style>\n",
       "            /* Turns off some styling */\n",
       "            progress {\n",
       "                /* gets rid of default border in Firefox and Opera. */\n",
       "                border: none;\n",
       "                /* Needs to be in here for Safari polyfill so background images work as expected. */\n",
       "                background-size: auto;\n",
       "            }\n",
       "            .progress-bar-interrupted, .progress-bar-interrupted::-webkit-progress-bar {\n",
       "                background: #F44336;\n",
       "            }\n",
       "        </style>\n",
       "      <progress value='2000' class='' max='2000' style='width:300px; height:20px; vertical-align: middle;'></progress>\n",
       "      100.00% [2000/2000 00:05<00:00 Sampling chain 0, 112 divergences]\n",
       "    </div>\n",
       "    "
      ],
      "text/plain": [
       "<IPython.core.display.HTML object>"
      ]
     },
     "metadata": {},
     "output_type": "display_data"
    },
    {
     "data": {
      "text/html": [
       "\n",
       "    <div>\n",
       "        <style>\n",
       "            /* Turns off some styling */\n",
       "            progress {\n",
       "                /* gets rid of default border in Firefox and Opera. */\n",
       "                border: none;\n",
       "                /* Needs to be in here for Safari polyfill so background images work as expected. */\n",
       "                background-size: auto;\n",
       "            }\n",
       "            .progress-bar-interrupted, .progress-bar-interrupted::-webkit-progress-bar {\n",
       "                background: #F44336;\n",
       "            }\n",
       "        </style>\n",
       "      <progress value='2000' class='' max='2000' style='width:300px; height:20px; vertical-align: middle;'></progress>\n",
       "      100.00% [2000/2000 00:05<00:00 Sampling chain 1, 35 divergences]\n",
       "    </div>\n",
       "    "
      ],
      "text/plain": [
       "<IPython.core.display.HTML object>"
      ]
     },
     "metadata": {},
     "output_type": "display_data"
    },
    {
     "name": "stderr",
     "output_type": "stream",
     "text": [
      "Sampling 2 chains for 1_000 tune and 1_000 draw iterations (2_000 + 2_000 draws total) took 11 seconds.\n",
      "There were 112 divergences after tuning. Increase `target_accept` or reparameterize.\n",
      "The acceptance probability does not match the target. It is 0.5616666180468288, but should be close to 0.8. Try to increase the number of tuning steps.\n",
      "There were 147 divergences after tuning. Increase `target_accept` or reparameterize.\n",
      "The rhat statistic is larger than 1.2 for some parameters.\n",
      "The estimated number of effective samples is smaller than 200 for some parameters.\n"
     ]
    },
    {
     "name": "stdout",
     "output_type": "stream",
     "text": [
      "[0.9789895286209587, 0.9796299896032189, 0.9795260082508344, 0.9774138545955552, 0.9769573762828194, 0.9787621509658448, 0.9780573512742666, 0.9763612211994929, 0.9793393699888663, 0.9776610602096775, 0.9783620125267406, 0.9771711544332905, 0.9802851708578475, 0.977538708528911, 0.9783553326217642, 0.9772221255433384, 0.9818806569361013, 0.979956272819287, 0.9803974414776201, 0.980309881192099]\n",
      "VER\n",
      "[0.9789895286209587, 0.9796299896032189, 0.9795260082508344, 0.9774138545955552, 0.9769573762828194, 0.9787621509658448, 0.9780573512742666, 0.9763612211994929, 0.9793393699888663, 0.9776610602096775, 0.9783620125267406, 0.9771711544332905, 0.9802851708578475, 0.977538708528911, 0.9783553326217642, 0.9772221255433384, 0.9818806569361013, 0.979956272819287, 0.9803974414776201, 0.980309881192099]\n",
      "OCO\n"
     ]
    },
    {
     "name": "stderr",
     "output_type": "stream",
     "text": [
      "/usr/local/lib/python3.7/dist-packages/ipykernel_launcher.py:18: FutureWarning: In v4.0, pm.sample will return an `arviz.InferenceData` object instead of a `MultiTrace` by default. You can pass return_inferencedata=True or return_inferencedata=False to be safe and silence this warning.\n",
      "Sequential sampling (2 chains in 1 job)\n",
      "NUTS: [sigma, Intercept, slope]\n"
     ]
    },
    {
     "data": {
      "text/html": [
       "\n",
       "    <div>\n",
       "        <style>\n",
       "            /* Turns off some styling */\n",
       "            progress {\n",
       "                /* gets rid of default border in Firefox and Opera. */\n",
       "                border: none;\n",
       "                /* Needs to be in here for Safari polyfill so background images work as expected. */\n",
       "                background-size: auto;\n",
       "            }\n",
       "            .progress-bar-interrupted, .progress-bar-interrupted::-webkit-progress-bar {\n",
       "                background: #F44336;\n",
       "            }\n",
       "        </style>\n",
       "      <progress value='2000' class='' max='2000' style='width:300px; height:20px; vertical-align: middle;'></progress>\n",
       "      100.00% [2000/2000 00:05<00:00 Sampling chain 0, 55 divergences]\n",
       "    </div>\n",
       "    "
      ],
      "text/plain": [
       "<IPython.core.display.HTML object>"
      ]
     },
     "metadata": {},
     "output_type": "display_data"
    },
    {
     "data": {
      "text/html": [
       "\n",
       "    <div>\n",
       "        <style>\n",
       "            /* Turns off some styling */\n",
       "            progress {\n",
       "                /* gets rid of default border in Firefox and Opera. */\n",
       "                border: none;\n",
       "                /* Needs to be in here for Safari polyfill so background images work as expected. */\n",
       "                background-size: auto;\n",
       "            }\n",
       "            .progress-bar-interrupted, .progress-bar-interrupted::-webkit-progress-bar {\n",
       "                background: #F44336;\n",
       "            }\n",
       "        </style>\n",
       "      <progress value='2000' class='' max='2000' style='width:300px; height:20px; vertical-align: middle;'></progress>\n",
       "      100.00% [2000/2000 00:05<00:00 Sampling chain 1, 83 divergences]\n",
       "    </div>\n",
       "    "
      ],
      "text/plain": [
       "<IPython.core.display.HTML object>"
      ]
     },
     "metadata": {},
     "output_type": "display_data"
    },
    {
     "name": "stderr",
     "output_type": "stream",
     "text": [
      "Sampling 2 chains for 1_000 tune and 1_000 draw iterations (2_000 + 2_000 draws total) took 11 seconds.\n",
      "There were 55 divergences after tuning. Increase `target_accept` or reparameterize.\n",
      "There were 138 divergences after tuning. Increase `target_accept` or reparameterize.\n",
      "The acceptance probability does not match the target. It is 0.7080564904823962, but should be close to 0.8. Try to increase the number of tuning steps.\n",
      "The estimated number of effective samples is smaller than 200 for some parameters.\n"
     ]
    },
    {
     "name": "stdout",
     "output_type": "stream",
     "text": [
      "[0.9878823201149409, 0.9881192645515355, 0.988154228581068, 0.9869246663970118, 0.9864104668685892, 0.9874647279366507, 0.9872026400431122, 0.9863063756270505, 0.9879648996002274, 0.9867582381819116, 0.9875436378473271, 0.9874502731305443, 0.9884553717204231, 0.986829396904927, 0.9870298423606918, 0.9867981933233857, 0.9892476760330897, 0.9882120569305759, 0.9886203237147179, 0.988501445864086]\n",
      "RIC\n"
     ]
    },
    {
     "name": "stderr",
     "output_type": "stream",
     "text": [
      "/usr/local/lib/python3.7/dist-packages/ipykernel_launcher.py:18: FutureWarning: In v4.0, pm.sample will return an `arviz.InferenceData` object instead of a `MultiTrace` by default. You can pass return_inferencedata=True or return_inferencedata=False to be safe and silence this warning.\n",
      "Sequential sampling (2 chains in 1 job)\n",
      "NUTS: [sigma, Intercept, slope]\n"
     ]
    },
    {
     "data": {
      "text/html": [
       "\n",
       "    <div>\n",
       "        <style>\n",
       "            /* Turns off some styling */\n",
       "            progress {\n",
       "                /* gets rid of default border in Firefox and Opera. */\n",
       "                border: none;\n",
       "                /* Needs to be in here for Safari polyfill so background images work as expected. */\n",
       "                background-size: auto;\n",
       "            }\n",
       "            .progress-bar-interrupted, .progress-bar-interrupted::-webkit-progress-bar {\n",
       "                background: #F44336;\n",
       "            }\n",
       "        </style>\n",
       "      <progress value='2000' class='' max='2000' style='width:300px; height:20px; vertical-align: middle;'></progress>\n",
       "      100.00% [2000/2000 00:05<00:00 Sampling chain 0, 87 divergences]\n",
       "    </div>\n",
       "    "
      ],
      "text/plain": [
       "<IPython.core.display.HTML object>"
      ]
     },
     "metadata": {},
     "output_type": "display_data"
    },
    {
     "data": {
      "text/html": [
       "\n",
       "    <div>\n",
       "        <style>\n",
       "            /* Turns off some styling */\n",
       "            progress {\n",
       "                /* gets rid of default border in Firefox and Opera. */\n",
       "                border: none;\n",
       "                /* Needs to be in here for Safari polyfill so background images work as expected. */\n",
       "                background-size: auto;\n",
       "            }\n",
       "            .progress-bar-interrupted, .progress-bar-interrupted::-webkit-progress-bar {\n",
       "                background: #F44336;\n",
       "            }\n",
       "        </style>\n",
       "      <progress value='2000' class='' max='2000' style='width:300px; height:20px; vertical-align: middle;'></progress>\n",
       "      100.00% [2000/2000 00:06<00:00 Sampling chain 1, 31 divergences]\n",
       "    </div>\n",
       "    "
      ],
      "text/plain": [
       "<IPython.core.display.HTML object>"
      ]
     },
     "metadata": {},
     "output_type": "display_data"
    },
    {
     "name": "stderr",
     "output_type": "stream",
     "text": [
      "Sampling 2 chains for 1_000 tune and 1_000 draw iterations (2_000 + 2_000 draws total) took 12 seconds.\n",
      "There were 87 divergences after tuning. Increase `target_accept` or reparameterize.\n",
      "The acceptance probability does not match the target. It is 0.6679239857643745, but should be close to 0.8. Try to increase the number of tuning steps.\n",
      "There were 118 divergences after tuning. Increase `target_accept` or reparameterize.\n",
      "The estimated number of effective samples is smaller than 200 for some parameters.\n"
     ]
    },
    {
     "name": "stdout",
     "output_type": "stream",
     "text": [
      "[0.9912661982633305, 0.9913692862552245, 0.9914422490664291, 0.9905570294446001, 0.9900632661731639, 0.9908222172698367, 0.9907093826016151, 0.9901094899756756, 0.9912657514788902, 0.9902811526892118, 0.9910351391376206, 0.9909148490141474, 0.9915875287670158, 0.9904051579100689, 0.9910559981263594, 0.9904587569100958, 0.9920791186184728, 0.9913857775714693, 0.9917571929746218, 0.9916370472348979]\n",
      "ALB\n",
      "[0.9912661982633305, 0.9913692862552245, 0.9914422490664291, 0.9905570294446001, 0.9900632661731639, 0.9908222172698367, 0.9907093826016151, 0.9901094899756756, 0.9912657514788902, 0.9902811526892118, 0.9910351391376206, 0.9909148490141474, 0.9915875287670158, 0.9904051579100689, 0.9910559981263594, 0.9904587569100958, 0.9920791186184728, 0.9913857775714693, 0.9917571929746218, 0.9916370472348979]\n",
      "VET\n",
      "[0.9912661982633305, 0.9913692862552245, 0.9914422490664291, 0.9905570294446001, 0.9900632661731639, 0.9908222172698367, 0.9907093826016151, 0.9901094899756756, 0.9912657514788902, 0.9902811526892118, 0.9910351391376206, 0.9909148490141474, 0.9915875287670158, 0.9904051579100689, 0.9910559981263594, 0.9904587569100958, 0.9920791186184728, 0.9913857775714693, 0.9917571929746218, 0.9916370472348979]\n",
      "LEC\n",
      "[0.9912661982633305, 0.9913692862552245, 0.9914422490664291, 0.9905570294446001, 0.9900632661731639, 0.9908222172698367, 0.9907093826016151, 0.9901094899756756, 0.9912657514788902, 0.9902811526892118, 0.9910351391376206, 0.9909148490141474, 0.9915875287670158, 0.9904051579100689, 0.9910559981263594, 0.9904587569100958, 0.9920791186184728, 0.9913857775714693, 0.9917571929746218, 0.9916370472348979]\n",
      "HAM\n",
      "[0.9912661982633305, 0.9913692862552245, 0.9914422490664291, 0.9905570294446001, 0.9900632661731639, 0.9908222172698367, 0.9907093826016151, 0.9901094899756756, 0.9912657514788902, 0.9902811526892118, 0.9910351391376206, 0.9909148490141474, 0.9915875287670158, 0.9904051579100689, 0.9910559981263594, 0.9904587569100958, 0.9920791186184728, 0.9913857775714693, 0.9917571929746218, 0.9916370472348979]\n",
      "ALB\n",
      "[0.9912661982633305, 0.9913692862552245, 0.9914422490664291, 0.9905570294446001, 0.9900632661731639, 0.9908222172698367, 0.9907093826016151, 0.9901094899756756, 0.9912657514788902, 0.9902811526892118, 0.9910351391376206, 0.9909148490141474, 0.9915875287670158, 0.9904051579100689, 0.9910559981263594, 0.9904587569100958, 0.9920791186184728, 0.9913857775714693, 0.9917571929746218, 0.9916370472348979]\n",
      "HAM\n"
     ]
    },
    {
     "name": "stderr",
     "output_type": "stream",
     "text": [
      "/usr/local/lib/python3.7/dist-packages/ipykernel_launcher.py:18: FutureWarning: In v4.0, pm.sample will return an `arviz.InferenceData` object instead of a `MultiTrace` by default. You can pass return_inferencedata=True or return_inferencedata=False to be safe and silence this warning.\n",
      "Sequential sampling (2 chains in 1 job)\n",
      "NUTS: [sigma, Intercept, slope]\n"
     ]
    },
    {
     "data": {
      "text/html": [
       "\n",
       "    <div>\n",
       "        <style>\n",
       "            /* Turns off some styling */\n",
       "            progress {\n",
       "                /* gets rid of default border in Firefox and Opera. */\n",
       "                border: none;\n",
       "                /* Needs to be in here for Safari polyfill so background images work as expected. */\n",
       "                background-size: auto;\n",
       "            }\n",
       "            .progress-bar-interrupted, .progress-bar-interrupted::-webkit-progress-bar {\n",
       "                background: #F44336;\n",
       "            }\n",
       "        </style>\n",
       "      <progress value='2000' class='' max='2000' style='width:300px; height:20px; vertical-align: middle;'></progress>\n",
       "      100.00% [2000/2000 00:05<00:00 Sampling chain 0, 100 divergences]\n",
       "    </div>\n",
       "    "
      ],
      "text/plain": [
       "<IPython.core.display.HTML object>"
      ]
     },
     "metadata": {},
     "output_type": "display_data"
    },
    {
     "data": {
      "text/html": [
       "\n",
       "    <div>\n",
       "        <style>\n",
       "            /* Turns off some styling */\n",
       "            progress {\n",
       "                /* gets rid of default border in Firefox and Opera. */\n",
       "                border: none;\n",
       "                /* Needs to be in here for Safari polyfill so background images work as expected. */\n",
       "                background-size: auto;\n",
       "            }\n",
       "            .progress-bar-interrupted, .progress-bar-interrupted::-webkit-progress-bar {\n",
       "                background: #F44336;\n",
       "            }\n",
       "        </style>\n",
       "      <progress value='2000' class='' max='2000' style='width:300px; height:20px; vertical-align: middle;'></progress>\n",
       "      100.00% [2000/2000 00:05<00:00 Sampling chain 1, 95 divergences]\n",
       "    </div>\n",
       "    "
      ],
      "text/plain": [
       "<IPython.core.display.HTML object>"
      ]
     },
     "metadata": {},
     "output_type": "display_data"
    },
    {
     "name": "stderr",
     "output_type": "stream",
     "text": [
      "Sampling 2 chains for 1_000 tune and 1_000 draw iterations (2_000 + 2_000 draws total) took 10 seconds.\n",
      "There were 100 divergences after tuning. Increase `target_accept` or reparameterize.\n",
      "The acceptance probability does not match the target. It is 0.6316092798444825, but should be close to 0.8. Try to increase the number of tuning steps.\n",
      "There were 195 divergences after tuning. Increase `target_accept` or reparameterize.\n",
      "The acceptance probability does not match the target. It is 0.6837082484102538, but should be close to 0.8. Try to increase the number of tuning steps.\n",
      "The rhat statistic is larger than 1.05 for some parameters. This indicates slight problems during sampling.\n",
      "The estimated number of effective samples is smaller than 200 for some parameters.\n"
     ]
    },
    {
     "name": "stdout",
     "output_type": "stream",
     "text": [
      "[0.996808593107008, 0.9967676320538683, 0.9968497442997879, 0.9965304700111186, 0.9962087556347381, 0.9968563082803749, 0.9965306942872049, 0.9963661774222843, 0.9967395395713959, 0.9962472163508144, 0.9967393595201018, 0.9966361490087053, 0.9968166810612127, 0.996379560383988, 0.9966189981966864, 0.9964868562425362, 0.9968837630805436, 0.9967120184745446, 0.9969388711663787, 0.9968543789393425]\n",
      "RUS\n"
     ]
    },
    {
     "name": "stderr",
     "output_type": "stream",
     "text": [
      "/usr/local/lib/python3.7/dist-packages/ipykernel_launcher.py:18: FutureWarning: In v4.0, pm.sample will return an `arviz.InferenceData` object instead of a `MultiTrace` by default. You can pass return_inferencedata=True or return_inferencedata=False to be safe and silence this warning.\n",
      "Sequential sampling (2 chains in 1 job)\n",
      "NUTS: [sigma, Intercept, slope]\n"
     ]
    },
    {
     "data": {
      "text/html": [
       "\n",
       "    <div>\n",
       "        <style>\n",
       "            /* Turns off some styling */\n",
       "            progress {\n",
       "                /* gets rid of default border in Firefox and Opera. */\n",
       "                border: none;\n",
       "                /* Needs to be in here for Safari polyfill so background images work as expected. */\n",
       "                background-size: auto;\n",
       "            }\n",
       "            .progress-bar-interrupted, .progress-bar-interrupted::-webkit-progress-bar {\n",
       "                background: #F44336;\n",
       "            }\n",
       "        </style>\n",
       "      <progress value='2000' class='' max='2000' style='width:300px; height:20px; vertical-align: middle;'></progress>\n",
       "      100.00% [2000/2000 00:03<00:00 Sampling chain 0, 10 divergences]\n",
       "    </div>\n",
       "    "
      ],
      "text/plain": [
       "<IPython.core.display.HTML object>"
      ]
     },
     "metadata": {},
     "output_type": "display_data"
    },
    {
     "data": {
      "text/html": [
       "\n",
       "    <div>\n",
       "        <style>\n",
       "            /* Turns off some styling */\n",
       "            progress {\n",
       "                /* gets rid of default border in Firefox and Opera. */\n",
       "                border: none;\n",
       "                /* Needs to be in here for Safari polyfill so background images work as expected. */\n",
       "                background-size: auto;\n",
       "            }\n",
       "            .progress-bar-interrupted, .progress-bar-interrupted::-webkit-progress-bar {\n",
       "                background: #F44336;\n",
       "            }\n",
       "        </style>\n",
       "      <progress value='2000' class='' max='2000' style='width:300px; height:20px; vertical-align: middle;'></progress>\n",
       "      100.00% [2000/2000 00:03<00:00 Sampling chain 1, 3 divergences]\n",
       "    </div>\n",
       "    "
      ],
      "text/plain": [
       "<IPython.core.display.HTML object>"
      ]
     },
     "metadata": {},
     "output_type": "display_data"
    },
    {
     "name": "stderr",
     "output_type": "stream",
     "text": [
      "Sampling 2 chains for 1_000 tune and 1_000 draw iterations (2_000 + 2_000 draws total) took 8 seconds.\n",
      "There were 10 divergences after tuning. Increase `target_accept` or reparameterize.\n",
      "There were 13 divergences after tuning. Increase `target_accept` or reparameterize.\n"
     ]
    },
    {
     "name": "stdout",
     "output_type": "stream",
     "text": [
      "[0.9828765406232028, 0.9832602967266231, 0.9832698365341311, 0.9815682110901978, 0.9809595741237903, 0.9837989902957229, 0.9819912593241215, 0.980717849714448, 0.983040113063263, 0.9814648031929669, 0.9823968814854611, 0.9823114738871038, 0.9837457431220464, 0.9815046452286265, 0.9827403458440332, 0.982131178016581, 0.9849076277152113, 0.9834293101099533, 0.9839338483453653, 0.9837966239964702]\n",
      "LAT\n",
      "[0.9828765406232028, 0.9832602967266231, 0.9832698365341311, 0.9815682110901978, 0.9809595741237903, 0.9837989902957229, 0.9819912593241215, 0.980717849714448, 0.983040113063263, 0.9814648031929669, 0.9823968814854611, 0.9823114738871038, 0.9837457431220464, 0.9815046452286265, 0.9827403458440332, 0.982131178016581, 0.9849076277152113, 0.9834293101099533, 0.9839338483453653, 0.9837966239964702]\n",
      "STR\n"
     ]
    },
    {
     "name": "stderr",
     "output_type": "stream",
     "text": [
      "/usr/local/lib/python3.7/dist-packages/ipykernel_launcher.py:18: FutureWarning: In v4.0, pm.sample will return an `arviz.InferenceData` object instead of a `MultiTrace` by default. You can pass return_inferencedata=True or return_inferencedata=False to be safe and silence this warning.\n",
      "Sequential sampling (2 chains in 1 job)\n",
      "NUTS: [sigma, Intercept, slope]\n"
     ]
    },
    {
     "data": {
      "text/html": [
       "\n",
       "    <div>\n",
       "        <style>\n",
       "            /* Turns off some styling */\n",
       "            progress {\n",
       "                /* gets rid of default border in Firefox and Opera. */\n",
       "                border: none;\n",
       "                /* Needs to be in here for Safari polyfill so background images work as expected. */\n",
       "                background-size: auto;\n",
       "            }\n",
       "            .progress-bar-interrupted, .progress-bar-interrupted::-webkit-progress-bar {\n",
       "                background: #F44336;\n",
       "            }\n",
       "        </style>\n",
       "      <progress value='2000' class='' max='2000' style='width:300px; height:20px; vertical-align: middle;'></progress>\n",
       "      100.00% [2000/2000 00:06<00:00 Sampling chain 0, 65 divergences]\n",
       "    </div>\n",
       "    "
      ],
      "text/plain": [
       "<IPython.core.display.HTML object>"
      ]
     },
     "metadata": {},
     "output_type": "display_data"
    },
    {
     "data": {
      "text/html": [
       "\n",
       "    <div>\n",
       "        <style>\n",
       "            /* Turns off some styling */\n",
       "            progress {\n",
       "                /* gets rid of default border in Firefox and Opera. */\n",
       "                border: none;\n",
       "                /* Needs to be in here for Safari polyfill so background images work as expected. */\n",
       "                background-size: auto;\n",
       "            }\n",
       "            .progress-bar-interrupted, .progress-bar-interrupted::-webkit-progress-bar {\n",
       "                background: #F44336;\n",
       "            }\n",
       "        </style>\n",
       "      <progress value='2000' class='' max='2000' style='width:300px; height:20px; vertical-align: middle;'></progress>\n",
       "      100.00% [2000/2000 00:06<00:00 Sampling chain 1, 85 divergences]\n",
       "    </div>\n",
       "    "
      ],
      "text/plain": [
       "<IPython.core.display.HTML object>"
      ]
     },
     "metadata": {},
     "output_type": "display_data"
    },
    {
     "name": "stderr",
     "output_type": "stream",
     "text": [
      "Sampling 2 chains for 1_000 tune and 1_000 draw iterations (2_000 + 2_000 draws total) took 13 seconds.\n",
      "There were 65 divergences after tuning. Increase `target_accept` or reparameterize.\n",
      "There were 150 divergences after tuning. Increase `target_accept` or reparameterize.\n",
      "The acceptance probability does not match the target. It is 0.7193335137562691, but should be close to 0.8. Try to increase the number of tuning steps.\n",
      "The estimated number of effective samples is smaller than 200 for some parameters.\n"
     ]
    },
    {
     "name": "stdout",
     "output_type": "stream",
     "text": [
      "[0.9974934857978006, 0.9974400727537958, 0.9975193012952666, 0.997271981397912, 0.9969832192345223, 0.9975060850975778, 0.9972571169839548, 0.9971440531670547, 0.9974209754632676, 0.9970012027856417, 0.9974435802381132, 0.9973474252304443, 0.9974693456461012, 0.9971286313181696, 0.9973149428699556, 0.9973477576416131, 0.9974861958678816, 0.9975643435507363, 0.9975814946408976, 0.9975042893175423]\n",
      "RUS\n",
      "[0.9974934857978006, 0.9974400727537958, 0.9975193012952666, 0.997271981397912, 0.9969832192345223, 0.9975060850975778, 0.9972571169839548, 0.9971440531670547, 0.9974209754632676, 0.9970012027856417, 0.9974435802381132, 0.9973474252304443, 0.9974693456461012, 0.9971286313181696, 0.9973149428699556, 0.9973477576416131, 0.9974861958678816, 0.9975643435507363, 0.9975814946408976, 0.9975042893175423]\n",
      "LAT\n",
      "[0.9974934857978006, 0.9974400727537958, 0.9975193012952666, 0.997271981397912, 0.9969832192345223, 0.9975060850975778, 0.9972571169839548, 0.9971440531670547, 0.9974209754632676, 0.9970012027856417, 0.9974435802381132, 0.9973474252304443, 0.9974693456461012, 0.9971286313181696, 0.9973149428699556, 0.9973477576416131, 0.9974861958678816, 0.9975643435507363, 0.9975814946408976, 0.9975042893175423]\n",
      "RUS\n",
      "[0.9974934857978006, 0.9974400727537958, 0.9975193012952666, 0.997271981397912, 0.9969832192345223, 0.9975060850975778, 0.9972571169839548, 0.9971440531670547, 0.9974209754632676, 0.9970012027856417, 0.9974435802381132, 0.9973474252304443, 0.9974693456461012, 0.9971286313181696, 0.9973149428699556, 0.9973477576416131, 0.9974861958678816, 0.9975643435507363, 0.9975814946408976, 0.9975042893175423]\n",
      "RIC\n"
     ]
    },
    {
     "name": "stderr",
     "output_type": "stream",
     "text": [
      "/usr/local/lib/python3.7/dist-packages/ipykernel_launcher.py:18: FutureWarning: In v4.0, pm.sample will return an `arviz.InferenceData` object instead of a `MultiTrace` by default. You can pass return_inferencedata=True or return_inferencedata=False to be safe and silence this warning.\n",
      "Sequential sampling (2 chains in 1 job)\n",
      "NUTS: [sigma, Intercept, slope]\n"
     ]
    },
    {
     "data": {
      "text/html": [
       "\n",
       "    <div>\n",
       "        <style>\n",
       "            /* Turns off some styling */\n",
       "            progress {\n",
       "                /* gets rid of default border in Firefox and Opera. */\n",
       "                border: none;\n",
       "                /* Needs to be in here for Safari polyfill so background images work as expected. */\n",
       "                background-size: auto;\n",
       "            }\n",
       "            .progress-bar-interrupted, .progress-bar-interrupted::-webkit-progress-bar {\n",
       "                background: #F44336;\n",
       "            }\n",
       "        </style>\n",
       "      <progress value='2000' class='' max='2000' style='width:300px; height:20px; vertical-align: middle;'></progress>\n",
       "      100.00% [2000/2000 00:05<00:00 Sampling chain 0, 39 divergences]\n",
       "    </div>\n",
       "    "
      ],
      "text/plain": [
       "<IPython.core.display.HTML object>"
      ]
     },
     "metadata": {},
     "output_type": "display_data"
    },
    {
     "data": {
      "text/html": [
       "\n",
       "    <div>\n",
       "        <style>\n",
       "            /* Turns off some styling */\n",
       "            progress {\n",
       "                /* gets rid of default border in Firefox and Opera. */\n",
       "                border: none;\n",
       "                /* Needs to be in here for Safari polyfill so background images work as expected. */\n",
       "                background-size: auto;\n",
       "            }\n",
       "            .progress-bar-interrupted, .progress-bar-interrupted::-webkit-progress-bar {\n",
       "                background: #F44336;\n",
       "            }\n",
       "        </style>\n",
       "      <progress value='2000' class='' max='2000' style='width:300px; height:20px; vertical-align: middle;'></progress>\n",
       "      100.00% [2000/2000 00:04<00:00 Sampling chain 1, 111 divergences]\n",
       "    </div>\n",
       "    "
      ],
      "text/plain": [
       "<IPython.core.display.HTML object>"
      ]
     },
     "metadata": {},
     "output_type": "display_data"
    },
    {
     "name": "stderr",
     "output_type": "stream",
     "text": [
      "Sampling 2 chains for 1_000 tune and 1_000 draw iterations (2_000 + 2_000 draws total) took 10 seconds.\n",
      "There were 39 divergences after tuning. Increase `target_accept` or reparameterize.\n",
      "There were 150 divergences after tuning. Increase `target_accept` or reparameterize.\n",
      "The acceptance probability does not match the target. It is 0.5707458142011772, but should be close to 0.8. Try to increase the number of tuning steps.\n",
      "The estimated number of effective samples is smaller than 200 for some parameters.\n"
     ]
    },
    {
     "name": "stdout",
     "output_type": "stream",
     "text": [
      "[0.9948687210849345, 0.994842587626996, 0.9949456592748949, 0.994435787239938, 0.9939956675655227, 0.9949890780151381, 0.9944635110205147, 0.9941754577438771, 0.9947929335834369, 0.9940775682257516, 0.9947511431091485, 0.994616042353531, 0.9949364452211402, 0.9942434949309129, 0.9948325858055092, 0.9945965168762058, 0.9951037702527581, 0.9951067683607425, 0.9951007098337835, 0.9949865283792109]\n",
      "RAI\n"
     ]
    },
    {
     "name": "stderr",
     "output_type": "stream",
     "text": [
      "/usr/local/lib/python3.7/dist-packages/ipykernel_launcher.py:18: FutureWarning: In v4.0, pm.sample will return an `arviz.InferenceData` object instead of a `MultiTrace` by default. You can pass return_inferencedata=True or return_inferencedata=False to be safe and silence this warning.\n",
      "Sequential sampling (2 chains in 1 job)\n",
      "NUTS: [sigma, Intercept, slope]\n"
     ]
    },
    {
     "data": {
      "text/html": [
       "\n",
       "    <div>\n",
       "        <style>\n",
       "            /* Turns off some styling */\n",
       "            progress {\n",
       "                /* gets rid of default border in Firefox and Opera. */\n",
       "                border: none;\n",
       "                /* Needs to be in here for Safari polyfill so background images work as expected. */\n",
       "                background-size: auto;\n",
       "            }\n",
       "            .progress-bar-interrupted, .progress-bar-interrupted::-webkit-progress-bar {\n",
       "                background: #F44336;\n",
       "            }\n",
       "        </style>\n",
       "      <progress value='2000' class='' max='2000' style='width:300px; height:20px; vertical-align: middle;'></progress>\n",
       "      100.00% [2000/2000 00:04<00:00 Sampling chain 0, 23 divergences]\n",
       "    </div>\n",
       "    "
      ],
      "text/plain": [
       "<IPython.core.display.HTML object>"
      ]
     },
     "metadata": {},
     "output_type": "display_data"
    },
    {
     "data": {
      "text/html": [
       "\n",
       "    <div>\n",
       "        <style>\n",
       "            /* Turns off some styling */\n",
       "            progress {\n",
       "                /* gets rid of default border in Firefox and Opera. */\n",
       "                border: none;\n",
       "                /* Needs to be in here for Safari polyfill so background images work as expected. */\n",
       "                background-size: auto;\n",
       "            }\n",
       "            .progress-bar-interrupted, .progress-bar-interrupted::-webkit-progress-bar {\n",
       "                background: #F44336;\n",
       "            }\n",
       "        </style>\n",
       "      <progress value='2000' class='' max='2000' style='width:300px; height:20px; vertical-align: middle;'></progress>\n",
       "      100.00% [2000/2000 00:04<00:00 Sampling chain 1, 7 divergences]\n",
       "    </div>\n",
       "    "
      ],
      "text/plain": [
       "<IPython.core.display.HTML object>"
      ]
     },
     "metadata": {},
     "output_type": "display_data"
    },
    {
     "name": "stderr",
     "output_type": "stream",
     "text": [
      "Sampling 2 chains for 1_000 tune and 1_000 draw iterations (2_000 + 2_000 draws total) took 9 seconds.\n",
      "There were 23 divergences after tuning. Increase `target_accept` or reparameterize.\n",
      "There were 30 divergences after tuning. Increase `target_accept` or reparameterize.\n",
      "The number of effective samples is smaller than 25% for some parameters.\n"
     ]
    },
    {
     "name": "stdout",
     "output_type": "stream",
     "text": [
      "[0.9746846685440907, 0.9753785816224569, 0.9752963925002136, 0.9728288006939072, 0.9721955902271989, 0.9761738071526497, 0.9735380686319782, 0.9716046276287136, 0.9750438160060402, 0.9729885280734779, 0.973962158831487, 0.9739473278873362, 0.9761299487098483, 0.9732900746798387, 0.9758956278815483, 0.9736521237628702, 0.9779595796228239, 0.9767115718647303, 0.9763032594760035, 0.9761720609333694]\n",
      "GRO\n"
     ]
    },
    {
     "name": "stderr",
     "output_type": "stream",
     "text": [
      "/usr/local/lib/python3.7/dist-packages/ipykernel_launcher.py:18: FutureWarning: In v4.0, pm.sample will return an `arviz.InferenceData` object instead of a `MultiTrace` by default. You can pass return_inferencedata=True or return_inferencedata=False to be safe and silence this warning.\n",
      "Sequential sampling (2 chains in 1 job)\n",
      "NUTS: [sigma, Intercept, slope]\n"
     ]
    },
    {
     "data": {
      "text/html": [
       "\n",
       "    <div>\n",
       "        <style>\n",
       "            /* Turns off some styling */\n",
       "            progress {\n",
       "                /* gets rid of default border in Firefox and Opera. */\n",
       "                border: none;\n",
       "                /* Needs to be in here for Safari polyfill so background images work as expected. */\n",
       "                background-size: auto;\n",
       "            }\n",
       "            .progress-bar-interrupted, .progress-bar-interrupted::-webkit-progress-bar {\n",
       "                background: #F44336;\n",
       "            }\n",
       "        </style>\n",
       "      <progress value='2000' class='' max='2000' style='width:300px; height:20px; vertical-align: middle;'></progress>\n",
       "      100.00% [2000/2000 00:05<00:00 Sampling chain 0, 32 divergences]\n",
       "    </div>\n",
       "    "
      ],
      "text/plain": [
       "<IPython.core.display.HTML object>"
      ]
     },
     "metadata": {},
     "output_type": "display_data"
    },
    {
     "data": {
      "text/html": [
       "\n",
       "    <div>\n",
       "        <style>\n",
       "            /* Turns off some styling */\n",
       "            progress {\n",
       "                /* gets rid of default border in Firefox and Opera. */\n",
       "                border: none;\n",
       "                /* Needs to be in here for Safari polyfill so background images work as expected. */\n",
       "                background-size: auto;\n",
       "            }\n",
       "            .progress-bar-interrupted, .progress-bar-interrupted::-webkit-progress-bar {\n",
       "                background: #F44336;\n",
       "            }\n",
       "        </style>\n",
       "      <progress value='2000' class='' max='2000' style='width:300px; height:20px; vertical-align: middle;'></progress>\n",
       "      100.00% [2000/2000 00:05<00:00 Sampling chain 1, 18 divergences]\n",
       "    </div>\n",
       "    "
      ],
      "text/plain": [
       "<IPython.core.display.HTML object>"
      ]
     },
     "metadata": {},
     "output_type": "display_data"
    },
    {
     "name": "stderr",
     "output_type": "stream",
     "text": [
      "Sampling 2 chains for 1_000 tune and 1_000 draw iterations (2_000 + 2_000 draws total) took 10 seconds.\n",
      "There were 32 divergences after tuning. Increase `target_accept` or reparameterize.\n",
      "There were 50 divergences after tuning. Increase `target_accept` or reparameterize.\n",
      "The estimated number of effective samples is smaller than 200 for some parameters.\n"
     ]
    },
    {
     "name": "stdout",
     "output_type": "stream",
     "text": [
      "[0.9799363995771755, 0.9803810072557959, 0.9803908187126689, 0.9784300000850278, 0.9786844670541247, 0.9810035461836293, 0.9789179377461045, 0.9774532557897205, 0.9801266518143599, 0.9783149845161191, 0.9793830541924712, 0.9792860072807831, 0.9809424173492645, 0.9787027846810906, 0.98072263503325, 0.9790779235692247, 0.9822890282879916, 0.9814362804615572, 0.9811586345927049, 0.9810008320099501]\n",
      "MAG\n"
     ]
    },
    {
     "name": "stderr",
     "output_type": "stream",
     "text": [
      "/usr/local/lib/python3.7/dist-packages/ipykernel_launcher.py:18: FutureWarning: In v4.0, pm.sample will return an `arviz.InferenceData` object instead of a `MultiTrace` by default. You can pass return_inferencedata=True or return_inferencedata=False to be safe and silence this warning.\n",
      "Sequential sampling (2 chains in 1 job)\n",
      "NUTS: [sigma, Intercept, slope]\n"
     ]
    },
    {
     "data": {
      "text/html": [
       "\n",
       "    <div>\n",
       "        <style>\n",
       "            /* Turns off some styling */\n",
       "            progress {\n",
       "                /* gets rid of default border in Firefox and Opera. */\n",
       "                border: none;\n",
       "                /* Needs to be in here for Safari polyfill so background images work as expected. */\n",
       "                background-size: auto;\n",
       "            }\n",
       "            .progress-bar-interrupted, .progress-bar-interrupted::-webkit-progress-bar {\n",
       "                background: #F44336;\n",
       "            }\n",
       "        </style>\n",
       "      <progress value='2000' class='' max='2000' style='width:300px; height:20px; vertical-align: middle;'></progress>\n",
       "      100.00% [2000/2000 00:04<00:00 Sampling chain 0, 78 divergences]\n",
       "    </div>\n",
       "    "
      ],
      "text/plain": [
       "<IPython.core.display.HTML object>"
      ]
     },
     "metadata": {},
     "output_type": "display_data"
    },
    {
     "data": {
      "text/html": [
       "\n",
       "    <div>\n",
       "        <style>\n",
       "            /* Turns off some styling */\n",
       "            progress {\n",
       "                /* gets rid of default border in Firefox and Opera. */\n",
       "                border: none;\n",
       "                /* Needs to be in here for Safari polyfill so background images work as expected. */\n",
       "                background-size: auto;\n",
       "            }\n",
       "            .progress-bar-interrupted, .progress-bar-interrupted::-webkit-progress-bar {\n",
       "                background: #F44336;\n",
       "            }\n",
       "        </style>\n",
       "      <progress value='2000' class='' max='2000' style='width:300px; height:20px; vertical-align: middle;'></progress>\n",
       "      100.00% [2000/2000 00:05<00:00 Sampling chain 1, 91 divergences]\n",
       "    </div>\n",
       "    "
      ],
      "text/plain": [
       "<IPython.core.display.HTML object>"
      ]
     },
     "metadata": {},
     "output_type": "display_data"
    },
    {
     "name": "stderr",
     "output_type": "stream",
     "text": [
      "Sampling 2 chains for 1_000 tune and 1_000 draw iterations (2_000 + 2_000 draws total) took 10 seconds.\n",
      "There were 78 divergences after tuning. Increase `target_accept` or reparameterize.\n",
      "The acceptance probability does not match the target. It is 0.6941616738905381, but should be close to 0.8. Try to increase the number of tuning steps.\n",
      "There were 169 divergences after tuning. Increase `target_accept` or reparameterize.\n",
      "The acceptance probability does not match the target. It is 0.7116770922454996, but should be close to 0.8. Try to increase the number of tuning steps.\n",
      "The estimated number of effective samples is smaller than 200 for some parameters.\n"
     ]
    },
    {
     "name": "stdout",
     "output_type": "stream",
     "text": [
      "[0.976153080864682, 0.9767472317114574, 0.9767101602585849, 0.9743958491912647, 0.9748088433297983, 0.9774888688103833, 0.9750203075914445, 0.9732468323711834, 0.9764392471309442, 0.9749806564708537, 0.9754864901189201, 0.9754269485806811, 0.9774337365999183, 0.9747781615257706, 0.9771958995382143, 0.975164283388055, 0.9790968106638471, 0.9779968443599235, 0.9776382189812852, 0.9774865244261769]\n",
      "OCO\n"
     ]
    },
    {
     "name": "stderr",
     "output_type": "stream",
     "text": [
      "/usr/local/lib/python3.7/dist-packages/ipykernel_launcher.py:18: FutureWarning: In v4.0, pm.sample will return an `arviz.InferenceData` object instead of a `MultiTrace` by default. You can pass return_inferencedata=True or return_inferencedata=False to be safe and silence this warning.\n",
      "Sequential sampling (2 chains in 1 job)\n",
      "NUTS: [sigma, Intercept, slope]\n"
     ]
    },
    {
     "data": {
      "text/html": [
       "\n",
       "    <div>\n",
       "        <style>\n",
       "            /* Turns off some styling */\n",
       "            progress {\n",
       "                /* gets rid of default border in Firefox and Opera. */\n",
       "                border: none;\n",
       "                /* Needs to be in here for Safari polyfill so background images work as expected. */\n",
       "                background-size: auto;\n",
       "            }\n",
       "            .progress-bar-interrupted, .progress-bar-interrupted::-webkit-progress-bar {\n",
       "                background: #F44336;\n",
       "            }\n",
       "        </style>\n",
       "      <progress value='2000' class='' max='2000' style='width:300px; height:20px; vertical-align: middle;'></progress>\n",
       "      100.00% [2000/2000 00:04<00:00 Sampling chain 0, 117 divergences]\n",
       "    </div>\n",
       "    "
      ],
      "text/plain": [
       "<IPython.core.display.HTML object>"
      ]
     },
     "metadata": {},
     "output_type": "display_data"
    },
    {
     "data": {
      "text/html": [
       "\n",
       "    <div>\n",
       "        <style>\n",
       "            /* Turns off some styling */\n",
       "            progress {\n",
       "                /* gets rid of default border in Firefox and Opera. */\n",
       "                border: none;\n",
       "                /* Needs to be in here for Safari polyfill so background images work as expected. */\n",
       "                background-size: auto;\n",
       "            }\n",
       "            .progress-bar-interrupted, .progress-bar-interrupted::-webkit-progress-bar {\n",
       "                background: #F44336;\n",
       "            }\n",
       "        </style>\n",
       "      <progress value='2000' class='' max='2000' style='width:300px; height:20px; vertical-align: middle;'></progress>\n",
       "      100.00% [2000/2000 00:04<00:00 Sampling chain 1, 14 divergences]\n",
       "    </div>\n",
       "    "
      ],
      "text/plain": [
       "<IPython.core.display.HTML object>"
      ]
     },
     "metadata": {},
     "output_type": "display_data"
    },
    {
     "name": "stderr",
     "output_type": "stream",
     "text": [
      "Sampling 2 chains for 1_000 tune and 1_000 draw iterations (2_000 + 2_000 draws total) took 9 seconds.\n",
      "There were 117 divergences after tuning. Increase `target_accept` or reparameterize.\n",
      "The acceptance probability does not match the target. It is 0.6606191333243108, but should be close to 0.8. Try to increase the number of tuning steps.\n",
      "There were 131 divergences after tuning. Increase `target_accept` or reparameterize.\n",
      "The rhat statistic is larger than 1.05 for some parameters. This indicates slight problems during sampling.\n",
      "The estimated number of effective samples is smaller than 200 for some parameters.\n"
     ]
    },
    {
     "name": "stdout",
     "output_type": "stream",
     "text": [
      "[0.985870805146587, 0.9860834761538515, 0.9861626011468729, 0.9847734121918768, 0.9847862203083811, 0.9865144346105933, 0.9850472002516796, 0.9840769717901279, 0.9859148026995425, 0.9846985200471889, 0.9854982957862554, 0.9852694122802038, 0.9864454164782377, 0.9848773856356384, 0.9862569916891231, 0.9852266943733424, 0.9872835354211088, 0.9868253762230635, 0.9866748842447268, 0.9865112167676907]\n",
      "KVY\n",
      "[0.985870805146587, 0.9860834761538515, 0.9861626011468729, 0.9847734121918768, 0.9847862203083811, 0.9865144346105933, 0.9850472002516796, 0.9840769717901279, 0.9859148026995425, 0.9846985200471889, 0.9854982957862554, 0.9852694122802038, 0.9864454164782377, 0.9848773856356384, 0.9862569916891231, 0.9852266943733424, 0.9872835354211088, 0.9868253762230635, 0.9866748842447268, 0.9865112167676907]\n",
      "GAS\n",
      "[0.985870805146587, 0.9860834761538515, 0.9861626011468729, 0.9847734121918768, 0.9847862203083811, 0.9865144346105933, 0.9850472002516796, 0.9840769717901279, 0.9859148026995425, 0.9846985200471889, 0.9854982957862554, 0.9852694122802038, 0.9864454164782377, 0.9848773856356384, 0.9862569916891231, 0.9852266943733424, 0.9872835354211088, 0.9868253762230635, 0.9866748842447268, 0.9865112167676907]\n",
      "PER\n",
      "[0.985870805146587, 0.9860834761538515, 0.9861626011468729, 0.9847734121918768, 0.9847862203083811, 0.9865144346105933, 0.9850472002516796, 0.9840769717901279, 0.9859148026995425, 0.9846985200471889, 0.9854982957862554, 0.9852694122802038, 0.9864454164782377, 0.9848773856356384, 0.9862569916891231, 0.9852266943733424, 0.9872835354211088, 0.9868253762230635, 0.9866748842447268, 0.9865112167676907]\n",
      "LEC\n"
     ]
    },
    {
     "name": "stderr",
     "output_type": "stream",
     "text": [
      "/usr/local/lib/python3.7/dist-packages/ipykernel_launcher.py:18: FutureWarning: In v4.0, pm.sample will return an `arviz.InferenceData` object instead of a `MultiTrace` by default. You can pass return_inferencedata=True or return_inferencedata=False to be safe and silence this warning.\n",
      "Sequential sampling (2 chains in 1 job)\n",
      "NUTS: [sigma, Intercept, slope]\n"
     ]
    },
    {
     "data": {
      "text/html": [
       "\n",
       "    <div>\n",
       "        <style>\n",
       "            /* Turns off some styling */\n",
       "            progress {\n",
       "                /* gets rid of default border in Firefox and Opera. */\n",
       "                border: none;\n",
       "                /* Needs to be in here for Safari polyfill so background images work as expected. */\n",
       "                background-size: auto;\n",
       "            }\n",
       "            .progress-bar-interrupted, .progress-bar-interrupted::-webkit-progress-bar {\n",
       "                background: #F44336;\n",
       "            }\n",
       "        </style>\n",
       "      <progress value='2000' class='' max='2000' style='width:300px; height:20px; vertical-align: middle;'></progress>\n",
       "      100.00% [2000/2000 00:04<00:00 Sampling chain 0, 70 divergences]\n",
       "    </div>\n",
       "    "
      ],
      "text/plain": [
       "<IPython.core.display.HTML object>"
      ]
     },
     "metadata": {},
     "output_type": "display_data"
    },
    {
     "data": {
      "text/html": [
       "\n",
       "    <div>\n",
       "        <style>\n",
       "            /* Turns off some styling */\n",
       "            progress {\n",
       "                /* gets rid of default border in Firefox and Opera. */\n",
       "                border: none;\n",
       "                /* Needs to be in here for Safari polyfill so background images work as expected. */\n",
       "                background-size: auto;\n",
       "            }\n",
       "            .progress-bar-interrupted, .progress-bar-interrupted::-webkit-progress-bar {\n",
       "                background: #F44336;\n",
       "            }\n",
       "        </style>\n",
       "      <progress value='2000' class='' max='2000' style='width:300px; height:20px; vertical-align: middle;'></progress>\n",
       "      100.00% [2000/2000 00:04<00:00 Sampling chain 1, 53 divergences]\n",
       "    </div>\n",
       "    "
      ],
      "text/plain": [
       "<IPython.core.display.HTML object>"
      ]
     },
     "metadata": {},
     "output_type": "display_data"
    },
    {
     "name": "stderr",
     "output_type": "stream",
     "text": [
      "Sampling 2 chains for 1_000 tune and 1_000 draw iterations (2_000 + 2_000 draws total) took 10 seconds.\n",
      "There were 70 divergences after tuning. Increase `target_accept` or reparameterize.\n",
      "There were 123 divergences after tuning. Increase `target_accept` or reparameterize.\n",
      "The estimated number of effective samples is smaller than 200 for some parameters.\n"
     ]
    },
    {
     "name": "stdout",
     "output_type": "stream",
     "text": [
      "[0.995166375636791, 0.995125334224416, 0.995233545729613, 0.9947574252675352, 0.9945732098847904, 0.9952602392137462, 0.9947717310396195, 0.9945139859628792, 0.9952128128564779, 0.994379723270783, 0.9950594854586635, 0.9948756642850853, 0.9952065392071703, 0.994694070732035, 0.9951037618788954, 0.9949065228394689, 0.9953379625416172, 0.9953707845345264, 0.9953732096904329, 0.995257630813993]\n",
      "VER\n"
     ]
    },
    {
     "name": "stderr",
     "output_type": "stream",
     "text": [
      "/usr/local/lib/python3.7/dist-packages/ipykernel_launcher.py:18: FutureWarning: In v4.0, pm.sample will return an `arviz.InferenceData` object instead of a `MultiTrace` by default. You can pass return_inferencedata=True or return_inferencedata=False to be safe and silence this warning.\n",
      "Sequential sampling (2 chains in 1 job)\n",
      "NUTS: [sigma, Intercept, slope]\n"
     ]
    },
    {
     "data": {
      "text/html": [
       "\n",
       "    <div>\n",
       "        <style>\n",
       "            /* Turns off some styling */\n",
       "            progress {\n",
       "                /* gets rid of default border in Firefox and Opera. */\n",
       "                border: none;\n",
       "                /* Needs to be in here for Safari polyfill so background images work as expected. */\n",
       "                background-size: auto;\n",
       "            }\n",
       "            .progress-bar-interrupted, .progress-bar-interrupted::-webkit-progress-bar {\n",
       "                background: #F44336;\n",
       "            }\n",
       "        </style>\n",
       "      <progress value='2000' class='' max='2000' style='width:300px; height:20px; vertical-align: middle;'></progress>\n",
       "      100.00% [2000/2000 00:04<00:00 Sampling chain 0, 40 divergences]\n",
       "    </div>\n",
       "    "
      ],
      "text/plain": [
       "<IPython.core.display.HTML object>"
      ]
     },
     "metadata": {},
     "output_type": "display_data"
    },
    {
     "data": {
      "text/html": [
       "\n",
       "    <div>\n",
       "        <style>\n",
       "            /* Turns off some styling */\n",
       "            progress {\n",
       "                /* gets rid of default border in Firefox and Opera. */\n",
       "                border: none;\n",
       "                /* Needs to be in here for Safari polyfill so background images work as expected. */\n",
       "                background-size: auto;\n",
       "            }\n",
       "            .progress-bar-interrupted, .progress-bar-interrupted::-webkit-progress-bar {\n",
       "                background: #F44336;\n",
       "            }\n",
       "        </style>\n",
       "      <progress value='2000' class='' max='2000' style='width:300px; height:20px; vertical-align: middle;'></progress>\n",
       "      100.00% [2000/2000 00:05<00:00 Sampling chain 1, 31 divergences]\n",
       "    </div>\n",
       "    "
      ],
      "text/plain": [
       "<IPython.core.display.HTML object>"
      ]
     },
     "metadata": {},
     "output_type": "display_data"
    },
    {
     "name": "stderr",
     "output_type": "stream",
     "text": [
      "Sampling 2 chains for 1_000 tune and 1_000 draw iterations (2_000 + 2_000 draws total) took 10 seconds.\n",
      "There were 40 divergences after tuning. Increase `target_accept` or reparameterize.\n",
      "There were 71 divergences after tuning. Increase `target_accept` or reparameterize.\n",
      "The estimated number of effective samples is smaller than 200 for some parameters.\n"
     ]
    },
    {
     "name": "stdout",
     "output_type": "stream",
     "text": [
      "[0.9987799007794458, 0.9987276674740876, 0.9987846254004265, 0.9986678723916121, 0.9985516682395638, 0.9987551983263198, 0.9986422430681033, 0.9986065409212246, 0.9987511732512967, 0.9984374029041271, 0.9987608442931656, 0.998678010895766, 0.9987301143515506, 0.9986159480053269, 0.9986897515994563, 0.9987021959275262, 0.9986898121535533, 0.9987833513428783, 0.998844863400712, 0.9987539659209037]\n",
      "BOT\n"
     ]
    },
    {
     "name": "stderr",
     "output_type": "stream",
     "text": [
      "/usr/local/lib/python3.7/dist-packages/ipykernel_launcher.py:18: FutureWarning: In v4.0, pm.sample will return an `arviz.InferenceData` object instead of a `MultiTrace` by default. You can pass return_inferencedata=True or return_inferencedata=False to be safe and silence this warning.\n",
      "Sequential sampling (2 chains in 1 job)\n",
      "NUTS: [sigma, Intercept, slope]\n"
     ]
    },
    {
     "data": {
      "text/html": [
       "\n",
       "    <div>\n",
       "        <style>\n",
       "            /* Turns off some styling */\n",
       "            progress {\n",
       "                /* gets rid of default border in Firefox and Opera. */\n",
       "                border: none;\n",
       "                /* Needs to be in here for Safari polyfill so background images work as expected. */\n",
       "                background-size: auto;\n",
       "            }\n",
       "            .progress-bar-interrupted, .progress-bar-interrupted::-webkit-progress-bar {\n",
       "                background: #F44336;\n",
       "            }\n",
       "        </style>\n",
       "      <progress value='2000' class='' max='2000' style='width:300px; height:20px; vertical-align: middle;'></progress>\n",
       "      100.00% [2000/2000 00:04<00:00 Sampling chain 0, 16 divergences]\n",
       "    </div>\n",
       "    "
      ],
      "text/plain": [
       "<IPython.core.display.HTML object>"
      ]
     },
     "metadata": {},
     "output_type": "display_data"
    },
    {
     "data": {
      "text/html": [
       "\n",
       "    <div>\n",
       "        <style>\n",
       "            /* Turns off some styling */\n",
       "            progress {\n",
       "                /* gets rid of default border in Firefox and Opera. */\n",
       "                border: none;\n",
       "                /* Needs to be in here for Safari polyfill so background images work as expected. */\n",
       "                background-size: auto;\n",
       "            }\n",
       "            .progress-bar-interrupted, .progress-bar-interrupted::-webkit-progress-bar {\n",
       "                background: #F44336;\n",
       "            }\n",
       "        </style>\n",
       "      <progress value='2000' class='' max='2000' style='width:300px; height:20px; vertical-align: middle;'></progress>\n",
       "      100.00% [2000/2000 00:04<00:00 Sampling chain 1, 16 divergences]\n",
       "    </div>\n",
       "    "
      ],
      "text/plain": [
       "<IPython.core.display.HTML object>"
      ]
     },
     "metadata": {},
     "output_type": "display_data"
    },
    {
     "name": "stderr",
     "output_type": "stream",
     "text": [
      "Sampling 2 chains for 1_000 tune and 1_000 draw iterations (2_000 + 2_000 draws total) took 10 seconds.\n",
      "There were 16 divergences after tuning. Increase `target_accept` or reparameterize.\n",
      "There were 32 divergences after tuning. Increase `target_accept` or reparameterize.\n",
      "The estimated number of effective samples is smaller than 200 for some parameters.\n"
     ]
    },
    {
     "name": "stdout",
     "output_type": "stream",
     "text": [
      "[0.9982581410559203, 0.9983412011475928, 0.9982684045919328, 0.9981012399432102, 0.9979565740419165, 0.99823724572677, 0.9980733083196957, 0.9980139852292937, 0.9982291079634427, 0.9978141790815384, 0.998228751384427, 0.9981213926904521, 0.9982050104954187, 0.9980378820286003, 0.9981519159659538, 0.9981510283766765, 0.9981709659471124, 0.9982773079417457, 0.9983553646373018, 0.9982356635860721]\n",
      "LAT\n"
     ]
    },
    {
     "name": "stderr",
     "output_type": "stream",
     "text": [
      "/usr/local/lib/python3.7/dist-packages/ipykernel_launcher.py:18: FutureWarning: In v4.0, pm.sample will return an `arviz.InferenceData` object instead of a `MultiTrace` by default. You can pass return_inferencedata=True or return_inferencedata=False to be safe and silence this warning.\n",
      "Sequential sampling (2 chains in 1 job)\n",
      "NUTS: [sigma, Intercept, slope]\n"
     ]
    },
    {
     "data": {
      "text/html": [
       "\n",
       "    <div>\n",
       "        <style>\n",
       "            /* Turns off some styling */\n",
       "            progress {\n",
       "                /* gets rid of default border in Firefox and Opera. */\n",
       "                border: none;\n",
       "                /* Needs to be in here for Safari polyfill so background images work as expected. */\n",
       "                background-size: auto;\n",
       "            }\n",
       "            .progress-bar-interrupted, .progress-bar-interrupted::-webkit-progress-bar {\n",
       "                background: #F44336;\n",
       "            }\n",
       "        </style>\n",
       "      <progress value='2000' class='' max='2000' style='width:300px; height:20px; vertical-align: middle;'></progress>\n",
       "      100.00% [2000/2000 00:04<00:00 Sampling chain 0, 79 divergences]\n",
       "    </div>\n",
       "    "
      ],
      "text/plain": [
       "<IPython.core.display.HTML object>"
      ]
     },
     "metadata": {},
     "output_type": "display_data"
    },
    {
     "data": {
      "text/html": [
       "\n",
       "    <div>\n",
       "        <style>\n",
       "            /* Turns off some styling */\n",
       "            progress {\n",
       "                /* gets rid of default border in Firefox and Opera. */\n",
       "                border: none;\n",
       "                /* Needs to be in here for Safari polyfill so background images work as expected. */\n",
       "                background-size: auto;\n",
       "            }\n",
       "            .progress-bar-interrupted, .progress-bar-interrupted::-webkit-progress-bar {\n",
       "                background: #F44336;\n",
       "            }\n",
       "        </style>\n",
       "      <progress value='2000' class='' max='2000' style='width:300px; height:20px; vertical-align: middle;'></progress>\n",
       "      100.00% [2000/2000 00:04<00:00 Sampling chain 1, 20 divergences]\n",
       "    </div>\n",
       "    "
      ],
      "text/plain": [
       "<IPython.core.display.HTML object>"
      ]
     },
     "metadata": {},
     "output_type": "display_data"
    },
    {
     "name": "stderr",
     "output_type": "stream",
     "text": [
      "Sampling 2 chains for 1_000 tune and 1_000 draw iterations (2_000 + 2_000 draws total) took 8 seconds.\n",
      "There were 79 divergences after tuning. Increase `target_accept` or reparameterize.\n",
      "There were 99 divergences after tuning. Increase `target_accept` or reparameterize.\n",
      "The estimated number of effective samples is smaller than 200 for some parameters.\n"
     ]
    },
    {
     "name": "stdout",
     "output_type": "stream",
     "text": [
      "[0.9197992986647444, 0.9253306147636964, 0.9219974028001799, 0.9148093416195466, 0.9185391503007945, 0.925611795439177, 0.9178218017841536, 0.9129387472463034, 0.9242836765265322, 0.9209062878495303, 0.9174204138542678, 0.9184194075303589, 0.9257965293249637, 0.9173269419493146, 0.9255090759811218, 0.9172781472043603, 0.9322241097733277, 0.92711684103922, 0.9260098431385491, 0.925622594078958]\n",
      "HAM\n"
     ]
    },
    {
     "name": "stderr",
     "output_type": "stream",
     "text": [
      "/usr/local/lib/python3.7/dist-packages/ipykernel_launcher.py:18: FutureWarning: In v4.0, pm.sample will return an `arviz.InferenceData` object instead of a `MultiTrace` by default. You can pass return_inferencedata=True or return_inferencedata=False to be safe and silence this warning.\n",
      "Sequential sampling (2 chains in 1 job)\n",
      "NUTS: [sigma, Intercept, slope]\n"
     ]
    },
    {
     "data": {
      "text/html": [
       "\n",
       "    <div>\n",
       "        <style>\n",
       "            /* Turns off some styling */\n",
       "            progress {\n",
       "                /* gets rid of default border in Firefox and Opera. */\n",
       "                border: none;\n",
       "                /* Needs to be in here for Safari polyfill so background images work as expected. */\n",
       "                background-size: auto;\n",
       "            }\n",
       "            .progress-bar-interrupted, .progress-bar-interrupted::-webkit-progress-bar {\n",
       "                background: #F44336;\n",
       "            }\n",
       "        </style>\n",
       "      <progress value='2000' class='' max='2000' style='width:300px; height:20px; vertical-align: middle;'></progress>\n",
       "      100.00% [2000/2000 00:04<00:00 Sampling chain 0, 10 divergences]\n",
       "    </div>\n",
       "    "
      ],
      "text/plain": [
       "<IPython.core.display.HTML object>"
      ]
     },
     "metadata": {},
     "output_type": "display_data"
    },
    {
     "data": {
      "text/html": [
       "\n",
       "    <div>\n",
       "        <style>\n",
       "            /* Turns off some styling */\n",
       "            progress {\n",
       "                /* gets rid of default border in Firefox and Opera. */\n",
       "                border: none;\n",
       "                /* Needs to be in here for Safari polyfill so background images work as expected. */\n",
       "                background-size: auto;\n",
       "            }\n",
       "            .progress-bar-interrupted, .progress-bar-interrupted::-webkit-progress-bar {\n",
       "                background: #F44336;\n",
       "            }\n",
       "        </style>\n",
       "      <progress value='2000' class='' max='2000' style='width:300px; height:20px; vertical-align: middle;'></progress>\n",
       "      100.00% [2000/2000 00:04<00:00 Sampling chain 1, 247 divergences]\n",
       "    </div>\n",
       "    "
      ],
      "text/plain": [
       "<IPython.core.display.HTML object>"
      ]
     },
     "metadata": {},
     "output_type": "display_data"
    },
    {
     "name": "stderr",
     "output_type": "stream",
     "text": [
      "Sampling 2 chains for 1_000 tune and 1_000 draw iterations (2_000 + 2_000 draws total) took 9 seconds.\n",
      "There were 10 divergences after tuning. Increase `target_accept` or reparameterize.\n",
      "There were 257 divergences after tuning. Increase `target_accept` or reparameterize.\n",
      "The acceptance probability does not match the target. It is 0.29543812769381256, but should be close to 0.8. Try to increase the number of tuning steps.\n",
      "The rhat statistic is larger than 1.05 for some parameters. This indicates slight problems during sampling.\n",
      "The estimated number of effective samples is smaller than 200 for some parameters.\n"
     ]
    },
    {
     "name": "stdout",
     "output_type": "stream",
     "text": [
      "[0.99773602151958, 0.9978495267156604, 0.9977537460808461, 0.9975351138868772, 0.9973721520080278, 0.9977024112047759, 0.9975092894100562, 0.9974512215624883, 0.997712846142292, 0.9972109672795991, 0.997694985756877, 0.997568391313584, 0.9976886323550355, 0.9974656301343782, 0.9976248477023331, 0.9976010466699848, 0.9976719616417109, 0.9977783938194971, 0.9978682595684697, 0.9977244962102967]\n"
     ]
    }
   ],
   "source": [
    "## Update for drivers sequentially and predict cutoff at each update ##\n",
    "\n",
    "Q_data = data_20_Q1 # change to data_20_Q2 for Q2\n",
    "cutoff_times = []\n",
    "times = []\n",
    "predictions = {}\n",
    "probability_of_being_safe = [0] * 20 # set original probabilities of being safe to 0 and store current calculation\n",
    "\n",
    "for idx in range(len(Q_data)): # for each new lap recorded\n",
    "\n",
    "  lap = Q_data.iloc[idx, :]\n",
    "  input = lap['Season']\n",
    "  time = lap['Time of Day']\n",
    "  driver = lap['Driver Short Name']\n",
    "  observed = lap['Full Lap']\n",
    "  print(driver)\n",
    "  driver_idx = name_to_idx[driver] # convert driver name to driver index\n",
    "\n",
    "  if current_fastest[driver_idx] > observed:\n",
    "    current_fastest[driver_idx] = observed # update fastest lap for the driver in question and update model\n",
    "\n",
    "    # if prior exists, then update weights using informative prior\n",
    "    if len(driver_prior[driver]) > 0:\n",
    "      prior = driver_prior[driver]\n",
    "      driver_prior[driver] = updateBR(input, observed, prior)\n",
    "\n",
    "    else:\n",
    "      driver_prior[driver] = fitBR(input ,observed) # use non-informative prior\n",
    "\n",
    "    # make new prediction for that driver (0 index for mean, 1 for standard deviation)\n",
    "    prediction = predict(input, driver_prior[driver])\n",
    "    current_predictions[driver_idx] = prediction[0]\n",
    "    current_pred_std[driver_idx] = prediction[1]\n",
    "\n",
    "    #probability_of_being_safe[driver_idx] = driver_safe(target_name = idx_to_name[driver_idx], target_lap = observed) # calculate the probability of the driver which has updated being safe - alternatively run this for all drivers at every update so it continually updates\n",
    "    probability_of_being_safe = update_safe_probs(probability_of_being_safe, observed)\n",
    "\n",
    "    # store all of the predictions at that time stamp - might be useful for plots later\n",
    "    predictions[time] = current_predictions, current_pred_std\n",
    "\n",
    "  times.append(time)\n",
    "  cutoff_idx = np.argsort(current_predictions)[-5] # 16th position for Q1, 11th position for Q2 - slowest 5 will not make it through in both rounds\n",
    "  cutoff_times.append(current_predictions[cutoff_idx])\n",
    "  print(probability_of_being_safe)\n"
   ]
  },
  {
   "cell_type": "code",
   "execution_count": null,
   "metadata": {
    "colab": {
     "base_uri": "https://localhost:8080/"
    },
    "id": "PXLm9xK9CSTp",
    "outputId": "8dcebdac-d2d0-466a-d656-d0e85c46859f"
   },
   "outputs": [
    {
     "name": "stdout",
     "output_type": "stream",
     "text": [
      "[65.07061581001201, 65.07061581001201, 64.83526408011979, 64.8029711701992, 64.8029711701992, 64.8029711701992, 64.8029711701992, 64.8029711701992, 64.83526408011979, 64.83526408011979, 64.83526408011979, 64.8029711701992, 64.6780676025523, 64.58627801399855, 64.58627801399855, 64.66805230320422, 64.66805230320422, 64.66805230320422, 64.55309154683148, 64.55309154683148, 64.55309154683148, 64.55309154683148, 64.52164234478495, 64.52164234478495, 64.52164234478495, 64.52164234478495, 64.52164234478495, 64.52164234478495, 64.52164234478495, 64.13909853488971, 64.13374780056988, 64.13374780056988]\n"
     ]
    }
   ],
   "source": [
    "print(cutoff_times) # Q2"
   ]
  },
  {
   "cell_type": "code",
   "execution_count": null,
   "metadata": {
    "colab": {
     "base_uri": "https://localhost:8080/"
    },
    "id": "pmuAnKD_dbuz",
    "outputId": "97e0c432-217c-4867-f140-15744f94839b"
   },
   "outputs": [
    {
     "name": "stdout",
     "output_type": "stream",
     "text": [
      "[65.5084425059258, 65.5084425059258, 65.5084425059258, 65.5084425059258, 65.5084425059258, 65.5084425059258, 65.3975762736211, 65.3975762736211, 65.3975762736211, 65.33395099062828, 65.33395099062828, 65.3975762736211, 65.3975762736211, 65.3975762736211, 65.3975762736211, 65.3975762736211, 65.3975762736211, 65.3975762736211, 65.3975762736211, 65.3975762736211, 65.3975762736211, 65.3975762736211, 65.3975762736211, 65.3975762736211, 65.3975762736211, 65.3975762736211, 65.3975762736211, 65.3975762736211, 65.3975762736211, 65.3975762736211, 65.3975762736211, 65.3975762736211, 65.3975762736211, 65.3975762736211, 65.3975762736211, 65.3975762736211, 65.3975762736211, 65.3975762736211, 65.3975762736211, 65.3975762736211, 65.3975762736211, 65.3975762736211, 65.3975762736211, 65.26475016139415, 65.26475016139415, 65.25370602553224, 65.25370602553224, 65.25370602553224, 65.25370602553224, 65.25370602553224, 65.25370602553224, 65.25370602553224, 65.25370602553224, 65.2343097046226, 65.2343097046226, 65.2343097046226, 65.2343097046226, 65.2343097046226, 65.2343097046226, 65.2343097046226, 65.21062592358355, 65.11603507505535, 65.09966004806792, 65.09966004806792, 65.09966004806792, 65.09966004806792, 65.09966004806792, 65.09966004806792, 65.09966004806792, 65.09966004806792, 65.09966004806792, 65.09966004806792]\n"
     ]
    }
   ],
   "source": [
    "print(cutoff_times) # Q1"
   ]
  },
  {
   "cell_type": "code",
   "execution_count": null,
   "metadata": {
    "colab": {
     "base_uri": "https://localhost:8080/"
    },
    "id": "irEhZgk3oARY",
    "outputId": "73e882d5-4ab4-47e9-c3f4-018c0126eff8"
   },
   "outputs": [
    {
     "name": "stdout",
     "output_type": "stream",
     "text": [
      "[65.5084425059258, 65.5084425059258, 65.58117006527992, 65.58117006527992, 65.58117006527992, 65.58117006527992, 65.5084425059258, 65.5084425059258, 65.5084425059258, 65.33395099062828, 65.33395099062828, 65.5084425059258, 65.5084425059258, 65.5084425059258, 65.5084425059258, 65.5084425059258, 65.5084425059258, 65.5084425059258, 65.5084425059258, 65.5084425059258, 65.5084425059258, 65.5084425059258, 65.5084425059258, 65.5084425059258, 65.5084425059258, 65.5084425059258, 65.5084425059258, 65.5084425059258, 65.5084425059258, 65.5084425059258, 65.5084425059258, 65.5084425059258, 65.5084425059258, 65.5084425059258, 65.5084425059258, 65.5084425059258, 65.5084425059258, 65.5084425059258, 65.5084425059258, 65.5084425059258, 65.5084425059258, 65.5084425059258, 65.51213581400748, 65.5084425059258, 65.5084425059258, 65.3399616386779, 65.3399616386779, 65.3399616386779, 65.3399616386779, 65.3399616386779, 65.3399616386779, 65.3399616386779, 65.3399616386779, 65.27033241331931, 65.27033241331931, 65.27033241331931, 65.27033241331931, 65.27033241331931, 65.27033241331931, 65.27033241331931, 65.21731701425793, 65.18004163853901, 65.12586744035949, 65.12586744035949, 65.12586744035949, 65.12586744035949, 65.12586744035949, 65.12586744035949, 65.12586744035949, 65.12586744035949, 65.12586744035949, 65.12586744035949]\n"
     ]
    }
   ],
   "source": [
    "print(cutoff_times) # Q1"
   ]
  },
  {
   "cell_type": "code",
   "execution_count": null,
   "metadata": {
    "colab": {
     "base_uri": "https://localhost:8080/"
    },
    "id": "cLg3s3nG0uQy",
    "outputId": "0b53effb-53bf-4fb6-a46d-fbd851e0fb34"
   },
   "outputs": [
    {
     "name": "stdout",
     "output_type": "stream",
     "text": [
      "15:15:26.4770000\n"
     ]
    }
   ],
   "source": [
    "print(times[-19])"
   ]
  },
  {
   "cell_type": "code",
   "execution_count": null,
   "metadata": {
    "colab": {
     "base_uri": "https://localhost:8080/"
    },
    "id": "lDjmJlL_Xf1p",
    "outputId": "acb2ed12-dfb5-4737-dbb1-69a5962d875c"
   },
   "outputs": [
    {
     "name": "stdout",
     "output_type": "stream",
     "text": [
      "65.27033241331931\n"
     ]
    }
   ],
   "source": [
    "print(cutoff_times[-19])"
   ]
  },
  {
   "cell_type": "code",
   "execution_count": null,
   "metadata": {
    "colab": {
     "base_uri": "https://localhost:8080/"
    },
    "id": "XV3Du3Enz8hy",
    "outputId": "f883b7ea-5aac-44cb-c3bb-2a7c9b677b59"
   },
   "outputs": [
    {
     "name": "stdout",
     "output_type": "stream",
     "text": [
      "[0.9320904331130021, 0.9384749700763638, 0.9287916257238303, 0.9199888190263273, 0.9390545879891183, 0.9271866418307435, 0.9289995431694759, 0.9309366221361629, 0.926761863316428, 0.9305349309520958, 0.9285028364146817, 0.9300265379843645, 0.9307574425306593, 0.9281440218062061, 0.9283400103633535, 0, 0, 0, 0, 0]\n"
     ]
    }
   ],
   "source": [
    "print(probability_of_being_safe)"
   ]
  },
  {
   "cell_type": "code",
   "execution_count": null,
   "metadata": {
    "colab": {
     "base_uri": "https://localhost:8080/"
    },
    "id": "5JY1EqH72BVB",
    "outputId": "2f7c3ba3-6a22-47b9-e68c-8c55508dd996"
   },
   "outputs": [
    {
     "name": "stdout",
     "output_type": "stream",
     "text": [
      "0.9045274335351178\n"
     ]
    }
   ],
   "source": [
    "print(probability_of_being_safe[7])"
   ]
  },
  {
   "cell_type": "code",
   "execution_count": null,
   "metadata": {
    "colab": {
     "base_uri": "https://localhost:8080/"
    },
    "id": "lUTwIOze13Xx",
    "outputId": "1d65193d-15fa-48c3-978e-86e326772919"
   },
   "outputs": [
    {
     "data": {
      "text/plain": [
       "{'ALB': 0,\n",
       " 'BOT': 1,\n",
       " 'GAS': 2,\n",
       " 'GIO': 3,\n",
       " 'GRO': 4,\n",
       " 'HAM': 5,\n",
       " 'KVY': 6,\n",
       " 'LAT': 7,\n",
       " 'LEC': 8,\n",
       " 'MAG': 9,\n",
       " 'NOR': 10,\n",
       " 'OCO': 11,\n",
       " 'PER': 12,\n",
       " 'RAI': 13,\n",
       " 'RIC': 14,\n",
       " 'RUS': 15,\n",
       " 'SAI': 16,\n",
       " 'STR': 17,\n",
       " 'VER': 18,\n",
       " 'VET': 19}"
      ]
     },
     "execution_count": 225,
     "metadata": {
      "tags": []
     },
     "output_type": "execute_result"
    }
   ],
   "source": [
    "name_to_idx"
   ]
  },
  {
   "cell_type": "code",
   "execution_count": null,
   "metadata": {
    "id": "_dREl0VQOW8L"
   },
   "outputs": [],
   "source": []
  }
 ],
 "metadata": {
  "colab": {
   "collapsed_sections": [],
   "name": "Austria BR.ipynb",
   "provenance": []
  },
  "kernelspec": {
   "display_name": "Python 3",
   "language": "python",
   "name": "python3"
  },
  "language_info": {
   "codemirror_mode": {
    "name": "ipython",
    "version": 3
   },
   "file_extension": ".py",
   "mimetype": "text/x-python",
   "name": "python",
   "nbconvert_exporter": "python",
   "pygments_lexer": "ipython3",
   "version": "3.8.3"
  }
 },
 "nbformat": 4,
 "nbformat_minor": 1
}
